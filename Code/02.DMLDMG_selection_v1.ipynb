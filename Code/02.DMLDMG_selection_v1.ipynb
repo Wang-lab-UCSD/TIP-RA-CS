{
 "cells": [
  {
   "cell_type": "code",
   "execution_count": 1,
   "id": "e836f56a-7a5d-4a27-a58e-d1d24c0aca12",
   "metadata": {},
   "outputs": [
    {
     "name": "stderr",
     "output_type": "stream",
     "text": [
      "── \u001b[1mAttaching packages\u001b[22m ───────────────────────────────────────────────────────── tidyverse 1.3.2 ──\n",
      "\u001b[32m✔\u001b[39m \u001b[34mggplot2\u001b[39m 3.4.2     \u001b[32m✔\u001b[39m \u001b[34mpurrr  \u001b[39m 1.0.1\n",
      "\u001b[32m✔\u001b[39m \u001b[34mtibble \u001b[39m 3.2.1     \u001b[32m✔\u001b[39m \u001b[34mdplyr  \u001b[39m 1.1.2\n",
      "\u001b[32m✔\u001b[39m \u001b[34mtidyr  \u001b[39m 1.3.0     \u001b[32m✔\u001b[39m \u001b[34mstringr\u001b[39m 1.5.0\n",
      "\u001b[32m✔\u001b[39m \u001b[34mreadr  \u001b[39m 2.1.3     \u001b[32m✔\u001b[39m \u001b[34mforcats\u001b[39m 0.5.2\n",
      "── \u001b[1mConflicts\u001b[22m ──────────────────────────────────────────────────────────── tidyverse_conflicts() ──\n",
      "\u001b[31m✖\u001b[39m \u001b[34mdplyr\u001b[39m::\u001b[32mfilter()\u001b[39m masks \u001b[34mstats\u001b[39m::filter()\n",
      "\u001b[31m✖\u001b[39m \u001b[34mdplyr\u001b[39m::\u001b[32mlag()\u001b[39m    masks \u001b[34mstats\u001b[39m::lag()\n",
      "Loading required package: BiocGenerics\n",
      "\n",
      "\n",
      "Attaching package: ‘BiocGenerics’\n",
      "\n",
      "\n",
      "The following object is masked from ‘package:limma’:\n",
      "\n",
      "    plotMA\n",
      "\n",
      "\n",
      "The following objects are masked from ‘package:dplyr’:\n",
      "\n",
      "    combine, intersect, setdiff, union\n",
      "\n",
      "\n",
      "The following objects are masked from ‘package:stats’:\n",
      "\n",
      "    IQR, mad, sd, var, xtabs\n",
      "\n",
      "\n",
      "The following objects are masked from ‘package:base’:\n",
      "\n",
      "    anyDuplicated, append, as.data.frame, basename, cbind, colnames,\n",
      "    dirname, do.call, duplicated, eval, evalq, Filter, Find, get, grep,\n",
      "    grepl, intersect, is.unsorted, lapply, Map, mapply, match, mget,\n",
      "    order, paste, pmax, pmax.int, pmin, pmin.int, Position, rank,\n",
      "    rbind, Reduce, rownames, sapply, setdiff, sort, table, tapply,\n",
      "    union, unique, unsplit, which.max, which.min\n",
      "\n",
      "\n",
      "Loading required package: GenomicRanges\n",
      "\n",
      "Loading required package: stats4\n",
      "\n",
      "Loading required package: S4Vectors\n",
      "\n",
      "\n",
      "Attaching package: ‘S4Vectors’\n",
      "\n",
      "\n",
      "The following objects are masked from ‘package:dplyr’:\n",
      "\n",
      "    first, rename\n",
      "\n",
      "\n",
      "The following object is masked from ‘package:tidyr’:\n",
      "\n",
      "    expand\n",
      "\n",
      "\n",
      "The following objects are masked from ‘package:base’:\n",
      "\n",
      "    expand.grid, I, unname\n",
      "\n",
      "\n",
      "Loading required package: IRanges\n",
      "\n",
      "\n",
      "Attaching package: ‘IRanges’\n",
      "\n",
      "\n",
      "The following objects are masked from ‘package:dplyr’:\n",
      "\n",
      "    collapse, desc, slice\n",
      "\n",
      "\n",
      "The following object is masked from ‘package:purrr’:\n",
      "\n",
      "    reduce\n",
      "\n",
      "\n",
      "Loading required package: GenomeInfoDb\n",
      "\n",
      "Loading required package: SummarizedExperiment\n",
      "\n",
      "Loading required package: MatrixGenerics\n",
      "\n",
      "Loading required package: matrixStats\n",
      "\n",
      "\n",
      "Attaching package: ‘matrixStats’\n",
      "\n",
      "\n",
      "The following object is masked from ‘package:dplyr’:\n",
      "\n",
      "    count\n",
      "\n",
      "\n",
      "\n",
      "Attaching package: ‘MatrixGenerics’\n",
      "\n",
      "\n",
      "The following objects are masked from ‘package:matrixStats’:\n",
      "\n",
      "    colAlls, colAnyNAs, colAnys, colAvgsPerRowSet, colCollapse,\n",
      "    colCounts, colCummaxs, colCummins, colCumprods, colCumsums,\n",
      "    colDiffs, colIQRDiffs, colIQRs, colLogSumExps, colMadDiffs,\n",
      "    colMads, colMaxs, colMeans2, colMedians, colMins, colOrderStats,\n",
      "    colProds, colQuantiles, colRanges, colRanks, colSdDiffs, colSds,\n",
      "    colSums2, colTabulates, colVarDiffs, colVars, colWeightedMads,\n",
      "    colWeightedMeans, colWeightedMedians, colWeightedSds,\n",
      "    colWeightedVars, rowAlls, rowAnyNAs, rowAnys, rowAvgsPerColSet,\n",
      "    rowCollapse, rowCounts, rowCummaxs, rowCummins, rowCumprods,\n",
      "    rowCumsums, rowDiffs, rowIQRDiffs, rowIQRs, rowLogSumExps,\n",
      "    rowMadDiffs, rowMads, rowMaxs, rowMeans2, rowMedians, rowMins,\n",
      "    rowOrderStats, rowProds, rowQuantiles, rowRanges, rowRanks,\n",
      "    rowSdDiffs, rowSds, rowSums2, rowTabulates, rowVarDiffs, rowVars,\n",
      "    rowWeightedMads, rowWeightedMeans, rowWeightedMedians,\n",
      "    rowWeightedSds, rowWeightedVars\n",
      "\n",
      "\n",
      "Loading required package: Biobase\n",
      "\n",
      "Welcome to Bioconductor\n",
      "\n",
      "    Vignettes contain introductory material; view with\n",
      "    'browseVignettes()'. To cite Bioconductor, see\n",
      "    'citation(\"Biobase\")', and for packages 'citation(\"pkgname\")'.\n",
      "\n",
      "\n",
      "\n",
      "Attaching package: ‘Biobase’\n",
      "\n",
      "\n",
      "The following object is masked from ‘package:MatrixGenerics’:\n",
      "\n",
      "    rowMedians\n",
      "\n",
      "\n",
      "The following objects are masked from ‘package:matrixStats’:\n",
      "\n",
      "    anyMissing, rowMedians\n",
      "\n",
      "\n",
      "Loading required package: Biostrings\n",
      "\n",
      "Loading required package: XVector\n",
      "\n",
      "\n",
      "Attaching package: ‘XVector’\n",
      "\n",
      "\n",
      "The following object is masked from ‘package:purrr’:\n",
      "\n",
      "    compact\n",
      "\n",
      "\n",
      "\n",
      "Attaching package: ‘Biostrings’\n",
      "\n",
      "\n",
      "The following object is masked from ‘package:base’:\n",
      "\n",
      "    strsplit\n",
      "\n",
      "\n",
      "Loading required package: bumphunter\n",
      "\n",
      "Loading required package: foreach\n",
      "\n",
      "\n",
      "Attaching package: ‘foreach’\n",
      "\n",
      "\n",
      "The following objects are masked from ‘package:purrr’:\n",
      "\n",
      "    accumulate, when\n",
      "\n",
      "\n",
      "Loading required package: iterators\n",
      "\n",
      "Loading required package: parallel\n",
      "\n",
      "Loading required package: locfit\n",
      "\n",
      "locfit 1.5-9.6 \t 2022-07-11\n",
      "\n",
      "\n",
      "Attaching package: ‘locfit’\n",
      "\n",
      "\n",
      "The following object is masked from ‘package:purrr’:\n",
      "\n",
      "    none\n",
      "\n",
      "\n",
      "Setting options('download.file.method.GEOquery'='auto')\n",
      "\n",
      "Setting options('GEOquery.inmemory.gpl'=FALSE)\n",
      "\n",
      "Loading required package: IlluminaHumanMethylation450kanno.ilmn12.hg19\n",
      "\n",
      "Loading required package: IlluminaHumanMethylationEPICanno.ilm10b4.hg19\n",
      "\n",
      "\n",
      "Attaching package: ‘IlluminaHumanMethylationEPICanno.ilm10b4.hg19’\n",
      "\n",
      "\n",
      "The following objects are masked from ‘package:IlluminaHumanMethylation450kanno.ilmn12.hg19’:\n",
      "\n",
      "    Islands.UCSC, Locations, Manifest, Other, SNPs.132CommonSingle,\n",
      "    SNPs.135CommonSingle, SNPs.137CommonSingle, SNPs.138CommonSingle,\n",
      "    SNPs.141CommonSingle, SNPs.142CommonSingle, SNPs.144CommonSingle,\n",
      "    SNPs.146CommonSingle, SNPs.147CommonSingle, SNPs.Illumina\n",
      "\n",
      "\n",
      "\n",
      "\n",
      "Loading required package: grid\n",
      "\n",
      "\n",
      "Attaching package: ‘grid’\n",
      "\n",
      "\n",
      "The following object is masked from ‘package:Biostrings’:\n",
      "\n",
      "    pattern\n",
      "\n",
      "\n",
      "Loading required package: methylumi\n",
      "\n",
      "Loading required package: scales\n",
      "\n",
      "\n",
      "Attaching package: 'scales'\n",
      "\n",
      "\n",
      "The following object is masked from 'package:purrr':\n",
      "\n",
      "    discard\n",
      "\n",
      "\n",
      "The following object is masked from 'package:readr':\n",
      "\n",
      "    col_factor\n",
      "\n",
      "\n",
      "Loading required package: reshape2\n",
      "\n",
      "\n",
      "Attaching package: 'reshape2'\n",
      "\n",
      "\n",
      "The following object is masked from 'package:tidyr':\n",
      "\n",
      "    smiths\n",
      "\n",
      "\n",
      "Loading required package: FDb.InfiniumMethylation.hg19\n",
      "\n",
      "Loading required package: GenomicFeatures\n",
      "\n",
      "Loading required package: AnnotationDbi\n",
      "\n",
      "\n",
      "Attaching package: 'AnnotationDbi'\n",
      "\n",
      "\n",
      "The following object is masked from 'package:dplyr':\n",
      "\n",
      "    select\n",
      "\n",
      "\n",
      "Loading required package: TxDb.Hsapiens.UCSC.hg19.knownGene\n",
      "\n",
      "Loading required package: org.Hs.eg.db\n",
      "\n",
      "Loading required package: lumi\n",
      "\n",
      "No methods found in package 'RSQLite' for request: 'dbListFields' when loading 'lumi'\n",
      "\n",
      "\n",
      "Attaching package: 'lumi'\n",
      "\n",
      "\n",
      "The following objects are masked from 'package:methylumi':\n",
      "\n",
      "    estimateM, getHistory\n",
      "\n",
      "\n",
      "Loading required package: ROC\n",
      "\n",
      "Loading required package: illuminaio\n",
      "\n",
      "Welcome to clipr. See ?write_clip for advisories on writing to the clipboard in R.\n",
      "\n",
      "Loading required package: rtracklayer\n",
      "\n"
     ]
    },
    {
     "name": "stdout",
     "output_type": "stream",
     "text": [
      "[1] \"done loading packages\"\n"
     ]
    }
   ],
   "source": [
    "# load packages required for analysis\n",
    "#install.packages(\"\")\n",
    "#BiocManager::install(\"\")\n",
    "\n",
    "# load packages required for analysis\n",
    "library(tidyverse)\n",
    "library(knitr)\n",
    "library(limma)\n",
    "library(minfi)\n",
    "library(RColorBrewer)\n",
    "library(missMethyl)\n",
    "library(Gviz)\n",
    "library(DMRcate)\n",
    "library(stringr)\n",
    "library(IlluminaHumanMethylationEPICmanifest)\n",
    "library(IlluminaHumanMethylationEPICanno.ilm10b4.hg19)\n",
    "library(ggplot2)\n",
    "library(ggpubr)\n",
    "library(wateRmelon)\n",
    "library(repr)\n",
    "library(GenomicRanges)\n",
    "library(diffloop)\n",
    "library(GeneOverlap)\n",
    "library(clipr)\n",
    "library(\"org.Hs.eg.db\")\n",
    "library(\"biomaRt\")\n",
    "library(\"GenomicFeatures\")\n",
    "library(\"BRGenomics\")\n",
    "\n",
    "library(tidyverse)\n",
    "library(splitstackshape)\n",
    "library(\"pheatmap\")\n",
    "\n",
    "print(\"done loading packages\")\n"
   ]
  },
  {
   "cell_type": "code",
   "execution_count": 6,
   "id": "77dfd6c0-05f2-4dbb-9aab-f61ef28d1720",
   "metadata": {},
   "outputs": [],
   "source": [
    "### import necessary variables\n",
    "project_master_dir = \"/stg3/data2/resource3/project/RA-TIP-CS\"\n",
    "\n",
    "# input\n",
    "analysis_object_fp = paste0(project_master_dir, \"/Data/Processed_Data\", \"/02.gmSet_snpQCfiltered_All_dasen.RDS\") # Female only, All Chom, yes SNP QC filtering\n",
    "donor_metadata_fp = paste0(project_master_dir, \"/Data/Metadata/TIP-CS_metadata_HIPAAcomp.csv\") \n",
    "\n",
    "\n",
    "# output directories\n",
    "dir.create(file.path(paste0(project_master_dir, \"/Analysis\")), showWarnings = FALSE)\n",
    "\n",
    "version_dir = \"/YesSNPqc_Female_Allchrom\"\n",
    "dir.create(file.path(paste0(project_master_dir, \"/Analysis\", version_dir)), showWarnings = FALSE)\n",
    "\n",
    "sampleVectors_output_dir = paste0(project_master_dir, \"/Analysis\", version_dir, \"/SampleVectors\")\n",
    "dir.create(file.path(sampleVectors_output_dir), showWarnings = FALSE)\n",
    "\n",
    "dml_output_dir = paste0(project_master_dir, \"/Analysis\", version_dir, \"/DMLs\")\n",
    "dir.create(file.path(dml_output_dir), showWarnings = FALSE)\n",
    "\n",
    "dmg_output_dir = paste0(project_master_dir, \"/Analysis\", version_dir, \"/DMGs\")\n",
    "dir.create(file.path(dmg_output_dir), showWarnings = FALSE)\n",
    "\n",
    "dataLog_fp = paste0(project_master_dir, \"/Analysis\", version_dir, \"/dataLog.txt\")"
   ]
  },
  {
   "cell_type": "code",
   "execution_count": 3,
   "id": "0d183677-d2ad-43e7-9899-b6ff63d5d63f",
   "metadata": {},
   "outputs": [],
   "source": [
    "### Perform DML Analysis\n",
    "# define matrix\n",
    "analysis_obj = readRDS(analysis_object_fp)\n",
    "analysis_df = getBeta(analysis_obj)"
   ]
  },
  {
   "cell_type": "code",
   "execution_count": 4,
   "id": "e0b26b0e-810a-4e0c-bbaa-a405820d15d9",
   "metadata": {},
   "outputs": [
    {
     "name": "stderr",
     "output_type": "stream",
     "text": [
      "\u001b[1m\u001b[22mNew names:\n",
      "\u001b[36m•\u001b[39m `` -> `...1`\n"
     ]
    },
    {
     "data": {
      "text/html": [
       "<style>\n",
       ".list-inline {list-style: none; margin:0; padding: 0}\n",
       ".list-inline>li {display: inline-block}\n",
       ".list-inline>li:not(:last-child)::after {content: \"\\00b7\"; padding: 0 .5ex}\n",
       "</style>\n",
       "<ol class=list-inline><li>382</li><li>11</li></ol>\n"
      ],
      "text/latex": [
       "\\begin{enumerate*}\n",
       "\\item 382\n",
       "\\item 11\n",
       "\\end{enumerate*}\n"
      ],
      "text/markdown": [
       "1. 382\n",
       "2. 11\n",
       "\n",
       "\n"
      ],
      "text/plain": [
       "[1] 382  11"
      ]
     },
     "metadata": {},
     "output_type": "display_data"
    },
    {
     "data": {
      "text/html": [
       "<style>\n",
       ".list-inline {list-style: none; margin:0; padding: 0}\n",
       ".list-inline>li {display: inline-block}\n",
       ".list-inline>li:not(:last-child)::after {content: \"\\00b7\"; padding: 0 .5ex}\n",
       "</style>\n",
       "<ol class=list-inline><li>381</li><li>11</li></ol>\n"
      ],
      "text/latex": [
       "\\begin{enumerate*}\n",
       "\\item 381\n",
       "\\item 11\n",
       "\\end{enumerate*}\n"
      ],
      "text/markdown": [
       "1. 381\n",
       "2. 11\n",
       "\n",
       "\n"
      ],
      "text/plain": [
       "[1] 381  11"
      ]
     },
     "metadata": {},
     "output_type": "display_data"
    }
   ],
   "source": [
    "# import data to patient mapping metadata\n",
    "master_map_df = as.data.frame(read_delim(donor_metadata_fp, delim = \"\\t\", col_names = TRUE, show_col_types = FALSE))\n",
    "dim(master_map_df)\n",
    "\n",
    "# remove samples that failed QC\n",
    "qcSample_vector = c(\"p20_ls23_Tnai_CCPpos\")\n",
    "master_map_df = master_map_df[!(master_map_df$unique_id %in% qcSample_vector), ]\n",
    "dim(master_map_df)\n"
   ]
  },
  {
   "cell_type": "code",
   "execution_count": 5,
   "id": "1d2125b8-3913-4fd8-870e-5f728b27d103",
   "metadata": {},
   "outputs": [
    {
     "data": {
      "text/html": [
       "130"
      ],
      "text/latex": [
       "130"
      ],
      "text/markdown": [
       "130"
      ],
      "text/plain": [
       "[1] 130"
      ]
     },
     "metadata": {},
     "output_type": "display_data"
    },
    {
     "data": {
      "text/html": [
       "251"
      ],
      "text/latex": [
       "251"
      ],
      "text/markdown": [
       "251"
      ],
      "text/plain": [
       "[1] 251"
      ]
     },
     "metadata": {},
     "output_type": "display_data"
    },
    {
     "data": {
      "text/html": [
       "130"
      ],
      "text/latex": [
       "130"
      ],
      "text/markdown": [
       "130"
      ],
      "text/plain": [
       "[1] 130"
      ]
     },
     "metadata": {},
     "output_type": "display_data"
    },
    {
     "data": {
      "text/html": [
       "251"
      ],
      "text/latex": [
       "251"
      ],
      "text/markdown": [
       "251"
      ],
      "text/plain": [
       "[1] 251"
      ]
     },
     "metadata": {},
     "output_type": "display_data"
    },
    {
     "data": {
      "text/html": [
       "39"
      ],
      "text/latex": [
       "39"
      ],
      "text/markdown": [
       "39"
      ],
      "text/plain": [
       "[1] 39"
      ]
     },
     "metadata": {},
     "output_type": "display_data"
    },
    {
     "data": {
      "text/html": [
       "84"
      ],
      "text/latex": [
       "84"
      ],
      "text/markdown": [
       "84"
      ],
      "text/plain": [
       "[1] 84"
      ]
     },
     "metadata": {},
     "output_type": "display_data"
    },
    {
     "data": {
      "text/html": [
       "39"
      ],
      "text/latex": [
       "39"
      ],
      "text/markdown": [
       "39"
      ],
      "text/plain": [
       "[1] 39"
      ]
     },
     "metadata": {},
     "output_type": "display_data"
    },
    {
     "data": {
      "text/html": [
       "84"
      ],
      "text/latex": [
       "84"
      ],
      "text/markdown": [
       "84"
      ],
      "text/plain": [
       "[1] 84"
      ]
     },
     "metadata": {},
     "output_type": "display_data"
    },
    {
     "data": {
      "text/html": [
       "17"
      ],
      "text/latex": [
       "17"
      ],
      "text/markdown": [
       "17"
      ],
      "text/plain": [
       "[1] 17"
      ]
     },
     "metadata": {},
     "output_type": "display_data"
    },
    {
     "data": {
      "text/html": [
       "31"
      ],
      "text/latex": [
       "31"
      ],
      "text/markdown": [
       "31"
      ],
      "text/plain": [
       "[1] 31"
      ]
     },
     "metadata": {},
     "output_type": "display_data"
    },
    {
     "data": {
      "text/html": [
       "17"
      ],
      "text/latex": [
       "17"
      ],
      "text/markdown": [
       "17"
      ],
      "text/plain": [
       "[1] 17"
      ]
     },
     "metadata": {},
     "output_type": "display_data"
    },
    {
     "data": {
      "text/html": [
       "31"
      ],
      "text/latex": [
       "31"
      ],
      "text/markdown": [
       "31"
      ],
      "text/plain": [
       "[1] 31"
      ]
     },
     "metadata": {},
     "output_type": "display_data"
    },
    {
     "data": {
      "text/html": [
       "4"
      ],
      "text/latex": [
       "4"
      ],
      "text/markdown": [
       "4"
      ],
      "text/plain": [
       "[1] 4"
      ]
     },
     "metadata": {},
     "output_type": "display_data"
    },
    {
     "data": {
      "text/html": [
       "17"
      ],
      "text/latex": [
       "17"
      ],
      "text/markdown": [
       "17"
      ],
      "text/plain": [
       "[1] 17"
      ]
     },
     "metadata": {},
     "output_type": "display_data"
    },
    {
     "data": {
      "text/html": [
       "4"
      ],
      "text/latex": [
       "4"
      ],
      "text/markdown": [
       "4"
      ],
      "text/plain": [
       "[1] 4"
      ]
     },
     "metadata": {},
     "output_type": "display_data"
    },
    {
     "data": {
      "text/html": [
       "17"
      ],
      "text/latex": [
       "17"
      ],
      "text/markdown": [
       "17"
      ],
      "text/plain": [
       "[1] 17"
      ]
     },
     "metadata": {},
     "output_type": "display_data"
    },
    {
     "data": {
      "text/html": [
       "18"
      ],
      "text/latex": [
       "18"
      ],
      "text/markdown": [
       "18"
      ],
      "text/plain": [
       "[1] 18"
      ]
     },
     "metadata": {},
     "output_type": "display_data"
    },
    {
     "data": {
      "text/html": [
       "36"
      ],
      "text/latex": [
       "36"
      ],
      "text/markdown": [
       "36"
      ],
      "text/plain": [
       "[1] 36"
      ]
     },
     "metadata": {},
     "output_type": "display_data"
    },
    {
     "data": {
      "text/html": [
       "18"
      ],
      "text/latex": [
       "18"
      ],
      "text/markdown": [
       "18"
      ],
      "text/plain": [
       "[1] 18"
      ]
     },
     "metadata": {},
     "output_type": "display_data"
    },
    {
     "data": {
      "text/html": [
       "36"
      ],
      "text/latex": [
       "36"
      ],
      "text/markdown": [
       "36"
      ],
      "text/plain": [
       "[1] 36"
      ]
     },
     "metadata": {},
     "output_type": "display_data"
    },
    {
     "data": {
      "text/html": [
       "46"
      ],
      "text/latex": [
       "46"
      ],
      "text/markdown": [
       "46"
      ],
      "text/plain": [
       "[1] 46"
      ]
     },
     "metadata": {},
     "output_type": "display_data"
    },
    {
     "data": {
      "text/html": [
       "84"
      ],
      "text/latex": [
       "84"
      ],
      "text/markdown": [
       "84"
      ],
      "text/plain": [
       "[1] 84"
      ]
     },
     "metadata": {},
     "output_type": "display_data"
    },
    {
     "data": {
      "text/html": [
       "46"
      ],
      "text/latex": [
       "46"
      ],
      "text/markdown": [
       "46"
      ],
      "text/plain": [
       "[1] 46"
      ]
     },
     "metadata": {},
     "output_type": "display_data"
    },
    {
     "data": {
      "text/html": [
       "84"
      ],
      "text/latex": [
       "84"
      ],
      "text/markdown": [
       "84"
      ],
      "text/plain": [
       "[1] 84"
      ]
     },
     "metadata": {},
     "output_type": "display_data"
    },
    {
     "data": {
      "text/html": [
       "21"
      ],
      "text/latex": [
       "21"
      ],
      "text/markdown": [
       "21"
      ],
      "text/plain": [
       "[1] 21"
      ]
     },
     "metadata": {},
     "output_type": "display_data"
    },
    {
     "data": {
      "text/html": [
       "31"
      ],
      "text/latex": [
       "31"
      ],
      "text/markdown": [
       "31"
      ],
      "text/plain": [
       "[1] 31"
      ]
     },
     "metadata": {},
     "output_type": "display_data"
    },
    {
     "data": {
      "text/html": [
       "21"
      ],
      "text/latex": [
       "21"
      ],
      "text/markdown": [
       "21"
      ],
      "text/plain": [
       "[1] 21"
      ]
     },
     "metadata": {},
     "output_type": "display_data"
    },
    {
     "data": {
      "text/html": [
       "31"
      ],
      "text/latex": [
       "31"
      ],
      "text/markdown": [
       "31"
      ],
      "text/plain": [
       "[1] 31"
      ]
     },
     "metadata": {},
     "output_type": "display_data"
    },
    {
     "data": {
      "text/html": [
       "5"
      ],
      "text/latex": [
       "5"
      ],
      "text/markdown": [
       "5"
      ],
      "text/plain": [
       "[1] 5"
      ]
     },
     "metadata": {},
     "output_type": "display_data"
    },
    {
     "data": {
      "text/html": [
       "17"
      ],
      "text/latex": [
       "17"
      ],
      "text/markdown": [
       "17"
      ],
      "text/plain": [
       "[1] 17"
      ]
     },
     "metadata": {},
     "output_type": "display_data"
    },
    {
     "data": {
      "text/html": [
       "5"
      ],
      "text/latex": [
       "5"
      ],
      "text/markdown": [
       "5"
      ],
      "text/plain": [
       "[1] 5"
      ]
     },
     "metadata": {},
     "output_type": "display_data"
    },
    {
     "data": {
      "text/html": [
       "17"
      ],
      "text/latex": [
       "17"
      ],
      "text/markdown": [
       "17"
      ],
      "text/plain": [
       "[1] 17"
      ]
     },
     "metadata": {},
     "output_type": "display_data"
    },
    {
     "data": {
      "text/html": [
       "20"
      ],
      "text/latex": [
       "20"
      ],
      "text/markdown": [
       "20"
      ],
      "text/plain": [
       "[1] 20"
      ]
     },
     "metadata": {},
     "output_type": "display_data"
    },
    {
     "data": {
      "text/html": [
       "36"
      ],
      "text/latex": [
       "36"
      ],
      "text/markdown": [
       "36"
      ],
      "text/plain": [
       "[1] 36"
      ]
     },
     "metadata": {},
     "output_type": "display_data"
    },
    {
     "data": {
      "text/html": [
       "20"
      ],
      "text/latex": [
       "20"
      ],
      "text/markdown": [
       "20"
      ],
      "text/plain": [
       "[1] 20"
      ]
     },
     "metadata": {},
     "output_type": "display_data"
    },
    {
     "data": {
      "text/html": [
       "36"
      ],
      "text/latex": [
       "36"
      ],
      "text/markdown": [
       "36"
      ],
      "text/plain": [
       "[1] 36"
      ]
     },
     "metadata": {},
     "output_type": "display_data"
    },
    {
     "data": {
      "text/html": [
       "45"
      ],
      "text/latex": [
       "45"
      ],
      "text/markdown": [
       "45"
      ],
      "text/plain": [
       "[1] 45"
      ]
     },
     "metadata": {},
     "output_type": "display_data"
    },
    {
     "data": {
      "text/html": [
       "83"
      ],
      "text/latex": [
       "83"
      ],
      "text/markdown": [
       "83"
      ],
      "text/plain": [
       "[1] 83"
      ]
     },
     "metadata": {},
     "output_type": "display_data"
    },
    {
     "data": {
      "text/html": [
       "45"
      ],
      "text/latex": [
       "45"
      ],
      "text/markdown": [
       "45"
      ],
      "text/plain": [
       "[1] 45"
      ]
     },
     "metadata": {},
     "output_type": "display_data"
    },
    {
     "data": {
      "text/html": [
       "83"
      ],
      "text/latex": [
       "83"
      ],
      "text/markdown": [
       "83"
      ],
      "text/plain": [
       "[1] 83"
      ]
     },
     "metadata": {},
     "output_type": "display_data"
    },
    {
     "data": {
      "text/html": [
       "21"
      ],
      "text/latex": [
       "21"
      ],
      "text/markdown": [
       "21"
      ],
      "text/plain": [
       "[1] 21"
      ]
     },
     "metadata": {},
     "output_type": "display_data"
    },
    {
     "data": {
      "text/html": [
       "31"
      ],
      "text/latex": [
       "31"
      ],
      "text/markdown": [
       "31"
      ],
      "text/plain": [
       "[1] 31"
      ]
     },
     "metadata": {},
     "output_type": "display_data"
    },
    {
     "data": {
      "text/html": [
       "21"
      ],
      "text/latex": [
       "21"
      ],
      "text/markdown": [
       "21"
      ],
      "text/plain": [
       "[1] 21"
      ]
     },
     "metadata": {},
     "output_type": "display_data"
    },
    {
     "data": {
      "text/html": [
       "31"
      ],
      "text/latex": [
       "31"
      ],
      "text/markdown": [
       "31"
      ],
      "text/plain": [
       "[1] 31"
      ]
     },
     "metadata": {},
     "output_type": "display_data"
    },
    {
     "data": {
      "text/html": [
       "5"
      ],
      "text/latex": [
       "5"
      ],
      "text/markdown": [
       "5"
      ],
      "text/plain": [
       "[1] 5"
      ]
     },
     "metadata": {},
     "output_type": "display_data"
    },
    {
     "data": {
      "text/html": [
       "17"
      ],
      "text/latex": [
       "17"
      ],
      "text/markdown": [
       "17"
      ],
      "text/plain": [
       "[1] 17"
      ]
     },
     "metadata": {},
     "output_type": "display_data"
    },
    {
     "data": {
      "text/html": [
       "5"
      ],
      "text/latex": [
       "5"
      ],
      "text/markdown": [
       "5"
      ],
      "text/plain": [
       "[1] 5"
      ]
     },
     "metadata": {},
     "output_type": "display_data"
    },
    {
     "data": {
      "text/html": [
       "17"
      ],
      "text/latex": [
       "17"
      ],
      "text/markdown": [
       "17"
      ],
      "text/plain": [
       "[1] 17"
      ]
     },
     "metadata": {},
     "output_type": "display_data"
    },
    {
     "data": {
      "text/html": [
       "19"
      ],
      "text/latex": [
       "19"
      ],
      "text/markdown": [
       "19"
      ],
      "text/plain": [
       "[1] 19"
      ]
     },
     "metadata": {},
     "output_type": "display_data"
    },
    {
     "data": {
      "text/html": [
       "35"
      ],
      "text/latex": [
       "35"
      ],
      "text/markdown": [
       "35"
      ],
      "text/plain": [
       "[1] 35"
      ]
     },
     "metadata": {},
     "output_type": "display_data"
    },
    {
     "data": {
      "text/html": [
       "19"
      ],
      "text/latex": [
       "19"
      ],
      "text/markdown": [
       "19"
      ],
      "text/plain": [
       "[1] 19"
      ]
     },
     "metadata": {},
     "output_type": "display_data"
    },
    {
     "data": {
      "text/html": [
       "35"
      ],
      "text/latex": [
       "35"
      ],
      "text/markdown": [
       "35"
      ],
      "text/plain": [
       "[1] 35"
      ]
     },
     "metadata": {},
     "output_type": "display_data"
    }
   ],
   "source": [
    "### Create vectors of samples by group\n",
    "# All cell-types, All diagnosis categories\n",
    "allC_allD_allS_cohort1_df = master_map_df[master_map_df$cohort == \"cohort1\", ]\n",
    "allC_allD_allS_cohort1_vector = as.vector(allC_allD_allS_cohort1_df$unique_id)\n",
    "length(allC_allD_allS_cohort1_vector)\n",
    "\n",
    "allC_allD_allS_cohort2_df = master_map_df[(master_map_df$cohort == \"cohort2\"), ]\n",
    "allC_allD_allS_cohort2_vector = as.vector(allC_allD_allS_cohort2_df$unique_id)\n",
    "length(allC_allD_allS_cohort2_vector)\n",
    "\n",
    "allC_allD_F_cohort1_df = master_map_df[master_map_df$sex == \"Female\" & master_map_df$cohort == \"cohort1\", ]\n",
    "allC_allD_F_cohort1_vector = as.vector(allC_allD_F_cohort1_df$unique_id)\n",
    "length(allC_allD_F_cohort1_vector)\n",
    "\n",
    "allC_allD_F_cohort2_df = master_map_df[master_map_df$sex == \"Female\" & (master_map_df$cohort == \"cohort2\"), ]\n",
    "allC_allD_F_cohort2_vector = as.vector(allC_allD_F_cohort2_df$unique_id)\n",
    "length(allC_allD_F_cohort2_vector)\n",
    "\n",
    "\n",
    "\n",
    "## B-Cell\n",
    "# B-Cell, All diagnosis categories\n",
    "bCell_allD_allS_cohort1_df = master_map_df[master_map_df$cell_type == \"B\" & master_map_df$cohort == \"cohort1\", ]\n",
    "bCell_allD_allS_cohort1_vector = as.vector(bCell_allD_allS_cohort1_df$unique_id)\n",
    "length(bCell_allD_allS_cohort1_vector)\n",
    "\n",
    "bCell_allD_allS_cohort2_df = master_map_df[master_map_df$cell_type == \"B\" & (master_map_df$cohort == \"cohort2\"), ]\n",
    "bCell_allD_allS_cohort2_vector = as.vector(bCell_allD_allS_cohort2_df$unique_id)\n",
    "length(bCell_allD_allS_cohort2_vector)\n",
    "\n",
    "bCell_allD_F_cohort1_df = master_map_df[master_map_df$cell_type == \"B\" & master_map_df$sex == \"Female\" & master_map_df$cohort == \"cohort1\", ]\n",
    "bCell_allD_F_cohort1_vector = as.vector(bCell_allD_F_cohort1_df$unique_id)\n",
    "length(bCell_allD_F_cohort1_vector)\n",
    "\n",
    "bCell_allD_F_cohort2_df = master_map_df[master_map_df$cell_type == \"B\" & master_map_df$sex == \"Female\" & (master_map_df$cohort == \"cohort2\"), ]\n",
    "bCell_allD_F_cohort2_vector = as.vector(bCell_allD_F_cohort2_df$unique_id)\n",
    "length(bCell_allD_F_cohort2_vector)\n",
    "\n",
    "# B-Cell, CCP-\n",
    "bCell_ccpM_allS_cohort1_df = master_map_df[master_map_df$cell_type == \"B\" & master_map_df$clinicalBaseline_status == \"CCPneg\" & master_map_df$cohort == \"cohort1\", ]\n",
    "bCell_ccpM_allS_cohort1_vector = as.vector(bCell_ccpM_allS_cohort1_df$unique_id)\n",
    "length(bCell_ccpM_allS_cohort1_vector)\n",
    "\n",
    "bCell_ccpM_allS_cohort2_df = master_map_df[master_map_df$cell_type == \"B\" & master_map_df$clinicalBaseline_status == \"CCPneg\" & (master_map_df$cohort == \"cohort2\"), ]\n",
    "bCell_ccpM_allS_cohort2_vector = as.vector(bCell_ccpM_allS_cohort2_df$unique_id)\n",
    "length(bCell_ccpM_allS_cohort2_vector)\n",
    "\n",
    "bCell_ccpM_F_cohort1_df = master_map_df[master_map_df$cell_type == \"B\" & master_map_df$clinicalBaseline_status == \"CCPneg\" & master_map_df$sex == \"Female\" & master_map_df$cohort == \"cohort1\", ]\n",
    "bCell_ccpM_F_cohort1_vector = as.vector(bCell_ccpM_F_cohort1_df$unique_id)\n",
    "length(bCell_ccpM_F_cohort1_vector)\n",
    "\n",
    "bCell_ccpM_F_cohort2_df = master_map_df[master_map_df$cell_type == \"B\" & master_map_df$clinicalBaseline_status == \"CCPneg\" & master_map_df$sex == \"Female\" & (master_map_df$cohort == \"cohort2\"), ]\n",
    "bCell_ccpM_F_cohort2_vector = as.vector(bCell_ccpM_F_cohort2_df$unique_id)\n",
    "length(bCell_ccpM_F_cohort2_vector)\n",
    "\n",
    "# B-Cell, Early RA\n",
    "bCell_era_allS_cohort1_df = master_map_df[master_map_df$cell_type == \"B\" & master_map_df$clinicalBaseline_status == \"ERA\" & master_map_df$cohort == \"cohort1\", ]\n",
    "bCell_era_allS_cohort1_vector = as.vector(bCell_era_allS_cohort1_df$unique_id)\n",
    "length(bCell_era_allS_cohort1_vector)\n",
    "\n",
    "bCell_era_allS_cohort2_df = master_map_df[master_map_df$cell_type == \"B\" & master_map_df$clinicalBaseline_status == \"ERA\" & (master_map_df$cohort == \"cohort2\"), ]\n",
    "bCell_era_allS_cohort2_vector = as.vector(bCell_era_allS_cohort2_df$unique_id)\n",
    "length(bCell_era_allS_cohort2_vector)\n",
    "\n",
    "bCell_era_F_cohort1_df = master_map_df[master_map_df$cell_type == \"B\" & master_map_df$clinicalBaseline_status == \"ERA\" & master_map_df$sex == \"Female\" & master_map_df$cohort == \"cohort1\", ]\n",
    "bCell_era_F_cohort1_vector = as.vector(bCell_era_F_cohort1_df$unique_id)\n",
    "length(bCell_era_F_cohort1_vector)\n",
    "\n",
    "bCell_era_F_cohort2_df = master_map_df[master_map_df$cell_type == \"B\" & master_map_df$clinicalBaseline_status == \"ERA\" & master_map_df$sex == \"Female\" & (master_map_df$cohort == \"cohort2\"), ]\n",
    "bCell_era_F_cohort2_vector = as.vector(bCell_era_F_cohort2_df$unique_id)\n",
    "length(bCell_era_F_cohort2_vector)\n",
    "\n",
    "# B-Cell, CCP+\n",
    "bCell_ccpP_allS_cohort1_df = master_map_df[master_map_df$cell_type == \"B\" & master_map_df$clinicalBaseline_status == \"CCPpos\" & master_map_df$cohort == \"cohort1\", ]\n",
    "bCell_ccpP_allS_cohort1_vector = as.vector(bCell_ccpP_allS_cohort1_df$unique_id)\n",
    "length(bCell_ccpP_allS_cohort1_vector)\n",
    "\n",
    "bCell_ccpP_allS_cohort2_df = master_map_df[master_map_df$cell_type == \"B\" & master_map_df$clinicalBaseline_status == \"CCPpos\" & (master_map_df$cohort == \"cohort2\"), ]\n",
    "bCell_ccpP_allS_cohort2_vector = as.vector(bCell_ccpP_allS_cohort2_df$unique_id)\n",
    "length(bCell_ccpP_allS_cohort2_vector)\n",
    "\n",
    "bCell_ccpP_F_cohort1_df = master_map_df[master_map_df$cell_type == \"B\" & master_map_df$clinicalBaseline_status == \"CCPpos\" & master_map_df$sex == \"Female\" & master_map_df$cohort == \"cohort1\", ]\n",
    "bCell_ccpP_F_cohort1_vector = as.vector(bCell_ccpP_F_cohort1_df$unique_id)\n",
    "length(bCell_ccpP_F_cohort1_vector)\n",
    "\n",
    "bCell_ccpP_F_cohort2_df = master_map_df[master_map_df$cell_type == \"B\" & master_map_df$clinicalBaseline_status == \"CCPpos\" & master_map_df$sex == \"Female\" & (master_map_df$cohort == \"cohort2\"), ]\n",
    "bCell_ccpP_F_cohort2_vector = as.vector(bCell_ccpP_F_cohort2_df$unique_id)\n",
    "length(bCell_ccpP_F_cohort2_vector)\n",
    "\n",
    "\n",
    "\n",
    "## Memory T-Cell\n",
    "# Memory T-Cell, All diagnosis categories\n",
    "tMem_allD_allS_cohort1_df = master_map_df[master_map_df$cell_type == \"Tmem\" & master_map_df$cohort == \"cohort1\", ]\n",
    "tMem_allD_allS_cohort1_vector = as.vector(tMem_allD_allS_cohort1_df$unique_id)\n",
    "length(tMem_allD_allS_cohort1_vector)\n",
    "\n",
    "tMem_allD_allS_cohort2_df = master_map_df[master_map_df$cell_type == \"Tmem\" & (master_map_df$cohort == \"cohort2\"), ]\n",
    "tMem_allD_allS_cohort2_vector = as.vector(tMem_allD_allS_cohort2_df$unique_id)\n",
    "length(tMem_allD_allS_cohort2_vector)\n",
    "\n",
    "tMem_allD_F_cohort1_df = master_map_df[master_map_df$cell_type == \"Tmem\" & master_map_df$sex == \"Female\" & master_map_df$cohort == \"cohort1\", ]\n",
    "tMem_allD_F_cohort1_vector = as.vector(tMem_allD_F_cohort1_df$unique_id)\n",
    "length(tMem_allD_F_cohort1_vector)\n",
    "\n",
    "tMem_allD_F_cohort2_df = master_map_df[master_map_df$cell_type == \"Tmem\" & master_map_df$sex == \"Female\" & (master_map_df$cohort == \"cohort2\"), ]\n",
    "tMem_allD_F_cohort2_vector = as.vector(tMem_allD_F_cohort2_df$unique_id)\n",
    "length(tMem_allD_F_cohort2_vector)\n",
    "\n",
    "# Memory T-Cell, CCP-\n",
    "tMem_ccpM_allS_cohort1_df = master_map_df[master_map_df$cell_type == \"Tmem\" & master_map_df$clinicalBaseline_status == \"CCPneg\" & master_map_df$cohort == \"cohort1\", ]\n",
    "tMem_ccpM_allS_cohort1_vector = as.vector(tMem_ccpM_allS_cohort1_df$unique_id)\n",
    "length(tMem_ccpM_allS_cohort1_vector)\n",
    "\n",
    "tMem_ccpM_allS_cohort2_df = master_map_df[master_map_df$cell_type == \"Tmem\" & master_map_df$clinicalBaseline_status == \"CCPneg\" & (master_map_df$cohort == \"cohort2\"), ]\n",
    "tMem_ccpM_allS_cohort2_vector = as.vector(tMem_ccpM_allS_cohort2_df$unique_id)\n",
    "length(tMem_ccpM_allS_cohort2_vector)\n",
    "\n",
    "tMem_ccpM_F_cohort1_df = master_map_df[master_map_df$cell_type == \"Tmem\" & master_map_df$clinicalBaseline_status == \"CCPneg\" & master_map_df$sex == \"Female\" & master_map_df$cohort == \"cohort1\", ]\n",
    "tMem_ccpM_F_cohort1_vector = as.vector(tMem_ccpM_F_cohort1_df$unique_id)\n",
    "length(tMem_ccpM_F_cohort1_vector)\n",
    "\n",
    "tMem_ccpM_F_cohort2_df = master_map_df[master_map_df$cell_type == \"Tmem\" & master_map_df$clinicalBaseline_status == \"CCPneg\" & master_map_df$sex == \"Female\" & (master_map_df$cohort == \"cohort2\"), ]\n",
    "tMem_ccpM_F_cohort2_vector = as.vector(tMem_ccpM_F_cohort2_df$unique_id)\n",
    "length(tMem_ccpM_F_cohort2_vector)\n",
    "\n",
    "# Memory T-Cell, Early RA\n",
    "tMem_era_allS_cohort1_df = master_map_df[master_map_df$cell_type == \"Tmem\" & master_map_df$clinicalBaseline_status == \"ERA\" & master_map_df$cohort == \"cohort1\", ]\n",
    "tMem_era_allS_cohort1_vector = as.vector(tMem_era_allS_cohort1_df$unique_id)\n",
    "length(tMem_era_allS_cohort1_vector)\n",
    "\n",
    "tMem_era_allS_cohort2_df = master_map_df[master_map_df$cell_type == \"Tmem\" & master_map_df$clinicalBaseline_status == \"ERA\" & (master_map_df$cohort == \"cohort2\"), ]\n",
    "tMem_era_allS_cohort2_vector = as.vector(tMem_era_allS_cohort2_df$unique_id)\n",
    "length(tMem_era_allS_cohort2_vector)\n",
    "\n",
    "tMem_era_F_cohort1_df = master_map_df[master_map_df$cell_type == \"Tmem\" & master_map_df$clinicalBaseline_status == \"ERA\" & master_map_df$sex == \"Female\" & master_map_df$cohort == \"cohort1\", ]\n",
    "tMem_era_F_cohort1_vector = as.vector(tMem_era_F_cohort1_df$unique_id)\n",
    "length(tMem_era_F_cohort1_vector)\n",
    "\n",
    "tMem_era_F_cohort2_df = master_map_df[master_map_df$cell_type == \"Tmem\" & master_map_df$clinicalBaseline_status == \"ERA\" & master_map_df$sex == \"Female\" & (master_map_df$cohort == \"cohort2\"), ]\n",
    "tMem_era_F_cohort2_vector = as.vector(tMem_era_F_cohort2_df$unique_id)\n",
    "length(tMem_era_F_cohort2_vector)\n",
    "\n",
    "# Memory T-Cell, CCP+\n",
    "tMem_ccpP_allS_cohort1_df = master_map_df[master_map_df$cell_type == \"Tmem\" & master_map_df$clinicalBaseline_status == \"CCPpos\" & master_map_df$cohort == \"cohort1\", ]\n",
    "tMem_ccpP_allS_cohort1_vector = as.vector(tMem_ccpP_allS_cohort1_df$unique_id)\n",
    "length(tMem_ccpP_allS_cohort1_vector)\n",
    "\n",
    "tMem_ccpP_allS_cohort2_df = master_map_df[master_map_df$cell_type == \"Tmem\" & master_map_df$clinicalBaseline_status == \"CCPpos\" & (master_map_df$cohort == \"cohort2\"), ]\n",
    "tMem_ccpP_allS_cohort2_vector = as.vector(tMem_ccpP_allS_cohort2_df$unique_id)\n",
    "length(tMem_ccpP_allS_cohort2_vector)\n",
    "\n",
    "tMem_ccpP_F_cohort1_df = master_map_df[master_map_df$cell_type == \"Tmem\" & master_map_df$clinicalBaseline_status == \"CCPpos\" & master_map_df$sex == \"Female\" & master_map_df$cohort == \"cohort1\", ]\n",
    "tMem_ccpP_F_cohort1_vector = as.vector(tMem_ccpP_F_cohort1_df$unique_id)\n",
    "length(tMem_ccpP_F_cohort1_vector)\n",
    "\n",
    "tMem_ccpP_F_cohort2_df = master_map_df[master_map_df$cell_type == \"Tmem\" & master_map_df$clinicalBaseline_status == \"CCPpos\" & master_map_df$sex == \"Female\" & (master_map_df$cohort == \"cohort2\"), ]\n",
    "tMem_ccpP_F_cohort2_vector = as.vector(tMem_ccpP_F_cohort2_df$unique_id)\n",
    "length(tMem_ccpP_F_cohort2_vector)\n",
    "\n",
    "\n",
    "\n",
    "## Naive T-Cell\n",
    "# Naive T-Cell, All diagnosis categories\n",
    "tNai_allD_allS_cohort1_df = master_map_df[master_map_df$cell_type == \"Tnai\" & master_map_df$cohort == \"cohort1\", ]\n",
    "tNai_allD_allS_cohort1_vector = as.vector(tNai_allD_allS_cohort1_df$unique_id)\n",
    "length(tNai_allD_allS_cohort1_vector)\n",
    "\n",
    "tNai_allD_allS_cohort2_df = master_map_df[master_map_df$cell_type == \"Tnai\" & (master_map_df$cohort == \"cohort2\"), ]\n",
    "tNai_allD_allS_cohort2_vector = as.vector(tNai_allD_allS_cohort2_df$unique_id)\n",
    "length(tNai_allD_allS_cohort2_vector)\n",
    "\n",
    "tNai_allD_F_cohort1_df = master_map_df[master_map_df$cell_type == \"Tnai\" & master_map_df$sex == \"Female\" & master_map_df$cohort == \"cohort1\", ]\n",
    "tNai_allD_F_cohort1_vector = as.vector(tNai_allD_F_cohort1_df$unique_id)\n",
    "length(tNai_allD_F_cohort1_vector)\n",
    "\n",
    "tNai_allD_F_cohort2_df = master_map_df[master_map_df$cell_type == \"Tnai\" & master_map_df$sex == \"Female\" & (master_map_df$cohort == \"cohort2\"), ]\n",
    "tNai_allD_F_cohort2_vector = as.vector(tNai_allD_F_cohort2_df$unique_id)\n",
    "length(tNai_allD_F_cohort2_vector)\n",
    "\n",
    "# Naive T-Cell, CCP-\n",
    "tNai_ccpM_allS_cohort1_df = master_map_df[master_map_df$cell_type == \"Tnai\" & master_map_df$clinicalBaseline_status == \"CCPneg\" & master_map_df$cohort == \"cohort1\", ]\n",
    "tNai_ccpM_allS_cohort1_vector = as.vector(tNai_ccpM_allS_cohort1_df$unique_id)\n",
    "length(tNai_ccpM_allS_cohort1_vector)\n",
    "\n",
    "tNai_ccpM_allS_cohort2_df = master_map_df[master_map_df$cell_type == \"Tnai\" & master_map_df$clinicalBaseline_status == \"CCPneg\" & (master_map_df$cohort == \"cohort2\"), ]\n",
    "tNai_ccpM_allS_cohort2_vector = as.vector(tNai_ccpM_allS_cohort2_df$unique_id)\n",
    "length(tNai_ccpM_allS_cohort2_vector)\n",
    "\n",
    "tNai_ccpM_F_cohort1_df = master_map_df[master_map_df$cell_type == \"Tnai\" & master_map_df$clinicalBaseline_status == \"CCPneg\" & master_map_df$sex == \"Female\" & master_map_df$cohort == \"cohort1\", ]\n",
    "tNai_ccpM_F_cohort1_vector = as.vector(tNai_ccpM_F_cohort1_df$unique_id)\n",
    "length(tNai_ccpM_F_cohort1_vector)\n",
    "\n",
    "tNai_ccpM_F_cohort2_df = master_map_df[master_map_df$cell_type == \"Tnai\" & master_map_df$clinicalBaseline_status == \"CCPneg\" & master_map_df$sex == \"Female\" & (master_map_df$cohort == \"cohort2\"), ]\n",
    "tNai_ccpM_F_cohort2_vector = as.vector(tNai_ccpM_F_cohort2_df$unique_id)\n",
    "length(tNai_ccpM_F_cohort2_vector)\n",
    "\n",
    "# Naive T-Cell, Early RA\n",
    "tNai_era_allS_cohort1_df = master_map_df[master_map_df$cell_type == \"Tnai\" & master_map_df$clinicalBaseline_status == \"ERA\" & master_map_df$cohort == \"cohort1\", ]\n",
    "tNai_era_allS_cohort1_vector = as.vector(tNai_era_allS_cohort1_df$unique_id)\n",
    "length(tNai_era_allS_cohort1_vector)\n",
    "\n",
    "tNai_era_allS_cohort2_df = master_map_df[master_map_df$cell_type == \"Tnai\" & master_map_df$clinicalBaseline_status == \"ERA\" & (master_map_df$cohort == \"cohort2\"), ]\n",
    "tNai_era_allS_cohort2_vector = as.vector(tNai_era_allS_cohort2_df$unique_id)\n",
    "length(tNai_era_allS_cohort2_vector)\n",
    "\n",
    "tNai_era_F_cohort1_df = master_map_df[master_map_df$cell_type == \"Tnai\" & master_map_df$clinicalBaseline_status == \"ERA\" & master_map_df$sex == \"Female\" & master_map_df$cohort == \"cohort1\", ]\n",
    "tNai_era_F_cohort1_vector = as.vector(tNai_era_F_cohort1_df$unique_id)\n",
    "length(tNai_era_F_cohort1_vector)\n",
    "\n",
    "tNai_era_F_cohort2_df = master_map_df[master_map_df$cell_type == \"Tnai\" & master_map_df$clinicalBaseline_status == \"ERA\" & master_map_df$sex == \"Female\" & (master_map_df$cohort == \"cohort2\"), ]\n",
    "tNai_era_F_cohort2_vector = as.vector(tNai_era_F_cohort2_df$unique_id)\n",
    "length(tNai_era_F_cohort2_vector)\n",
    "\n",
    "# Naive T-Cell, CCP+\n",
    "tNai_ccpP_allS_cohort1_df = master_map_df[master_map_df$cell_type == \"Tnai\" & master_map_df$clinicalBaseline_status == \"CCPpos\" & master_map_df$cohort == \"cohort1\", ]\n",
    "tNai_ccpP_allS_cohort1_vector = as.vector(tNai_ccpP_allS_cohort1_df$unique_id)\n",
    "length(tNai_ccpP_allS_cohort1_vector)\n",
    "\n",
    "tNai_ccpP_allS_cohort2_df = master_map_df[master_map_df$cell_type == \"Tnai\" & master_map_df$clinicalBaseline_status == \"CCPpos\" & (master_map_df$cohort == \"cohort2\"), ]\n",
    "tNai_ccpP_allS_cohort2_vector = as.vector(tNai_ccpP_allS_cohort2_df$unique_id)\n",
    "length(tNai_ccpP_allS_cohort2_vector)\n",
    "\n",
    "tNai_ccpP_F_cohort1_df = master_map_df[master_map_df$cell_type == \"Tnai\" & master_map_df$clinicalBaseline_status == \"CCPpos\" & master_map_df$sex == \"Female\" & master_map_df$cohort == \"cohort1\", ]\n",
    "tNai_ccpP_F_cohort1_vector = as.vector(tNai_ccpP_F_cohort1_df$unique_id)\n",
    "length(tNai_ccpP_F_cohort1_vector)\n",
    "\n",
    "tNai_ccpP_F_cohort2_df = master_map_df[master_map_df$cell_type == \"Tnai\" & master_map_df$clinicalBaseline_status == \"CCPpos\" & master_map_df$sex == \"Female\" & (master_map_df$cohort == \"cohort2\"), ]\n",
    "tNai_ccpP_F_cohort2_vector = as.vector(tNai_ccpP_F_cohort2_df$unique_id)\n",
    "length(tNai_ccpP_F_cohort2_vector)\n",
    "\n",
    "\n"
   ]
  },
  {
   "cell_type": "code",
   "execution_count": 6,
   "id": "da764503-a035-4922-9a78-5040cc091c9a",
   "metadata": {},
   "outputs": [],
   "source": [
    "## export\n",
    "setwd(sampleVectors_output_dir)\n",
    "\n",
    "# all cell type\n",
    "write_csv(data.frame(sort(allC_allD_allS_cohort1_vector)), \"allC_allD_allS_cohort1_vector.csv\")\n",
    "write_csv(data.frame(sort(allC_allD_allS_cohort2_vector)), \"allC_allD_allS_cohort2_vector.csv\")\n",
    "write_csv(data.frame(sort(allC_allD_F_cohort1_vector)), \"allC_allD_F_cohort1_vector.csv\")\n",
    "write_csv(data.frame(sort(allC_allD_F_cohort1_vector)), \"allC_allD_F_cohort2_vector.csv\")\n",
    "\n",
    "\n",
    "# bCell\n",
    "write_csv(data.frame(sort(bCell_allD_allS_cohort1_vector)), \"bCell_allD_allS_cohort1_vector.csv\")\n",
    "write_csv(data.frame(sort(bCell_allD_allS_cohort2_vector)), \"bCell_allD_allS_cohort2_vector.csv\")\n",
    "write_csv(data.frame(sort(bCell_allD_F_cohort1_vector)), \"bCell_allD_F_cohort1_vector.csv\")\n",
    "write_csv(data.frame(sort(bCell_allD_F_cohort2_vector)), \"bCell_allD_F_cohort2_vector.csv\")\n",
    "\n",
    "write_csv(data.frame(sort(bCell_ccpM_allS_cohort1_vector)), \"bCell_ccpM_allS_cohort1_vector.csv\")\n",
    "write_csv(data.frame(sort(bCell_ccpM_allS_cohort2_vector)), \"bCell_ccpM_allS_cohort2_vector.csv\")\n",
    "write_csv(data.frame(sort(bCell_ccpM_F_cohort1_vector)), \"bCell_ccpM_F_cohort1_vector.csv\")\n",
    "write_csv(data.frame(sort(bCell_ccpM_F_cohort2_vector)), \"bCell_ccpM_F_cohort2_vector.csv\")\n",
    "\n",
    "write_csv(data.frame(sort(bCell_era_allS_cohort1_vector)), \"bCell_era_allS_cohort1_vector.csv\")\n",
    "write_csv(data.frame(sort(bCell_era_allS_cohort2_vector)), \"bCell_era_allS_cohort2_vector.csv\")\n",
    "write_csv(data.frame(sort(bCell_era_F_cohort1_vector)), \"bCell_era_F_cohort1_vector.csv\")\n",
    "write_csv(data.frame(sort(bCell_era_F_cohort2_vector)), \"bCell_era_F_cohort2_vector.csv\")\n",
    "\n",
    "write_csv(data.frame(sort(bCell_ccpP_allS_cohort1_vector)), \"bCell_ccpP_allS_cohort1_vector.csv\")\n",
    "write_csv(data.frame(sort(bCell_ccpP_allS_cohort2_vector)), \"bCell_ccpP_allS_cohort2_vector.csv\")\n",
    "write_csv(data.frame(sort(bCell_ccpP_F_cohort1_vector)), \"bCell_ccpP_F_cohort1_vector.csv\")\n",
    "write_csv(data.frame(sort(bCell_ccpP_F_cohort2_vector)), \"bCell_ccpP_F_cohort2_vector.csv\")\n",
    "\n",
    "\n",
    "# tMem\n",
    "write_csv(data.frame(sort(tMem_allD_allS_cohort1_vector)), \"tMem_allD_allS_cohort1_vector.csv\")\n",
    "write_csv(data.frame(sort(tMem_allD_allS_cohort2_vector)), \"tMem_allD_allS_cohort2_vector.csv\")\n",
    "write_csv(data.frame(sort(tMem_allD_F_cohort1_vector)), \"tMem_allD_F_cohort1_vector.csv\")\n",
    "write_csv(data.frame(sort(tMem_allD_F_cohort2_vector)), \"tMem_allD_F_cohort2_vector.csv\")\n",
    "\n",
    "write_csv(data.frame(sort(tMem_ccpM_allS_cohort1_vector)), \"tMem_ccpM_allS_cohort1_vector.csv\")\n",
    "write_csv(data.frame(sort(tMem_ccpM_allS_cohort2_vector)), \"tMem_ccpM_allS_cohort2_vector.csv\")\n",
    "write_csv(data.frame(sort(tMem_ccpM_F_cohort1_vector)), \"tMem_ccpM_F_cohort1_vector.csv\")\n",
    "write_csv(data.frame(sort(tMem_ccpM_F_cohort2_vector)), \"tMem_ccpM_F_cohort2_vector.csv\")\n",
    "\n",
    "write_csv(data.frame(sort(tMem_era_allS_cohort1_vector)), \"tMem_era_allS_cohort1_vector.csv\")\n",
    "write_csv(data.frame(sort(tMem_era_allS_cohort2_vector)), \"tMem_era_allS_cohort2_vector.csv\")\n",
    "write_csv(data.frame(sort(tMem_era_F_cohort1_vector)), \"tMem_era_F_cohort1_vector.csv\")\n",
    "write_csv(data.frame(sort(tMem_era_F_cohort2_vector)), \"tMem_era_F_cohort2_vector.csv\")\n",
    "\n",
    "write_csv(data.frame(sort(tMem_ccpP_allS_cohort1_vector)), \"tMem_ccpP_allS_cohort1_vector.csv\")\n",
    "write_csv(data.frame(sort(tMem_ccpP_allS_cohort2_vector)), \"tMem_ccpP_allS_cohort2_vector.csv\")\n",
    "write_csv(data.frame(sort(tMem_ccpP_F_cohort1_vector)), \"tMem_ccpP_F_cohort1_vector.csv\")\n",
    "write_csv(data.frame(sort(tMem_ccpP_F_cohort2_vector)), \"tMem_ccpP_F_cohort2_vector.csv\")\n",
    "\n",
    "\n",
    "# tNai\n",
    "write_csv(data.frame(sort(tNai_allD_allS_cohort1_vector)), \"tNai_allD_allS_cohort1_vector.csv\")\n",
    "write_csv(data.frame(sort(tNai_allD_allS_cohort2_vector)), \"tNai_allD_allS_cohort2_vector.csv\")\n",
    "write_csv(data.frame(sort(tNai_allD_F_cohort1_vector)), \"tNai_allD_F_cohort1_vector.csv\")\n",
    "write_csv(data.frame(sort(tNai_allD_F_cohort2_vector)), \"tNai_allD_F_cohort2_vector.csv\")\n",
    "\n",
    "write_csv(data.frame(sort(tNai_ccpM_allS_cohort1_vector)), \"tNai_ccpM_allS_cohort1_vector.csv\")\n",
    "write_csv(data.frame(sort(tNai_ccpM_allS_cohort2_vector)), \"tNai_ccpM_allS_cohort2_vector.csv\")\n",
    "write_csv(data.frame(sort(tNai_ccpM_F_cohort1_vector)), \"tNai_ccpM_F_cohort1_vector.csv\")\n",
    "write_csv(data.frame(sort(tNai_ccpM_F_cohort2_vector)), \"tNai_ccpM_F_cohort2_vector.csv\")\n",
    "\n",
    "write_csv(data.frame(sort(tNai_era_allS_cohort1_vector)), \"tNai_era_allS_cohort1_vector.csv\")\n",
    "write_csv(data.frame(sort(tNai_era_allS_cohort2_vector)), \"tNai_era_allS_cohort2_vector.csv\")\n",
    "write_csv(data.frame(sort(tNai_era_F_cohort1_vector)), \"tNai_era_F_cohort1_vector.csv\")\n",
    "write_csv(data.frame(sort(tNai_era_F_cohort2_vector)), \"tNai_era_F_cohort2_vector.csv\")\n",
    "\n",
    "write_csv(data.frame(sort(tNai_ccpP_allS_cohort1_vector)), \"tNai_ccpP_allS_cohort1_vector.csv\")\n",
    "write_csv(data.frame(sort(tNai_ccpP_allS_cohort2_vector)), \"tNai_ccpP_allS_cohort2_vector.csv\")\n",
    "write_csv(data.frame(sort(tNai_ccpP_F_cohort1_vector)), \"tNai_ccpP_F_cohort1_vector.csv\")\n",
    "write_csv(data.frame(sort(tNai_ccpP_F_cohort2_vector)), \"tNai_ccpP_F_cohort2_vector.csv\")\n",
    "\n"
   ]
  },
  {
   "cell_type": "code",
   "execution_count": 7,
   "id": "add40c50-5cfd-4089-b674-0a32ad977932",
   "metadata": {},
   "outputs": [],
   "source": [
    "## Create vectors of relevant stats for each comparison\n",
    "## P-Value\n",
    "# B-Cell, CCP+ vs CCP-\n",
    "pVal_bCell_ccpPvccpM_allS_cohortAll_vector = apply(analysis_df, 1, function (x) t.test(x[c(bCell_ccpP_allS_cohort1_vector, bCell_ccpP_allS_cohort2_vector)], \n",
    "                                                                                                        x[c(bCell_ccpM_allS_cohort1_vector, bCell_ccpM_allS_cohort2_vector)], \n",
    "                                                                                                        alternative = \"two.sided\", paired = FALSE, var.equal = FALSE)$p.value)\n",
    "\n",
    "pVal_bCell_ccpPvccpM_allS_cohort1_vector = apply(analysis_df, 1, function (x) t.test(x[c(bCell_ccpP_allS_cohort1_vector)], x[c(bCell_ccpM_allS_cohort1_vector)], \n",
    "                                                                                                        alternative = \"two.sided\", paired = FALSE, var.equal = FALSE)$p.value)\n",
    "\n",
    "pVal_bCell_ccpPvccpM_allS_cohort2_vector = apply(analysis_df, 1, function (x) t.test(x[c(bCell_ccpP_allS_cohort2_vector)], x[c(bCell_ccpM_allS_cohort2_vector)], \n",
    "                                                                                                        alternative = \"two.sided\", paired = FALSE, var.equal = FALSE)$p.value)\n",
    "\n",
    "pVal_bCell_ccpPvccpM_F_cohortAll_vector = apply(analysis_df, 1, function (x) t.test(x[c(bCell_ccpP_F_cohort1_vector, bCell_ccpP_F_cohort2_vector)], \n",
    "                                                                                                        x[c(bCell_ccpM_F_cohort1_vector, bCell_ccpM_F_cohort2_vector)], \n",
    "                                                                                                        alternative = \"two.sided\", paired = FALSE, var.equal = FALSE)$p.value)\n",
    "\n",
    "pVal_bCell_ccpPvccpM_F_cohort1_vector = apply(analysis_df, 1, function (x) t.test(x[c(bCell_ccpP_F_cohort1_vector)], x[c(bCell_ccpM_F_cohort1_vector)], \n",
    "                                                                                                        alternative = \"two.sided\", paired = FALSE, var.equal = FALSE)$p.value)\n",
    "\n",
    "pVal_bCell_ccpPvccpM_F_cohort2_vector = apply(analysis_df, 1, function (x) t.test(x[c(bCell_ccpP_F_cohort2_vector)], x[c(bCell_ccpM_F_cohort2_vector)], \n",
    "                                                                                                        alternative = \"two.sided\", paired = FALSE, var.equal = FALSE)$p.value)\n",
    "                                                 \n",
    "\n",
    "# B-Cell, CCP+ vs ERA\n",
    "pVal_bCell_ccpPvera_allS_cohortAll_vector = apply(analysis_df, 1, function (x) t.test(x[c(bCell_ccpP_allS_cohort1_vector, bCell_ccpP_allS_cohort2_vector)], \n",
    "                                                                                                        x[c(bCell_era_allS_cohort1_vector, bCell_era_allS_cohort2_vector)], \n",
    "                                                                                                        alternative = \"two.sided\", paired = FALSE, var.equal = FALSE)$p.value)\n",
    "\n",
    "pVal_bCell_ccpPvera_allS_cohort1_vector = apply(analysis_df, 1, function (x) t.test(x[c(bCell_ccpP_allS_cohort1_vector)], x[c(bCell_era_allS_cohort1_vector)], \n",
    "                                                                                                        alternative = \"two.sided\", paired = FALSE, var.equal = FALSE)$p.value)\n",
    "\n",
    "pVal_bCell_ccpPvera_allS_cohort2_vector = apply(analysis_df, 1, function (x) t.test(x[c(bCell_ccpP_allS_cohort2_vector)], x[c(bCell_era_allS_cohort2_vector)], \n",
    "                                                                                                        alternative = \"two.sided\", paired = FALSE, var.equal = FALSE)$p.value)\n",
    "\n",
    "pVal_bCell_ccpPvera_F_cohortAll_vector = apply(analysis_df, 1, function (x) t.test(x[c(bCell_ccpP_F_cohort1_vector, bCell_ccpP_F_cohort2_vector)], \n",
    "                                                                                                        x[c(bCell_era_F_cohort1_vector, bCell_era_F_cohort2_vector)], \n",
    "                                                                                                        alternative = \"two.sided\", paired = FALSE, var.equal = FALSE)$p.value)\n",
    "\n",
    "pVal_bCell_ccpPvera_F_cohort1_vector = apply(analysis_df, 1, function (x) t.test(x[c(bCell_ccpP_F_cohort1_vector)], x[c(bCell_era_F_cohort1_vector)], \n",
    "                                                                                                        alternative = \"two.sided\", paired = FALSE, var.equal = FALSE)$p.value)\n",
    "\n",
    "pVal_bCell_ccpPvera_F_cohort2_vector = apply(analysis_df, 1, function (x) t.test(x[c(bCell_ccpP_F_cohort2_vector)], x[c(bCell_era_F_cohort2_vector)], \n",
    "                                                                                                        alternative = \"two.sided\", paired = FALSE, var.equal = FALSE)$p.value)\n",
    "\n",
    "                                             \n",
    "# B-Cell, CCP- vs ERA\n",
    "pVal_bCell_ccpMvera_allS_cohortAll_vector = apply(analysis_df, 1, function (x) t.test(x[c(bCell_ccpM_allS_cohort1_vector, bCell_ccpM_allS_cohort2_vector)], \n",
    "                                                                                                        x[c(bCell_era_allS_cohort1_vector, bCell_era_allS_cohort2_vector)], \n",
    "                                                                                                        alternative = \"two.sided\", paired = FALSE, var.equal = FALSE)$p.value)\n",
    "\n",
    "pVal_bCell_ccpMvera_allS_cohort1_vector = apply(analysis_df, 1, function (x) t.test(x[c(bCell_ccpM_allS_cohort1_vector)], x[c(bCell_era_allS_cohort1_vector)], \n",
    "                                                                                                        alternative = \"two.sided\", paired = FALSE, var.equal = FALSE)$p.value)\n",
    "\n",
    "pVal_bCell_ccpMvera_allS_cohort2_vector = apply(analysis_df, 1, function (x) t.test(x[c(bCell_ccpM_allS_cohort2_vector)], x[c(bCell_era_allS_cohort2_vector)], \n",
    "                                                                                                        alternative = \"two.sided\", paired = FALSE, var.equal = FALSE)$p.value)\n",
    "\n",
    "pVal_bCell_ccpMvera_F_cohortAll_vector = apply(analysis_df, 1, function (x) t.test(x[c(bCell_ccpM_F_cohort1_vector, bCell_ccpM_F_cohort2_vector)], \n",
    "                                                                                                        x[c(bCell_era_F_cohort1_vector, bCell_era_F_cohort2_vector)], \n",
    "                                                                                                        alternative = \"two.sided\", paired = FALSE, var.equal = FALSE)$p.value)\n",
    "\n",
    "pVal_bCell_ccpMvera_F_cohort1_vector = apply(analysis_df, 1, function (x) t.test(x[c(bCell_ccpM_F_cohort1_vector)], x[c(bCell_era_F_cohort1_vector)], \n",
    "                                                                                                        alternative = \"two.sided\", paired = FALSE, var.equal = FALSE)$p.value)\n",
    "\n",
    "pVal_bCell_ccpMvera_F_cohort2_vector = apply(analysis_df, 1, function (x) t.test(x[c(bCell_ccpM_F_cohort2_vector)], x[c(bCell_era_F_cohort2_vector)], \n",
    "                                                                                                        alternative = \"two.sided\", paired = FALSE, var.equal = FALSE)$p.value)\n",
    "\n",
    "# Memory T-Cell, CCP+ vs CCP-\n",
    "pVal_tMem_ccpPvccpM_allS_cohortAll_vector = apply(analysis_df, 1, function (x) t.test(x[c(tMem_ccpP_allS_cohort1_vector, tMem_ccpP_allS_cohort2_vector)], \n",
    "                                                                                                        x[c(tMem_ccpM_allS_cohort1_vector, tMem_ccpM_allS_cohort2_vector)], \n",
    "                                                                                                        alternative = \"two.sided\", paired = FALSE, var.equal = FALSE)$p.value)\n",
    "\n",
    "pVal_tMem_ccpPvccpM_allS_cohort1_vector = apply(analysis_df, 1, function (x) t.test(x[c(tMem_ccpP_allS_cohort1_vector)], x[c(tMem_ccpM_allS_cohort1_vector)], \n",
    "                                                                                                        alternative = \"two.sided\", paired = FALSE, var.equal = FALSE)$p.value)\n",
    "\n",
    "pVal_tMem_ccpPvccpM_allS_cohort2_vector = apply(analysis_df, 1, function (x) t.test(x[c(tMem_ccpP_allS_cohort2_vector)], x[c(tMem_ccpM_allS_cohort2_vector)], \n",
    "                                                                                                        alternative = \"two.sided\", paired = FALSE, var.equal = FALSE)$p.value)\n",
    "\n",
    "pVal_tMem_ccpPvccpM_F_cohortAll_vector = apply(analysis_df, 1, function (x) t.test(x[c(tMem_ccpP_F_cohort1_vector, tMem_ccpP_F_cohort2_vector)], \n",
    "                                                                                                        x[c(tMem_ccpM_F_cohort1_vector, tMem_ccpM_F_cohort2_vector)], \n",
    "                                                                                                        alternative = \"two.sided\", paired = FALSE, var.equal = FALSE)$p.value)\n",
    "\n",
    "pVal_tMem_ccpPvccpM_F_cohort1_vector = apply(analysis_df, 1, function (x) t.test(x[c(tMem_ccpP_F_cohort1_vector)], x[c(tMem_ccpM_F_cohort1_vector)], \n",
    "                                                                                                        alternative = \"two.sided\", paired = FALSE, var.equal = FALSE)$p.value)\n",
    "\n",
    "pVal_tMem_ccpPvccpM_F_cohort2_vector = apply(analysis_df, 1, function (x) t.test(x[c(tMem_ccpP_F_cohort2_vector)], x[c(tMem_ccpM_F_cohort2_vector)], \n",
    "                                                                                                        alternative = \"two.sided\", paired = FALSE, var.equal = FALSE)$p.value)\n",
    "                                                 \n",
    "\n",
    "# Memory T-Cell, CCP+ vs ERA\n",
    "pVal_tMem_ccpPvera_allS_cohortAll_vector = apply(analysis_df, 1, function (x) t.test(x[c(tMem_ccpP_allS_cohort1_vector, tMem_ccpP_allS_cohort2_vector)], \n",
    "                                                                                                        x[c(tMem_era_allS_cohort1_vector, tMem_era_allS_cohort2_vector)], \n",
    "                                                                                                        alternative = \"two.sided\", paired = FALSE, var.equal = FALSE)$p.value)\n",
    "\n",
    "pVal_tMem_ccpPvera_allS_cohort1_vector = apply(analysis_df, 1, function (x) t.test(x[c(tMem_ccpP_allS_cohort1_vector)], x[c(tMem_era_allS_cohort1_vector)], \n",
    "                                                                                                        alternative = \"two.sided\", paired = FALSE, var.equal = FALSE)$p.value)\n",
    "\n",
    "pVal_tMem_ccpPvera_allS_cohort2_vector = apply(analysis_df, 1, function (x) t.test(x[c(tMem_ccpP_allS_cohort2_vector)], x[c(tMem_era_allS_cohort2_vector)], \n",
    "                                                                                                        alternative = \"two.sided\", paired = FALSE, var.equal = FALSE)$p.value)\n",
    "\n",
    "pVal_tMem_ccpPvera_F_cohortAll_vector = apply(analysis_df, 1, function (x) t.test(x[c(tMem_ccpP_F_cohort1_vector, tMem_ccpP_F_cohort2_vector)], \n",
    "                                                                                                        x[c(tMem_era_F_cohort1_vector, tMem_era_F_cohort2_vector)], \n",
    "                                                                                                        alternative = \"two.sided\", paired = FALSE, var.equal = FALSE)$p.value)\n",
    "\n",
    "pVal_tMem_ccpPvera_F_cohort1_vector = apply(analysis_df, 1, function (x) t.test(x[c(tMem_ccpP_F_cohort1_vector)], x[c(tMem_era_F_cohort1_vector)], \n",
    "                                                                                                        alternative = \"two.sided\", paired = FALSE, var.equal = FALSE)$p.value)\n",
    "\n",
    "pVal_tMem_ccpPvera_F_cohort2_vector = apply(analysis_df, 1, function (x) t.test(x[c(tMem_ccpP_F_cohort2_vector)], x[c(tMem_era_F_cohort2_vector)], \n",
    "                                                                                                        alternative = \"two.sided\", paired = FALSE, var.equal = FALSE)$p.value)\n",
    "\n",
    "                                             \n",
    "# Memory T-Cell, CCP- vs ERA\n",
    "pVal_tMem_ccpMvera_allS_cohortAll_vector = apply(analysis_df, 1, function (x) t.test(x[c(tMem_ccpM_allS_cohort1_vector, tMem_ccpM_allS_cohort2_vector)], \n",
    "                                                                                                        x[c(tMem_era_allS_cohort1_vector, tMem_era_allS_cohort2_vector)], \n",
    "                                                                                                        alternative = \"two.sided\", paired = FALSE, var.equal = FALSE)$p.value)\n",
    "\n",
    "pVal_tMem_ccpMvera_allS_cohort1_vector = apply(analysis_df, 1, function (x) t.test(x[c(tMem_ccpM_allS_cohort1_vector)], x[c(tMem_era_allS_cohort1_vector)], \n",
    "                                                                                                        alternative = \"two.sided\", paired = FALSE, var.equal = FALSE)$p.value)\n",
    "\n",
    "pVal_tMem_ccpMvera_allS_cohort2_vector = apply(analysis_df, 1, function (x) t.test(x[c(tMem_ccpM_allS_cohort2_vector)], x[c(tMem_era_allS_cohort2_vector)], \n",
    "                                                                                                        alternative = \"two.sided\", paired = FALSE, var.equal = FALSE)$p.value)\n",
    "\n",
    "pVal_tMem_ccpMvera_F_cohortAll_vector = apply(analysis_df, 1, function (x) t.test(x[c(tMem_ccpM_F_cohort1_vector, tMem_ccpM_F_cohort2_vector)], \n",
    "                                                                                                        x[c(tMem_era_F_cohort1_vector, tMem_era_F_cohort2_vector)], \n",
    "                                                                                                        alternative = \"two.sided\", paired = FALSE, var.equal = FALSE)$p.value)\n",
    "\n",
    "pVal_tMem_ccpMvera_F_cohort1_vector = apply(analysis_df, 1, function (x) t.test(x[c(tMem_ccpM_F_cohort1_vector)], x[c(tMem_era_F_cohort1_vector)], \n",
    "                                                                                                        alternative = \"two.sided\", paired = FALSE, var.equal = FALSE)$p.value)\n",
    "\n",
    "pVal_tMem_ccpMvera_F_cohort2_vector = apply(analysis_df, 1, function (x) t.test(x[c(tMem_ccpM_F_cohort2_vector)], x[c(tMem_era_F_cohort2_vector)], \n",
    "                                                                                                        alternative = \"two.sided\", paired = FALSE, var.equal = FALSE)$p.value)\n",
    "\n",
    "# Naive T-Cell, CCP+ vs CCP-\n",
    "pVal_tNai_ccpPvccpM_allS_cohortAll_vector = apply(analysis_df, 1, function (x) t.test(x[c(tNai_ccpP_allS_cohort1_vector, tNai_ccpP_allS_cohort2_vector)], \n",
    "                                                                                                        x[c(tNai_ccpM_allS_cohort1_vector, tNai_ccpM_allS_cohort2_vector)], \n",
    "                                                                                                        alternative = \"two.sided\", paired = FALSE, var.equal = FALSE)$p.value)\n",
    "\n",
    "pVal_tNai_ccpPvccpM_allS_cohort1_vector = apply(analysis_df, 1, function (x) t.test(x[c(tNai_ccpP_allS_cohort1_vector)], x[c(tNai_ccpM_allS_cohort1_vector)], \n",
    "                                                                                                        alternative = \"two.sided\", paired = FALSE, var.equal = FALSE)$p.value)\n",
    "\n",
    "pVal_tNai_ccpPvccpM_allS_cohort2_vector = apply(analysis_df, 1, function (x) t.test(x[c(tNai_ccpP_allS_cohort2_vector)], x[c(tNai_ccpM_allS_cohort2_vector)], \n",
    "                                                                                                        alternative = \"two.sided\", paired = FALSE, var.equal = FALSE)$p.value)\n",
    "\n",
    "pVal_tNai_ccpPvccpM_F_cohortAll_vector = apply(analysis_df, 1, function (x) t.test(x[c(tNai_ccpP_F_cohort1_vector, tNai_ccpP_F_cohort2_vector)], \n",
    "                                                                                                        x[c(tNai_ccpM_F_cohort1_vector, tNai_ccpM_F_cohort2_vector)], \n",
    "                                                                                                        alternative = \"two.sided\", paired = FALSE, var.equal = FALSE)$p.value)\n",
    "\n",
    "pVal_tNai_ccpPvccpM_F_cohort1_vector = apply(analysis_df, 1, function (x) t.test(x[c(tNai_ccpP_F_cohort1_vector)], x[c(tNai_ccpM_F_cohort1_vector)], \n",
    "                                                                                                        alternative = \"two.sided\", paired = FALSE, var.equal = FALSE)$p.value)\n",
    "\n",
    "pVal_tNai_ccpPvccpM_F_cohort2_vector = apply(analysis_df, 1, function (x) t.test(x[c(tNai_ccpP_F_cohort2_vector)], x[c(tNai_ccpM_F_cohort2_vector)], \n",
    "                                                                                                        alternative = \"two.sided\", paired = FALSE, var.equal = FALSE)$p.value)\n",
    "                                                 \n",
    "\n",
    "# Naive T-Cell, CCP+ vs ERA\n",
    "pVal_tNai_ccpPvera_allS_cohortAll_vector = apply(analysis_df, 1, function (x) t.test(x[c(tNai_ccpP_allS_cohort1_vector, tNai_ccpP_allS_cohort2_vector)], \n",
    "                                                                                                        x[c(tNai_era_allS_cohort1_vector, tNai_era_allS_cohort2_vector)], \n",
    "                                                                                                        alternative = \"two.sided\", paired = FALSE, var.equal = FALSE)$p.value)\n",
    "\n",
    "pVal_tNai_ccpPvera_allS_cohort1_vector = apply(analysis_df, 1, function (x) t.test(x[c(tNai_ccpP_allS_cohort1_vector)], x[c(tNai_era_allS_cohort1_vector)], \n",
    "                                                                                                        alternative = \"two.sided\", paired = FALSE, var.equal = FALSE)$p.value)\n",
    "\n",
    "pVal_tNai_ccpPvera_allS_cohort2_vector = apply(analysis_df, 1, function (x) t.test(x[c(tNai_ccpP_allS_cohort2_vector)], x[c(tNai_era_allS_cohort2_vector)], \n",
    "                                                                                                        alternative = \"two.sided\", paired = FALSE, var.equal = FALSE)$p.value)\n",
    "\n",
    "pVal_tNai_ccpPvera_F_cohortAll_vector = apply(analysis_df, 1, function (x) t.test(x[c(tNai_ccpP_F_cohort1_vector, tNai_ccpP_F_cohort2_vector)], \n",
    "                                                                                                        x[c(tNai_era_F_cohort1_vector, tNai_era_F_cohort2_vector)], \n",
    "                                                                                                        alternative = \"two.sided\", paired = FALSE, var.equal = FALSE)$p.value)\n",
    "\n",
    "pVal_tNai_ccpPvera_F_cohort1_vector = apply(analysis_df, 1, function (x) t.test(x[c(tNai_ccpP_F_cohort1_vector)], x[c(tNai_era_F_cohort1_vector)], \n",
    "                                                                                                        alternative = \"two.sided\", paired = FALSE, var.equal = FALSE)$p.value)\n",
    "\n",
    "pVal_tNai_ccpPvera_F_cohort2_vector = apply(analysis_df, 1, function (x) t.test(x[c(tNai_ccpP_F_cohort2_vector)], x[c(tNai_era_F_cohort2_vector)], \n",
    "                                                                                                        alternative = \"two.sided\", paired = FALSE, var.equal = FALSE)$p.value)\n",
    "\n",
    "                                             \n",
    "# Naive T-Cell, CCP- vs ERA\n",
    "pVal_tNai_ccpMvera_allS_cohortAll_vector = apply(analysis_df, 1, function (x) t.test(x[c(tNai_ccpM_allS_cohort1_vector, tNai_ccpM_allS_cohort2_vector)], \n",
    "                                                                                                        x[c(tNai_era_allS_cohort1_vector, tNai_era_allS_cohort2_vector)], \n",
    "                                                                                                        alternative = \"two.sided\", paired = FALSE, var.equal = FALSE)$p.value)\n",
    "\n",
    "pVal_tNai_ccpMvera_allS_cohort1_vector = apply(analysis_df, 1, function (x) t.test(x[c(tNai_ccpM_allS_cohort1_vector)], x[c(tNai_era_allS_cohort1_vector)], \n",
    "                                                                                                        alternative = \"two.sided\", paired = FALSE, var.equal = FALSE)$p.value)\n",
    "\n",
    "pVal_tNai_ccpMvera_allS_cohort2_vector = apply(analysis_df, 1, function (x) t.test(x[c(tNai_ccpM_allS_cohort2_vector)], x[c(tNai_era_allS_cohort2_vector)], \n",
    "                                                                                                        alternative = \"two.sided\", paired = FALSE, var.equal = FALSE)$p.value)\n",
    "\n",
    "pVal_tNai_ccpMvera_F_cohortAll_vector = apply(analysis_df, 1, function (x) t.test(x[c(tNai_ccpM_F_cohort1_vector, tNai_ccpM_F_cohort2_vector)], \n",
    "                                                                                                        x[c(tNai_era_F_cohort1_vector, tNai_era_F_cohort2_vector)], \n",
    "                                                                                                        alternative = \"two.sided\", paired = FALSE, var.equal = FALSE)$p.value)\n",
    "\n",
    "pVal_tNai_ccpMvera_F_cohort1_vector = apply(analysis_df, 1, function (x) t.test(x[c(tNai_ccpM_F_cohort1_vector)], x[c(tNai_era_F_cohort1_vector)], \n",
    "                                                                                                        alternative = \"two.sided\", paired = FALSE, var.equal = FALSE)$p.value)\n",
    "\n",
    "pVal_tNai_ccpMvera_F_cohort2_vector = apply(analysis_df, 1, function (x) t.test(x[c(tNai_ccpM_F_cohort2_vector)], x[c(tNai_era_F_cohort2_vector)], \n",
    "                                                                                                        alternative = \"two.sided\", paired = FALSE, var.equal = FALSE)$p.value)\n",
    "                                             "
   ]
  },
  {
   "cell_type": "code",
   "execution_count": 8,
   "id": "4e052718-14c0-4eb7-a215-427e53bf73a7",
   "metadata": {},
   "outputs": [],
   "source": [
    "## Create vectors of relevant stats for each comparison\n",
    "## Beta Average Difference\n",
    "# B-Cell, CCP+ vs CCP-\n",
    "bDif_bCell_ccpPvccpM_allS_cohortAll_vector = rowMeans(analysis_df[, c(bCell_ccpP_allS_cohort1_vector, bCell_ccpP_allS_cohort2_vector)]) - rowMeans(analysis_df[, c(bCell_ccpM_allS_cohort1_vector, bCell_ccpM_allS_cohort2_vector)])\n",
    "bDif_bCell_ccpPvccpM_allS_cohort1_vector = rowMeans(analysis_df[, c(bCell_ccpP_allS_cohort1_vector)]) - rowMeans(analysis_df[, c(bCell_ccpM_allS_cohort1_vector)])\n",
    "bDif_bCell_ccpPvccpM_allS_cohort2_vector = rowMeans(analysis_df[, c(bCell_ccpP_allS_cohort2_vector)]) - rowMeans(analysis_df[, c(bCell_ccpM_allS_cohort2_vector)])\n",
    "\n",
    "bDif_bCell_ccpPvccpM_F_cohortAll_vector = rowMeans(analysis_df[, c(bCell_ccpP_F_cohort1_vector, bCell_ccpP_F_cohort2_vector)]) - rowMeans(analysis_df[, c(bCell_ccpM_F_cohort1_vector, bCell_ccpM_F_cohort2_vector)])\n",
    "bDif_bCell_ccpPvccpM_F_cohort1_vector = rowMeans(analysis_df[, c(bCell_ccpP_F_cohort1_vector)]) - rowMeans(analysis_df[, c(bCell_ccpM_F_cohort1_vector)])\n",
    "bDif_bCell_ccpPvccpM_F_cohort2_vector = rowMeans(analysis_df[, c(bCell_ccpP_F_cohort2_vector)]) - rowMeans(analysis_df[, c(bCell_ccpM_F_cohort2_vector)])\n",
    "\n",
    "# B-Cell, CCP+ vs ERA\n",
    "bDif_bCell_ccpPvera_allS_cohortAll_vector = rowMeans(analysis_df[, c(bCell_ccpP_allS_cohort1_vector, bCell_ccpP_allS_cohort2_vector)]) - rowMeans(analysis_df[, c(bCell_era_allS_cohort1_vector, bCell_era_allS_cohort2_vector)])\n",
    "bDif_bCell_ccpPvera_allS_cohort1_vector = rowMeans(analysis_df[, c(bCell_ccpP_allS_cohort1_vector)]) - rowMeans(analysis_df[, c(bCell_era_allS_cohort1_vector)])\n",
    "bDif_bCell_ccpPvera_allS_cohort2_vector = rowMeans(analysis_df[, c(bCell_ccpP_allS_cohort2_vector)]) - rowMeans(analysis_df[, c(bCell_era_allS_cohort2_vector)])\n",
    "\n",
    "bDif_bCell_ccpPvera_F_cohortAll_vector = rowMeans(analysis_df[, c(bCell_ccpP_F_cohort1_vector, bCell_ccpP_F_cohort2_vector)]) - rowMeans(analysis_df[, c(bCell_era_F_cohort1_vector, bCell_era_F_cohort2_vector)])\n",
    "bDif_bCell_ccpPvera_F_cohort1_vector = rowMeans(analysis_df[, c(bCell_ccpP_F_cohort1_vector)]) - rowMeans(analysis_df[, c(bCell_era_F_cohort1_vector)])\n",
    "bDif_bCell_ccpPvera_F_cohort2_vector = rowMeans(analysis_df[, c(bCell_ccpP_F_cohort2_vector)]) - rowMeans(analysis_df[, c(bCell_era_F_cohort2_vector)])\n",
    "                                             \n",
    "# B-Cell, CCP- vs ERA\n",
    "bDif_bCell_ccpMvera_allS_cohortAll_vector = rowMeans(analysis_df[, c(bCell_ccpM_allS_cohort1_vector, bCell_ccpM_allS_cohort2_vector)]) - rowMeans(analysis_df[, c(bCell_era_allS_cohort1_vector, bCell_era_allS_cohort2_vector)])\n",
    "bDif_bCell_ccpMvera_allS_cohort1_vector = rowMeans(analysis_df[, c(bCell_ccpM_allS_cohort1_vector)]) - rowMeans(analysis_df[, c(bCell_era_allS_cohort1_vector)])\n",
    "bDif_bCell_ccpMvera_allS_cohort2_vector = rowMeans(analysis_df[, c(bCell_ccpM_allS_cohort2_vector)]) - rowMeans(analysis_df[, c(bCell_era_allS_cohort2_vector)])\n",
    "\n",
    "bDif_bCell_ccpMvera_F_cohortAll_vector = rowMeans(analysis_df[, c(bCell_ccpM_F_cohort1_vector, bCell_ccpM_F_cohort2_vector)]) - rowMeans(analysis_df[, c(bCell_era_F_cohort1_vector, bCell_era_F_cohort2_vector)])\n",
    "bDif_bCell_ccpMvera_F_cohort1_vector = rowMeans(analysis_df[, c(bCell_ccpM_F_cohort1_vector)]) - rowMeans(analysis_df[, c(bCell_era_F_cohort1_vector)])\n",
    "bDif_bCell_ccpMvera_F_cohort2_vector = rowMeans(analysis_df[, c(bCell_ccpM_F_cohort2_vector)]) - rowMeans(analysis_df[, c(bCell_era_F_cohort2_vector)])\n",
    "\n",
    "\n",
    "# Memory T-Cell, CCP+ vs CCP-\n",
    "bDif_tMem_ccpPvccpM_allS_cohortAll_vector = rowMeans(analysis_df[, c(tMem_ccpP_allS_cohort1_vector, tMem_ccpP_allS_cohort2_vector)]) - rowMeans(analysis_df[, c(tMem_ccpM_allS_cohort1_vector, tMem_ccpM_allS_cohort2_vector)])\n",
    "bDif_tMem_ccpPvccpM_allS_cohort1_vector = rowMeans(analysis_df[, c(tMem_ccpP_allS_cohort1_vector)]) - rowMeans(analysis_df[, c(tMem_ccpM_allS_cohort1_vector)])\n",
    "bDif_tMem_ccpPvccpM_allS_cohort2_vector = rowMeans(analysis_df[, c(tMem_ccpP_allS_cohort2_vector)]) - rowMeans(analysis_df[, c(tMem_ccpM_allS_cohort2_vector)])\n",
    "\n",
    "bDif_tMem_ccpPvccpM_F_cohortAll_vector = rowMeans(analysis_df[, c(tMem_ccpP_F_cohort1_vector, tMem_ccpP_F_cohort2_vector)]) - rowMeans(analysis_df[, c(tMem_ccpM_F_cohort1_vector, tMem_ccpM_F_cohort2_vector)])\n",
    "bDif_tMem_ccpPvccpM_F_cohort1_vector = rowMeans(analysis_df[, c(tMem_ccpP_F_cohort1_vector)]) - rowMeans(analysis_df[, c(tMem_ccpM_F_cohort1_vector)])\n",
    "bDif_tMem_ccpPvccpM_F_cohort2_vector = rowMeans(analysis_df[, c(tMem_ccpP_F_cohort2_vector)]) - rowMeans(analysis_df[, c(tMem_ccpM_F_cohort2_vector)])\n",
    "\n",
    "# Memory T-Cell, CCP+ vs ERA\n",
    "bDif_tMem_ccpPvera_allS_cohortAll_vector = rowMeans(analysis_df[, c(tMem_ccpP_allS_cohort1_vector, tMem_ccpP_allS_cohort2_vector)]) - rowMeans(analysis_df[, c(tMem_era_allS_cohort1_vector, tMem_era_allS_cohort2_vector)])\n",
    "bDif_tMem_ccpPvera_allS_cohort1_vector = rowMeans(analysis_df[, c(tMem_ccpP_allS_cohort1_vector)]) - rowMeans(analysis_df[, c(tMem_era_allS_cohort1_vector)])\n",
    "bDif_tMem_ccpPvera_allS_cohort2_vector = rowMeans(analysis_df[, c(tMem_ccpP_allS_cohort2_vector)]) - rowMeans(analysis_df[, c(tMem_era_allS_cohort2_vector)])\n",
    "\n",
    "bDif_tMem_ccpPvera_F_cohortAll_vector = rowMeans(analysis_df[, c(tMem_ccpP_F_cohort1_vector, tMem_ccpP_F_cohort2_vector)]) - rowMeans(analysis_df[, c(tMem_era_F_cohort1_vector, tMem_era_F_cohort2_vector)])\n",
    "bDif_tMem_ccpPvera_F_cohort1_vector = rowMeans(analysis_df[, c(tMem_ccpP_F_cohort1_vector)]) - rowMeans(analysis_df[, c(tMem_era_F_cohort1_vector)])\n",
    "bDif_tMem_ccpPvera_F_cohort2_vector = rowMeans(analysis_df[, c(tMem_ccpP_F_cohort2_vector)]) - rowMeans(analysis_df[, c(tMem_era_F_cohort2_vector)])\n",
    "                                             \n",
    "# Memory T-Cell, CCP- vs ERA\n",
    "bDif_tMem_ccpMvera_allS_cohortAll_vector = rowMeans(analysis_df[, c(tMem_ccpM_allS_cohort1_vector, tMem_ccpM_allS_cohort2_vector)]) - rowMeans(analysis_df[, c(tMem_era_allS_cohort1_vector, tMem_era_allS_cohort2_vector)])\n",
    "bDif_tMem_ccpMvera_allS_cohort1_vector = rowMeans(analysis_df[, c(tMem_ccpM_allS_cohort1_vector)]) - rowMeans(analysis_df[, c(tMem_era_allS_cohort1_vector)])\n",
    "bDif_tMem_ccpMvera_allS_cohort2_vector = rowMeans(analysis_df[, c(tMem_ccpM_allS_cohort2_vector)]) - rowMeans(analysis_df[, c(tMem_era_allS_cohort2_vector)])\n",
    "\n",
    "bDif_tMem_ccpMvera_F_cohortAll_vector = rowMeans(analysis_df[, c(tMem_ccpM_F_cohort1_vector, tMem_ccpM_F_cohort2_vector)]) - rowMeans(analysis_df[, c(tMem_era_F_cohort1_vector, tMem_era_F_cohort2_vector)])\n",
    "bDif_tMem_ccpMvera_F_cohort1_vector = rowMeans(analysis_df[, c(tMem_ccpM_F_cohort1_vector)]) - rowMeans(analysis_df[, c(tMem_era_F_cohort1_vector)])\n",
    "bDif_tMem_ccpMvera_F_cohort2_vector = rowMeans(analysis_df[, c(tMem_ccpM_F_cohort2_vector)]) - rowMeans(analysis_df[, c(tMem_era_F_cohort2_vector)])\n",
    "\n",
    "\n",
    "# Naive T-Cell, CCP+ vs CCP-\n",
    "bDif_tNai_ccpPvccpM_allS_cohortAll_vector = rowMeans(analysis_df[, c(tNai_ccpP_allS_cohort1_vector, tNai_ccpP_allS_cohort2_vector)]) - rowMeans(analysis_df[, c(tNai_ccpM_allS_cohort1_vector, tNai_ccpM_allS_cohort2_vector)])\n",
    "bDif_tNai_ccpPvccpM_allS_cohort1_vector = rowMeans(analysis_df[, c(tNai_ccpP_allS_cohort1_vector)]) - rowMeans(analysis_df[, c(tNai_ccpM_allS_cohort1_vector)])\n",
    "bDif_tNai_ccpPvccpM_allS_cohort2_vector = rowMeans(analysis_df[, c(tNai_ccpP_allS_cohort2_vector)]) - rowMeans(analysis_df[, c(tNai_ccpM_allS_cohort2_vector)])\n",
    "\n",
    "bDif_tNai_ccpPvccpM_F_cohortAll_vector = rowMeans(analysis_df[, c(tNai_ccpP_F_cohort1_vector, tNai_ccpP_F_cohort2_vector)]) - rowMeans(analysis_df[, c(tNai_ccpM_F_cohort1_vector, tNai_ccpM_F_cohort2_vector)])\n",
    "bDif_tNai_ccpPvccpM_F_cohort1_vector = rowMeans(analysis_df[, c(tNai_ccpP_F_cohort1_vector)]) - rowMeans(analysis_df[, c(tNai_ccpM_F_cohort1_vector)])\n",
    "bDif_tNai_ccpPvccpM_F_cohort2_vector = rowMeans(analysis_df[, c(tNai_ccpP_F_cohort2_vector)]) - rowMeans(analysis_df[, c(tNai_ccpM_F_cohort2_vector)])\n",
    "\n",
    "# Naive T-Cell, CCP+ vs ERA\n",
    "bDif_tNai_ccpPvera_allS_cohortAll_vector = rowMeans(analysis_df[, c(tNai_ccpP_allS_cohort1_vector, tNai_ccpP_allS_cohort2_vector)]) - rowMeans(analysis_df[, c(tNai_era_allS_cohort1_vector, tNai_era_allS_cohort2_vector)])\n",
    "bDif_tNai_ccpPvera_allS_cohort1_vector = rowMeans(analysis_df[, c(tNai_ccpP_allS_cohort1_vector)]) - rowMeans(analysis_df[, c(tNai_era_allS_cohort1_vector)])\n",
    "bDif_tNai_ccpPvera_allS_cohort2_vector = rowMeans(analysis_df[, c(tNai_ccpP_allS_cohort2_vector)]) - rowMeans(analysis_df[, c(tNai_era_allS_cohort2_vector)])\n",
    "\n",
    "bDif_tNai_ccpPvera_F_cohortAll_vector = rowMeans(analysis_df[, c(tNai_ccpP_F_cohort1_vector, tNai_ccpP_F_cohort2_vector)]) - rowMeans(analysis_df[, c(tNai_era_F_cohort1_vector, tNai_era_F_cohort2_vector)])\n",
    "bDif_tNai_ccpPvera_F_cohort1_vector = rowMeans(analysis_df[, c(tNai_ccpP_F_cohort1_vector)]) - rowMeans(analysis_df[, c(tNai_era_F_cohort1_vector)])\n",
    "bDif_tNai_ccpPvera_F_cohort2_vector = rowMeans(analysis_df[, c(tNai_ccpP_F_cohort2_vector)]) - rowMeans(analysis_df[, c(tNai_era_F_cohort2_vector)])\n",
    "                                             \n",
    "# Naive T-Cell, CCP- vs ERA\n",
    "bDif_tNai_ccpMvera_allS_cohortAll_vector = rowMeans(analysis_df[, c(tNai_ccpM_allS_cohort1_vector, tNai_ccpM_allS_cohort2_vector)]) - rowMeans(analysis_df[, c(tNai_era_allS_cohort1_vector, tNai_era_allS_cohort2_vector)])\n",
    "bDif_tNai_ccpMvera_allS_cohort1_vector = rowMeans(analysis_df[, c(tNai_ccpM_allS_cohort1_vector)]) - rowMeans(analysis_df[, c(tNai_era_allS_cohort1_vector)])\n",
    "bDif_tNai_ccpMvera_allS_cohort2_vector = rowMeans(analysis_df[, c(tNai_ccpM_allS_cohort2_vector)]) - rowMeans(analysis_df[, c(tNai_era_allS_cohort2_vector)])\n",
    "\n",
    "bDif_tNai_ccpMvera_F_cohortAll_vector = rowMeans(analysis_df[, c(tNai_ccpM_F_cohort1_vector, tNai_ccpM_F_cohort2_vector)]) - rowMeans(analysis_df[, c(tNai_era_F_cohort1_vector, tNai_era_F_cohort2_vector)])\n",
    "bDif_tNai_ccpMvera_F_cohort1_vector = rowMeans(analysis_df[, c(tNai_ccpM_F_cohort1_vector)]) - rowMeans(analysis_df[, c(tNai_era_F_cohort1_vector)])\n",
    "bDif_tNai_ccpMvera_F_cohort2_vector = rowMeans(analysis_df[, c(tNai_ccpM_F_cohort2_vector)]) - rowMeans(analysis_df[, c(tNai_era_F_cohort2_vector)])\n",
    "\n"
   ]
  },
  {
   "cell_type": "code",
   "execution_count": 9,
   "id": "e32f4f2a-17c3-4fe2-9729-1127aa23569e",
   "metadata": {},
   "outputs": [],
   "source": [
    "### Create dataframe of relevant stats for each comparison\n",
    "compStats_df = data.frame(pVal_bCell_ccpPvccpM_allS_cohortAll = pVal_bCell_ccpPvccpM_allS_cohortAll_vector,\n",
    "                          pVal_bCell_ccpPvccpM_allS_cohort1 = pVal_bCell_ccpPvccpM_allS_cohort1_vector,\n",
    "                          pVal_bCell_ccpPvccpM_allS_cohort2 = pVal_bCell_ccpPvccpM_allS_cohort2_vector,\n",
    "                          pVal_bCell_ccpPvccpM_F_cohortAll = pVal_bCell_ccpPvccpM_F_cohortAll_vector,\n",
    "                          pVal_bCell_ccpPvccpM_F_cohort1 = pVal_bCell_ccpPvccpM_F_cohort1_vector,\n",
    "                          pVal_bCell_ccpPvccpM_F_cohort2 = pVal_bCell_ccpPvccpM_F_cohort2_vector,\n",
    "                          pVal_bCell_ccpPvera_allS_cohortAll = pVal_bCell_ccpPvera_allS_cohortAll_vector,\n",
    "                          pVal_bCell_ccpPvera_allS_cohort1 = pVal_bCell_ccpPvera_allS_cohort1_vector,\n",
    "                          pVal_bCell_ccpPvera_allS_cohort2 = pVal_bCell_ccpPvera_allS_cohort2_vector,\n",
    "                          pVal_bCell_ccpPvera_F_cohortAll = pVal_bCell_ccpPvera_F_cohortAll_vector,\n",
    "                          pVal_bCell_ccpPvera_F_cohort1 = pVal_bCell_ccpPvera_F_cohort1_vector,\n",
    "                          pVal_bCell_ccpPvera_F_cohort2 = pVal_bCell_ccpPvera_F_cohort2_vector,\n",
    "                          pVal_bCell_ccpMvera_allS_cohortAll = pVal_bCell_ccpMvera_allS_cohortAll_vector,\n",
    "                          pVal_bCell_ccpMvera_allS_cohort1 = pVal_bCell_ccpMvera_allS_cohort1_vector,\n",
    "                          pVal_bCell_ccpMvera_allS_cohort2 = pVal_bCell_ccpMvera_allS_cohort2_vector,\n",
    "                          pVal_bCell_ccpMvera_F_cohortAll = pVal_bCell_ccpMvera_F_cohortAll_vector,\n",
    "                          pVal_bCell_ccpMvera_F_cohort1 = pVal_bCell_ccpMvera_F_cohort1_vector,\n",
    "                          pVal_bCell_ccpMvera_F_cohort2 = pVal_bCell_ccpMvera_F_cohort2_vector,\n",
    "                          pVal_tMem_ccpPvccpM_allS_cohortAll = pVal_tMem_ccpPvccpM_allS_cohortAll_vector,\n",
    "                          pVal_tMem_ccpPvccpM_allS_cohort1 = pVal_tMem_ccpPvccpM_allS_cohort1_vector,\n",
    "                          pVal_tMem_ccpPvccpM_allS_cohort2 = pVal_tMem_ccpPvccpM_allS_cohort2_vector,\n",
    "                          pVal_tMem_ccpPvccpM_F_cohortAll = pVal_tMem_ccpPvccpM_F_cohortAll_vector,\n",
    "                          pVal_tMem_ccpPvccpM_F_cohort1 = pVal_tMem_ccpPvccpM_F_cohort1_vector,\n",
    "                          pVal_tMem_ccpPvccpM_F_cohort2 = pVal_tMem_ccpPvccpM_F_cohort2_vector,\n",
    "                          pVal_tMem_ccpPvera_allS_cohortAll = pVal_tMem_ccpPvera_allS_cohortAll_vector,\n",
    "                          pVal_tMem_ccpPvera_allS_cohort1 = pVal_tMem_ccpPvera_allS_cohort1_vector,\n",
    "                          pVal_tMem_ccpPvera_allS_cohort2 = pVal_tMem_ccpPvera_allS_cohort2_vector,\n",
    "                          pVal_tMem_ccpPvera_F_cohortAll = pVal_tMem_ccpPvera_F_cohortAll_vector,\n",
    "                          pVal_tMem_ccpPvera_F_cohort1 = pVal_tMem_ccpPvera_F_cohort1_vector,\n",
    "                          pVal_tMem_ccpPvera_F_cohort2 = pVal_tMem_ccpPvera_F_cohort2_vector,\n",
    "                          pVal_tMem_ccpMvera_allS_cohortAll = pVal_tMem_ccpMvera_allS_cohortAll_vector,\n",
    "                          pVal_tMem_ccpMvera_allS_cohort1 = pVal_tMem_ccpMvera_allS_cohort1_vector,\n",
    "                          pVal_tMem_ccpMvera_allS_cohort2 = pVal_tMem_ccpMvera_allS_cohort2_vector,\n",
    "                          pVal_tMem_ccpMvera_F_cohortAll = pVal_tMem_ccpMvera_F_cohortAll_vector,\n",
    "                          pVal_tMem_ccpMvera_F_cohort1 = pVal_tMem_ccpMvera_F_cohort1_vector,\n",
    "                          pVal_tMem_ccpMvera_F_cohort2 = pVal_tMem_ccpMvera_F_cohort2_vector,\n",
    "                          pVal_tNai_ccpPvccpM_allS_cohortAll = pVal_tNai_ccpPvccpM_allS_cohortAll_vector,\n",
    "                          pVal_tNai_ccpPvccpM_allS_cohort1 = pVal_tNai_ccpPvccpM_allS_cohort1_vector,\n",
    "                          pVal_tNai_ccpPvccpM_allS_cohort2 = pVal_tNai_ccpPvccpM_allS_cohort2_vector,\n",
    "                          pVal_tNai_ccpPvccpM_F_cohortAll = pVal_tNai_ccpPvccpM_F_cohortAll_vector,\n",
    "                          pVal_tNai_ccpPvccpM_F_cohort1 = pVal_tNai_ccpPvccpM_F_cohort1_vector,\n",
    "                          pVal_tNai_ccpPvccpM_F_cohort2 = pVal_tNai_ccpPvccpM_F_cohort2_vector,\n",
    "                          pVal_tNai_ccpPvera_allS_cohortAll = pVal_tNai_ccpPvera_allS_cohortAll_vector,\n",
    "                          pVal_tNai_ccpPvera_allS_cohort1 = pVal_tNai_ccpPvera_allS_cohort1_vector,\n",
    "                          pVal_tNai_ccpPvera_allS_cohort2 = pVal_tNai_ccpPvera_allS_cohort2_vector,\n",
    "                          pVal_tNai_ccpPvera_F_cohortAll = pVal_tNai_ccpPvera_F_cohortAll_vector,\n",
    "                          pVal_tNai_ccpPvera_F_cohort1 = pVal_tNai_ccpPvera_F_cohort1_vector,\n",
    "                          pVal_tNai_ccpPvera_F_cohort2 = pVal_tNai_ccpPvera_F_cohort2_vector,\n",
    "                          pVal_tNai_ccpMvera_allS_cohortAll = pVal_tNai_ccpMvera_allS_cohortAll_vector,\n",
    "                          pVal_tNai_ccpMvera_allS_cohort1 = pVal_tNai_ccpMvera_allS_cohort1_vector,\n",
    "                          pVal_tNai_ccpMvera_allS_cohort2 = pVal_tNai_ccpMvera_allS_cohort2_vector,\n",
    "                          pVal_tNai_ccpMvera_F_cohortAll = pVal_tNai_ccpMvera_F_cohortAll_vector,\n",
    "                          pVal_tNai_ccpMvera_F_cohort1 = pVal_tNai_ccpMvera_F_cohort1_vector,\n",
    "                          pVal_tNai_ccpMvera_F_cohort2 = pVal_tNai_ccpMvera_F_cohort2_vector,\n",
    "                          bDif_bCell_ccpPvccpM_allS_cohortAll = bDif_bCell_ccpPvccpM_allS_cohortAll_vector,\n",
    "                          bDif_bCell_ccpPvccpM_allS_cohort1 = bDif_bCell_ccpPvccpM_allS_cohort1_vector,\n",
    "                          bDif_bCell_ccpPvccpM_allS_cohort2 = bDif_bCell_ccpPvccpM_allS_cohort2_vector,\n",
    "                          bDif_bCell_ccpPvccpM_F_cohortAll = bDif_bCell_ccpPvccpM_F_cohortAll_vector,\n",
    "                          bDif_bCell_ccpPvccpM_F_cohort1 = bDif_bCell_ccpPvccpM_F_cohort1_vector,\n",
    "                          bDif_bCell_ccpPvccpM_F_cohort2 = bDif_bCell_ccpPvccpM_F_cohort2_vector,\n",
    "                          bDif_bCell_ccpPvera_allS_cohortAll = bDif_bCell_ccpPvera_allS_cohortAll_vector,\n",
    "                          bDif_bCell_ccpPvera_allS_cohort1 = bDif_bCell_ccpPvera_allS_cohort1_vector,\n",
    "                          bDif_bCell_ccpPvera_allS_cohort2 = bDif_bCell_ccpPvera_allS_cohort2_vector,\n",
    "                          bDif_bCell_ccpPvera_F_cohortAll = bDif_bCell_ccpPvera_F_cohortAll_vector,\n",
    "                          bDif_bCell_ccpPvera_F_cohort1 = bDif_bCell_ccpPvera_F_cohort1_vector,\n",
    "                          bDif_bCell_ccpPvera_F_cohort2 = bDif_bCell_ccpPvera_F_cohort2_vector,\n",
    "                          bDif_bCell_ccpMvera_allS_cohortAll = bDif_bCell_ccpMvera_allS_cohortAll_vector,\n",
    "                          bDif_bCell_ccpMvera_allS_cohort1 = bDif_bCell_ccpMvera_allS_cohort1_vector,\n",
    "                          bDif_bCell_ccpMvera_allS_cohort2 = bDif_bCell_ccpMvera_allS_cohort2_vector,\n",
    "                          bDif_bCell_ccpMvera_F_cohortAll = bDif_bCell_ccpMvera_F_cohortAll_vector,\n",
    "                          bDif_bCell_ccpMvera_F_cohort1 = bDif_bCell_ccpMvera_F_cohort1_vector,\n",
    "                          bDif_bCell_ccpMvera_F_cohort2 = bDif_bCell_ccpMvera_F_cohort2_vector,\n",
    "                          bDif_tMem_ccpPvccpM_allS_cohortAll = bDif_tMem_ccpPvccpM_allS_cohortAll_vector,\n",
    "                          bDif_tMem_ccpPvccpM_allS_cohort1 = bDif_tMem_ccpPvccpM_allS_cohort1_vector,\n",
    "                          bDif_tMem_ccpPvccpM_allS_cohort2 = bDif_tMem_ccpPvccpM_allS_cohort2_vector,\n",
    "                          bDif_tMem_ccpPvccpM_F_cohortAll = bDif_tMem_ccpPvccpM_F_cohortAll_vector,\n",
    "                          bDif_tMem_ccpPvccpM_F_cohort1 = bDif_tMem_ccpPvccpM_F_cohort1_vector,\n",
    "                          bDif_tMem_ccpPvccpM_F_cohort2 = bDif_tMem_ccpPvccpM_F_cohort2_vector,\n",
    "                          bDif_tMem_ccpPvera_allS_cohortAll = bDif_tMem_ccpPvera_allS_cohortAll_vector,\n",
    "                          bDif_tMem_ccpPvera_allS_cohort1 = bDif_tMem_ccpPvera_allS_cohort1_vector,\n",
    "                          bDif_tMem_ccpPvera_allS_cohort2 = bDif_tMem_ccpPvera_allS_cohort2_vector,\n",
    "                          bDif_tMem_ccpPvera_F_cohortAll = bDif_tMem_ccpPvera_F_cohortAll_vector,\n",
    "                          bDif_tMem_ccpPvera_F_cohort1 = bDif_tMem_ccpPvera_F_cohort1_vector,\n",
    "                          bDif_tMem_ccpPvera_F_cohort2 = bDif_tMem_ccpPvera_F_cohort2_vector,\n",
    "                          bDif_tMem_ccpMvera_allS_cohortAll = bDif_tMem_ccpMvera_allS_cohortAll_vector,\n",
    "                          bDif_tMem_ccpMvera_allS_cohort1 = bDif_tMem_ccpMvera_allS_cohort1_vector,\n",
    "                          bDif_tMem_ccpMvera_allS_cohort2 = bDif_tMem_ccpMvera_allS_cohort2_vector,\n",
    "                          bDif_tMem_ccpMvera_F_cohortAll = bDif_tMem_ccpMvera_F_cohortAll_vector,\n",
    "                          bDif_tMem_ccpMvera_F_cohort1 = bDif_tMem_ccpMvera_F_cohort1_vector,\n",
    "                          bDif_tMem_ccpMvera_F_cohort2 = bDif_tMem_ccpMvera_F_cohort2_vector,\n",
    "                          bDif_tNai_ccpPvccpM_allS_cohortAll = bDif_tNai_ccpPvccpM_allS_cohortAll_vector,\n",
    "                          bDif_tNai_ccpPvccpM_allS_cohort1 = bDif_tNai_ccpPvccpM_allS_cohort1_vector,\n",
    "                          bDif_tNai_ccpPvccpM_allS_cohort2 = bDif_tNai_ccpPvccpM_allS_cohort2_vector,\n",
    "                          bDif_tNai_ccpPvccpM_F_cohortAll = bDif_tNai_ccpPvccpM_F_cohortAll_vector,\n",
    "                          bDif_tNai_ccpPvccpM_F_cohort1 = bDif_tNai_ccpPvccpM_F_cohort1_vector,\n",
    "                          bDif_tNai_ccpPvccpM_F_cohort2 = bDif_tNai_ccpPvccpM_F_cohort2_vector,\n",
    "                          bDif_tNai_ccpPvera_allS_cohortAll = bDif_tNai_ccpPvera_allS_cohortAll_vector,\n",
    "                          bDif_tNai_ccpPvera_allS_cohort1 = bDif_tNai_ccpPvera_allS_cohort1_vector,\n",
    "                          bDif_tNai_ccpPvera_allS_cohort2 = bDif_tNai_ccpPvera_allS_cohort2_vector,\n",
    "                          bDif_tNai_ccpPvera_F_cohortAll = bDif_tNai_ccpPvera_F_cohortAll_vector,\n",
    "                          bDif_tNai_ccpPvera_F_cohort1 = bDif_tNai_ccpPvera_F_cohort1_vector,\n",
    "                          bDif_tNai_ccpPvera_F_cohort2 = bDif_tNai_ccpPvera_F_cohort2_vector,\n",
    "                          bDif_tNai_ccpMvera_allS_cohortAll = bDif_tNai_ccpMvera_allS_cohortAll_vector,\n",
    "                          bDif_tNai_ccpMvera_allS_cohort1 = bDif_tNai_ccpMvera_allS_cohort1_vector,\n",
    "                          bDif_tNai_ccpMvera_allS_cohort2 = bDif_tNai_ccpMvera_allS_cohort2_vector,\n",
    "                          bDif_tNai_ccpMvera_F_cohortAll = bDif_tNai_ccpMvera_F_cohortAll_vector,\n",
    "                          bDif_tNai_ccpMvera_F_cohort1 = bDif_tNai_ccpMvera_F_cohort1_vector,\n",
    "                          bDif_tNai_ccpMvera_F_cohort2 = bDif_tNai_ccpMvera_F_cohort2_vector)\n",
    "\n",
    "                                                  "
   ]
  },
  {
   "cell_type": "code",
   "execution_count": 10,
   "id": "2c1a3a8d-44d4-4460-875a-37af20ad1d17",
   "metadata": {},
   "outputs": [
    {
     "name": "stdout",
     "output_type": "stream",
     "text": [
      "[1] \"aPval_bCell_ccpPvccpM_allS_cohortAll\"\n",
      "[1] \"aPval_bCell_ccpPvccpM_allS_cohort1\"\n",
      "[1] \"aPval_bCell_ccpPvccpM_allS_cohort2\"\n",
      "[1] \"aPval_bCell_ccpPvccpM_F_cohortAll\"\n",
      "[1] \"aPval_bCell_ccpPvccpM_F_cohort1\"\n",
      "[1] \"aPval_bCell_ccpPvccpM_F_cohort2\"\n",
      "[1] \"aPval_bCell_ccpPvera_allS_cohortAll\"\n",
      "[1] \"aPval_bCell_ccpPvera_allS_cohort1\"\n",
      "[1] \"aPval_bCell_ccpPvera_allS_cohort2\"\n",
      "[1] \"aPval_bCell_ccpPvera_F_cohortAll\"\n",
      "[1] \"aPval_bCell_ccpPvera_F_cohort1\"\n",
      "[1] \"aPval_bCell_ccpPvera_F_cohort2\"\n",
      "[1] \"aPval_bCell_ccpMvera_allS_cohortAll\"\n",
      "[1] \"aPval_bCell_ccpMvera_allS_cohort1\"\n",
      "[1] \"aPval_bCell_ccpMvera_allS_cohort2\"\n",
      "[1] \"aPval_bCell_ccpMvera_F_cohortAll\"\n",
      "[1] \"aPval_bCell_ccpMvera_F_cohort1\"\n",
      "[1] \"aPval_bCell_ccpMvera_F_cohort2\"\n",
      "[1] \"aPval_tMem_ccpPvccpM_allS_cohortAll\"\n",
      "[1] \"aPval_tMem_ccpPvccpM_allS_cohort1\"\n",
      "[1] \"aPval_tMem_ccpPvccpM_allS_cohort2\"\n",
      "[1] \"aPval_tMem_ccpPvccpM_F_cohortAll\"\n",
      "[1] \"aPval_tMem_ccpPvccpM_F_cohort1\"\n",
      "[1] \"aPval_tMem_ccpPvccpM_F_cohort2\"\n",
      "[1] \"aPval_tMem_ccpPvera_allS_cohortAll\"\n",
      "[1] \"aPval_tMem_ccpPvera_allS_cohort1\"\n",
      "[1] \"aPval_tMem_ccpPvera_allS_cohort2\"\n",
      "[1] \"aPval_tMem_ccpPvera_F_cohortAll\"\n",
      "[1] \"aPval_tMem_ccpPvera_F_cohort1\"\n",
      "[1] \"aPval_tMem_ccpPvera_F_cohort2\"\n",
      "[1] \"aPval_tMem_ccpMvera_allS_cohortAll\"\n",
      "[1] \"aPval_tMem_ccpMvera_allS_cohort1\"\n",
      "[1] \"aPval_tMem_ccpMvera_allS_cohort2\"\n",
      "[1] \"aPval_tMem_ccpMvera_F_cohortAll\"\n",
      "[1] \"aPval_tMem_ccpMvera_F_cohort1\"\n",
      "[1] \"aPval_tMem_ccpMvera_F_cohort2\"\n",
      "[1] \"aPval_tNai_ccpPvccpM_allS_cohortAll\"\n",
      "[1] \"aPval_tNai_ccpPvccpM_allS_cohort1\"\n",
      "[1] \"aPval_tNai_ccpPvccpM_allS_cohort2\"\n",
      "[1] \"aPval_tNai_ccpPvccpM_F_cohortAll\"\n",
      "[1] \"aPval_tNai_ccpPvccpM_F_cohort1\"\n",
      "[1] \"aPval_tNai_ccpPvccpM_F_cohort2\"\n",
      "[1] \"aPval_tNai_ccpPvera_allS_cohortAll\"\n",
      "[1] \"aPval_tNai_ccpPvera_allS_cohort1\"\n",
      "[1] \"aPval_tNai_ccpPvera_allS_cohort2\"\n",
      "[1] \"aPval_tNai_ccpPvera_F_cohortAll\"\n",
      "[1] \"aPval_tNai_ccpPvera_F_cohort1\"\n",
      "[1] \"aPval_tNai_ccpPvera_F_cohort2\"\n",
      "[1] \"aPval_tNai_ccpMvera_allS_cohortAll\"\n",
      "[1] \"aPval_tNai_ccpMvera_allS_cohort1\"\n",
      "[1] \"aPval_tNai_ccpMvera_allS_cohort2\"\n",
      "[1] \"aPval_tNai_ccpMvera_F_cohortAll\"\n",
      "[1] \"aPval_tNai_ccpMvera_F_cohort1\"\n",
      "[1] \"aPval_tNai_ccpMvera_F_cohort2\"\n"
     ]
    }
   ],
   "source": [
    "# add adjusted p-value metrics\n",
    "pVal_cols = grep(\"pVal\", colnames(compStats_df), value = TRUE)\n",
    "\n",
    "for (col in pVal_cols){\n",
    "    # define new column name\n",
    "    ap_colname = str_replace(col, \"pVal\", \"aPval\")\n",
    "    # define new vector of adjusted p-vals\n",
    "    ap_vector = p.adjust(compStats_df[,col], method = \"BH\", n = length(compStats_df[,col]))\n",
    "    # create new column\n",
    "    compStats_df[ap_colname] = ap_vector\n",
    "    # confirm finished\n",
    "    print(ap_colname)\n",
    "    }\n"
   ]
  },
  {
   "cell_type": "code",
   "execution_count": 11,
   "id": "06ae1492-8b50-40eb-a576-1a6b766bd79e",
   "metadata": {},
   "outputs": [],
   "source": [
    "### Create annotation data and define promoter regions\n",
    "# create annotation dataframe\n",
    "anno_data = getAnnotation(IlluminaHumanMethylationEPICanno.ilm10b4.hg19)\n",
    "\n",
    "# create gRanges object of defined promoter regions\n",
    "tss_gr = getHumanTSS()\n",
    "\n",
    "promoter_gr = GRanges(seqnames=paste0(\"chr\", seqnames(tss_gr)),\n",
    "                      ranges=IRanges(start=start(ranges(tss_gr))-2500, end=start(ranges(tss_gr))+500),\n",
    "                      strand=strand(tss_gr),\n",
    "                      names=tss_gr$gene)\n",
    "\n",
    "promoter_gr = sortSeqlevels(promoter_gr)\n",
    "promoter_gr = sort(promoter_gr)"
   ]
  },
  {
   "cell_type": "code",
   "execution_count": 12,
   "id": "fda9bfa7-789e-4b5a-a6db-056faaa62c30",
   "metadata": {},
   "outputs": [
    {
     "name": "stderr",
     "output_type": "stream",
     "text": [
      "Warning message:\n",
      "\"Ensembl will soon enforce the use of https.\n",
      "Ensure the 'host' argument includes \"https://\"\"\n"
     ]
    }
   ],
   "source": [
    "# create gRanges objects of defined gene body\n",
    "mart = useDataset(\"hsapiens_gene_ensembl\", useMart(biomart=\"ENSEMBL_MART_ENSEMBL\", host=\"grch37.ensembl.org\", path=\"/biomart/martservice\", dataset=\"hsapiens_gene_ensembl\")) #grch37.ensembl.org is stable\n",
    "geneBodyCoords_df = getBM(attributes=c(\"hgnc_symbol\", \"chromosome_name\", \"strand\", \"start_position\", \"end_position\"), mart = mart)\n",
    "\n",
    "geneBodyCoords_filtered_df = geneBodyCoords_df[(geneBodyCoords_df$chromosome_name %in% seq(1:23)),]\n",
    "geneBodyCoords_filtered_df = geneBodyCoords_filtered_df[(geneBodyCoords_filtered_df$hgnc_symbol %in% promoter_gr$names),]\n",
    "\n",
    "class(geneBodyCoords_filtered_df$strand) = \"character\"\n",
    "geneBodyCoords_filtered_df[geneBodyCoords_filtered_df$strand == \"-1\", \"strand\"] = \"-\"\n",
    "geneBodyCoords_filtered_df[geneBodyCoords_filtered_df$strand == \"1\", \"strand\"] = \"+\"\n",
    "\n",
    "\n",
    "geneBody_gr = GRanges(seqnames=paste0(\"chr\", geneBodyCoords_filtered_df$chromosome_name), \n",
    "                      ranges=IRanges(start=geneBodyCoords_filtered_df$start_position, end=geneBodyCoords_filtered_df$end_position),\n",
    "                      strand=geneBodyCoords_filtered_df$strand,\n",
    "                      names=geneBodyCoords_filtered_df$hgnc_symbol)\n",
    "                      \n",
    "geneBody_gr = sortSeqlevels(geneBody_gr)\n",
    "geneBody_gr = sort(geneBody_gr)\n"
   ]
  },
  {
   "cell_type": "code",
   "execution_count": 13,
   "id": "f5118882-a695-47e0-9f83-ea215746bb2a",
   "metadata": {},
   "outputs": [],
   "source": [
    "# create gRanges objects of defined gene body + promoter region\n",
    "combinedRegion_gr = append(promoter_gr, geneBody_gr)\n"
   ]
  },
  {
   "cell_type": "code",
   "execution_count": 14,
   "id": "48be5ca4-4d36-4ad2-9599-1a75a8a847c0",
   "metadata": {},
   "outputs": [
    {
     "name": "stdout",
     "output_type": "stream",
     "text": [
      "[1] \"selectedLoci_bCell_ccpPvccpM_F_cohort1_allChrom\"\n",
      "[1] 0\n",
      "[1] 61\n",
      "[1] 17\n",
      "[1] \"selectedLoci_bCell_ccpPvera_F_cohort1_allChrom\"\n",
      "[1] 0.02229299\n",
      "[1] 314\n",
      "[1] 97\n",
      "[1] \"selectedLoci_bCell_ccpMvera_F_cohort1_allChrom\"\n",
      "[1] 0.01156069\n",
      "[1] 346\n",
      "[1] 102\n",
      "[1] \"selectedLoci_tMem_ccpPvccpM_F_cohort1_allChrom\"\n",
      "[1] 0\n",
      "[1] 44\n",
      "[1] 13\n",
      "[1] \"selectedLoci_tMem_ccpPvera_F_cohort1_allChrom\"\n",
      "[1] 0.005952381\n",
      "[1] 168\n",
      "[1] 46\n",
      "[1] \"selectedLoci_tMem_ccpMvera_F_cohort1_allChrom\"\n",
      "[1] 0\n",
      "[1] 162\n",
      "[1] 40\n",
      "[1] \"selectedLoci_tNai_ccpPvccpM_F_cohort1_allChrom\"\n",
      "[1] 0\n",
      "[1] 56\n",
      "[1] 18\n",
      "[1] \"selectedLoci_tNai_ccpPvera_F_cohort1_allChrom\"\n",
      "[1] 0\n",
      "[1] 220\n",
      "[1] 81\n",
      "[1] \"selectedLoci_tNai_ccpMvera_F_cohort1_allChrom\"\n",
      "[1] 0\n",
      "[1] 240\n",
      "[1] 71\n",
      "[1] \"selectedLoci_bCell_ccpPvccpM_F_cohort2_allChrom\"\n",
      "[1] 0\n",
      "[1] 27\n",
      "[1] 9\n",
      "[1] \"selectedLoci_bCell_ccpPvera_F_cohort2_allChrom\"\n",
      "[1] 0\n",
      "[1] 49\n",
      "[1] 17\n",
      "[1] \"selectedLoci_bCell_ccpMvera_F_cohort2_allChrom\"\n",
      "[1] 0\n",
      "[1] 61\n",
      "[1] 21\n",
      "[1] \"selectedLoci_tMem_ccpPvccpM_F_cohort2_allChrom\"\n",
      "[1] 0\n",
      "[1] 33\n",
      "[1] 9\n",
      "[1] \"selectedLoci_tMem_ccpPvera_F_cohort2_allChrom\"\n",
      "[1] 0\n",
      "[1] 115\n",
      "[1] 37\n",
      "[1] \"selectedLoci_tMem_ccpMvera_F_cohort2_allChrom\"\n",
      "[1] 0\n",
      "[1] 653\n",
      "[1] 214\n",
      "[1] \"selectedLoci_tNai_ccpPvccpM_F_cohort2_allChrom\"\n",
      "[1] 0\n",
      "[1] 29\n",
      "[1] 10\n",
      "[1] \"selectedLoci_tNai_ccpPvera_F_cohort2_allChrom\"\n",
      "[1] 0\n",
      "[1] 58\n",
      "[1] 22\n",
      "[1] \"selectedLoci_tNai_ccpMvera_F_cohort2_allChrom\"\n",
      "[1] 0\n",
      "[1] 50\n",
      "[1] 15\n"
     ]
    },
    {
     "data": {
      "text/html": [
       "550"
      ],
      "text/latex": [
       "550"
      ],
      "text/markdown": [
       "550"
      ],
      "text/plain": [
       "[1] 550"
      ]
     },
     "metadata": {},
     "output_type": "display_data"
    },
    {
     "data": {
      "text/html": [
       "165"
      ],
      "text/latex": [
       "165"
      ],
      "text/markdown": [
       "165"
      ],
      "text/plain": [
       "[1] 165"
      ]
     },
     "metadata": {},
     "output_type": "display_data"
    },
    {
     "data": {
      "text/html": [
       "124"
      ],
      "text/latex": [
       "124"
      ],
      "text/markdown": [
       "124"
      ],
      "text/plain": [
       "[1] 124"
      ]
     },
     "metadata": {},
     "output_type": "display_data"
    },
    {
     "data": {
      "text/html": [
       "38"
      ],
      "text/latex": [
       "38"
      ],
      "text/markdown": [
       "38"
      ],
      "text/plain": [
       "[1] 38"
      ]
     },
     "metadata": {},
     "output_type": "display_data"
    },
    {
     "name": "stdout",
     "output_type": "stream",
     "text": [
      "[1] \"Cohort All Union, B Cell DMLs\"\n"
     ]
    },
    {
     "data": {
      "text/html": [
       "662"
      ],
      "text/latex": [
       "662"
      ],
      "text/markdown": [
       "662"
      ],
      "text/plain": [
       "[1] 662"
      ]
     },
     "metadata": {},
     "output_type": "display_data"
    },
    {
     "name": "stdout",
     "output_type": "stream",
     "text": [
      "Detailed information about this GeneOverlap object:\n",
      "listA size=165, e.g. ALLC KIAA0319 DPCR1\n",
      "listB size=38, e.g. GSTM5 SPAG11B ELMOD1\n",
      "Intersection size=5, e.g. ZNF12 CES1 MYT1L\n",
      "Union size=198, e.g. ALLC KIAA0319 DPCR1\n",
      "Genome size=20178\n",
      "# Contingency Table:\n",
      "      notA inA\n",
      "notB 19980 160\n",
      "inB     33   5\n",
      "Overlapping p-value=1.4e-05\n",
      "Odds ratio=18.9\n",
      "Overlap tested using Fisher's exact test (alternative=greater)\n",
      "Jaccard Index=0.0\n",
      "[1] \"bCell DML Enrichment Hypergeometric P-Value = 1.70724109626692e-22\"\n"
     ]
    },
    {
     "data": {
      "text/html": [
       "294"
      ],
      "text/latex": [
       "294"
      ],
      "text/markdown": [
       "294"
      ],
      "text/plain": [
       "[1] 294"
      ]
     },
     "metadata": {},
     "output_type": "display_data"
    },
    {
     "data": {
      "text/html": [
       "82"
      ],
      "text/latex": [
       "82"
      ],
      "text/markdown": [
       "82"
      ],
      "text/plain": [
       "[1] 82"
      ]
     },
     "metadata": {},
     "output_type": "display_data"
    },
    {
     "data": {
      "text/html": [
       "734"
      ],
      "text/latex": [
       "734"
      ],
      "text/markdown": [
       "734"
      ],
      "text/plain": [
       "[1] 734"
      ]
     },
     "metadata": {},
     "output_type": "display_data"
    },
    {
     "data": {
      "text/html": [
       "235"
      ],
      "text/latex": [
       "235"
      ],
      "text/markdown": [
       "235"
      ],
      "text/plain": [
       "[1] 235"
      ]
     },
     "metadata": {},
     "output_type": "display_data"
    },
    {
     "name": "stdout",
     "output_type": "stream",
     "text": [
      "[1] \"Cohort All Union, Memory T Cell DMLs\"\n"
     ]
    },
    {
     "data": {
      "text/html": [
       "1007"
      ],
      "text/latex": [
       "1007"
      ],
      "text/markdown": [
       "1007"
      ],
      "text/plain": [
       "[1] 1007"
      ]
     },
     "metadata": {},
     "output_type": "display_data"
    },
    {
     "name": "stdout",
     "output_type": "stream",
     "text": [
      "Detailed information about this GeneOverlap object:\n",
      "listA size=82, e.g. SMYD3 ALLC KIAA0319\n",
      "listB size=235, e.g. GSTM5 CHIA SPAG11B\n",
      "Intersection size=7, e.g. MYT1L HLA-DQB1 DLEU1\n",
      "Union size=310, e.g. SMYD3 ALLC KIAA0319\n",
      "Genome size=20178\n",
      "# Contingency Table:\n",
      "      notA inA\n",
      "notB 19868  75\n",
      "inB    228   7\n",
      "Overlapping p-value=4.8e-05\n",
      "Odds ratio=8.1\n",
      "Overlap tested using Fisher's exact test (alternative=greater)\n",
      "Jaccard Index=0.0\n",
      "[1] \"tMem DML Enrichment Hypergeometric P-Value = 8.16518076932088e-33\"\n"
     ]
    },
    {
     "data": {
      "text/html": [
       "404"
      ],
      "text/latex": [
       "404"
      ],
      "text/markdown": [
       "404"
      ],
      "text/plain": [
       "[1] 404"
      ]
     },
     "metadata": {},
     "output_type": "display_data"
    },
    {
     "data": {
      "text/html": [
       "133"
      ],
      "text/latex": [
       "133"
      ],
      "text/markdown": [
       "133"
      ],
      "text/plain": [
       "[1] 133"
      ]
     },
     "metadata": {},
     "output_type": "display_data"
    },
    {
     "data": {
      "text/html": [
       "121"
      ],
      "text/latex": [
       "121"
      ],
      "text/markdown": [
       "121"
      ],
      "text/plain": [
       "[1] 121"
      ]
     },
     "metadata": {},
     "output_type": "display_data"
    },
    {
     "data": {
      "text/html": [
       "36"
      ],
      "text/latex": [
       "36"
      ],
      "text/markdown": [
       "36"
      ],
      "text/plain": [
       "[1] 36"
      ]
     },
     "metadata": {},
     "output_type": "display_data"
    },
    {
     "name": "stdout",
     "output_type": "stream",
     "text": [
      "[1] \"Cohort All Union, Naive T Cell DMLs\"\n"
     ]
    },
    {
     "data": {
      "text/html": [
       "505"
      ],
      "text/latex": [
       "505"
      ],
      "text/markdown": [
       "505"
      ],
      "text/plain": [
       "[1] 505"
      ]
     },
     "metadata": {},
     "output_type": "display_data"
    },
    {
     "name": "stdout",
     "output_type": "stream",
     "text": [
      "Detailed information about this GeneOverlap object:\n",
      "listA size=133, e.g. SMYD3 ALLC RP11-676J12.7\n",
      "listB size=36, e.g. GSTM5 CHIA SPAG11B\n",
      "Intersection size=5, e.g. RNF39 HLA-DQB1 HOOK2\n",
      "Union size=164, e.g. SMYD3 ALLC RP11-676J12.7\n",
      "Genome size=20178\n",
      "# Contingency Table:\n",
      "      notA inA\n",
      "notB 20014 128\n",
      "inB     31   5\n",
      "Overlapping p-value=3.7e-06\n",
      "Odds ratio=25.2\n",
      "Overlap tested using Fisher's exact test (alternative=greater)\n",
      "Jaccard Index=0.0\n",
      "[1] \"tNai DML Enrichment Hypergeometric P-Value = 3.13116640060934e-44\"\n",
      "[1] \"Cohort All, Cell Type All, Union DMLs\"\n"
     ]
    },
    {
     "data": {
      "text/html": [
       "1631"
      ],
      "text/latex": [
       "1631"
      ],
      "text/markdown": [
       "1631"
      ],
      "text/plain": [
       "[1] 1631"
      ]
     },
     "metadata": {},
     "output_type": "display_data"
    },
    {
     "data": {
      "text/html": [
       "25"
      ],
      "text/latex": [
       "25"
      ],
      "text/markdown": [
       "25"
      ],
      "text/plain": [
       "[1] 25"
      ]
     },
     "metadata": {},
     "output_type": "display_data"
    },
    {
     "data": {
      "text/html": [
       "112"
      ],
      "text/latex": [
       "112"
      ],
      "text/markdown": [
       "112"
      ],
      "text/plain": [
       "[1] 112"
      ]
     },
     "metadata": {},
     "output_type": "display_data"
    },
    {
     "data": {
      "text/html": [
       "121"
      ],
      "text/latex": [
       "121"
      ],
      "text/markdown": [
       "121"
      ],
      "text/plain": [
       "[1] 121"
      ]
     },
     "metadata": {},
     "output_type": "display_data"
    },
    {
     "data": {
      "text/html": [
       "198"
      ],
      "text/latex": [
       "198"
      ],
      "text/markdown": [
       "198"
      ],
      "text/plain": [
       "[1] 198"
      ]
     },
     "metadata": {},
     "output_type": "display_data"
    },
    {
     "name": "stdout",
     "output_type": "stream",
     "text": [
      "[1] \"Cohort All, Union B-Cell DMGs\"\n"
     ]
    },
    {
     "data": {
      "text/html": [
       "198"
      ],
      "text/latex": [
       "198"
      ],
      "text/markdown": [
       "198"
      ],
      "text/plain": [
       "[1] 198"
      ]
     },
     "metadata": {},
     "output_type": "display_data"
    },
    {
     "name": "stdout",
     "output_type": "stream",
     "text": [
      "[1] \"Cohort 2 B Cell DMGs\"\n"
     ]
    },
    {
     "data": {
      "text/html": [
       "38"
      ],
      "text/latex": [
       "38"
      ],
      "text/markdown": [
       "38"
      ],
      "text/plain": [
       "[1] 38"
      ]
     },
     "metadata": {},
     "output_type": "display_data"
    },
    {
     "data": {
      "text/html": [
       "22"
      ],
      "text/latex": [
       "22"
      ],
      "text/markdown": [
       "22"
      ],
      "text/plain": [
       "[1] 22"
      ]
     },
     "metadata": {},
     "output_type": "display_data"
    },
    {
     "data": {
      "text/html": [
       "82"
      ],
      "text/latex": [
       "82"
      ],
      "text/markdown": [
       "82"
      ],
      "text/plain": [
       "[1] 82"
      ]
     },
     "metadata": {},
     "output_type": "display_data"
    },
    {
     "data": {
      "text/html": [
       "249"
      ],
      "text/latex": [
       "249"
      ],
      "text/markdown": [
       "249"
      ],
      "text/plain": [
       "[1] 249"
      ]
     },
     "metadata": {},
     "output_type": "display_data"
    },
    {
     "data": {
      "text/html": [
       "310"
      ],
      "text/latex": [
       "310"
      ],
      "text/markdown": [
       "310"
      ],
      "text/plain": [
       "[1] 310"
      ]
     },
     "metadata": {},
     "output_type": "display_data"
    },
    {
     "name": "stdout",
     "output_type": "stream",
     "text": [
      "[1] \"Cohort All, Union T Mem DMGs\"\n"
     ]
    },
    {
     "data": {
      "text/html": [
       "310"
      ],
      "text/latex": [
       "310"
      ],
      "text/markdown": [
       "310"
      ],
      "text/plain": [
       "[1] 310"
      ]
     },
     "metadata": {},
     "output_type": "display_data"
    },
    {
     "name": "stdout",
     "output_type": "stream",
     "text": [
      "[1] \"Cohort 2 T Mem DMGs\"\n"
     ]
    },
    {
     "data": {
      "text/html": [
       "235"
      ],
      "text/latex": [
       "235"
      ],
      "text/markdown": [
       "235"
      ],
      "text/plain": [
       "[1] 235"
      ]
     },
     "metadata": {},
     "output_type": "display_data"
    },
    {
     "data": {
      "text/html": [
       "28"
      ],
      "text/latex": [
       "28"
      ],
      "text/markdown": [
       "28"
      ],
      "text/plain": [
       "[1] 28"
      ]
     },
     "metadata": {},
     "output_type": "display_data"
    },
    {
     "data": {
      "text/html": [
       "101"
      ],
      "text/latex": [
       "101"
      ],
      "text/markdown": [
       "101"
      ],
      "text/plain": [
       "[1] 101"
      ]
     },
     "metadata": {},
     "output_type": "display_data"
    },
    {
     "data": {
      "text/html": [
       "83"
      ],
      "text/latex": [
       "83"
      ],
      "text/markdown": [
       "83"
      ],
      "text/plain": [
       "[1] 83"
      ]
     },
     "metadata": {},
     "output_type": "display_data"
    },
    {
     "data": {
      "text/html": [
       "164"
      ],
      "text/latex": [
       "164"
      ],
      "text/markdown": [
       "164"
      ],
      "text/plain": [
       "[1] 164"
      ]
     },
     "metadata": {},
     "output_type": "display_data"
    },
    {
     "name": "stdout",
     "output_type": "stream",
     "text": [
      "[1] \"Cohort All, Union T Nai DMGs\"\n"
     ]
    },
    {
     "data": {
      "text/html": [
       "164"
      ],
      "text/latex": [
       "164"
      ],
      "text/markdown": [
       "164"
      ],
      "text/plain": [
       "[1] 164"
      ]
     },
     "metadata": {},
     "output_type": "display_data"
    },
    {
     "name": "stdout",
     "output_type": "stream",
     "text": [
      "[1] \"Cohort 2 T Nai DMGs\"\n"
     ]
    },
    {
     "data": {
      "text/html": [
       "36"
      ],
      "text/latex": [
       "36"
      ],
      "text/markdown": [
       "36"
      ],
      "text/plain": [
       "[1] 36"
      ]
     },
     "metadata": {},
     "output_type": "display_data"
    },
    {
     "name": "stdout",
     "output_type": "stream",
     "text": [
      "[1] \"Cohort All, Cell Type All, Union ccpPvccpM DMGs\"\n"
     ]
    },
    {
     "data": {
      "text/html": [
       "39"
      ],
      "text/latex": [
       "39"
      ],
      "text/markdown": [
       "39"
      ],
      "text/plain": [
       "[1] 39"
      ]
     },
     "metadata": {},
     "output_type": "display_data"
    },
    {
     "name": "stdout",
     "output_type": "stream",
     "text": [
      "[1] \"Cohort All, Cell Type All, Union ccpPvera DMGs\"\n"
     ]
    },
    {
     "data": {
      "text/html": [
       "205"
      ],
      "text/latex": [
       "205"
      ],
      "text/markdown": [
       "205"
      ],
      "text/plain": [
       "[1] 205"
      ]
     },
     "metadata": {},
     "output_type": "display_data"
    },
    {
     "name": "stdout",
     "output_type": "stream",
     "text": [
      "[1] \"Cohort All, Cell Type All, Union ccpMvera DMGs\"\n"
     ]
    },
    {
     "data": {
      "text/html": [
       "375"
      ],
      "text/latex": [
       "375"
      ],
      "text/markdown": [
       "375"
      ],
      "text/plain": [
       "[1] 375"
      ]
     },
     "metadata": {},
     "output_type": "display_data"
    },
    {
     "name": "stdout",
     "output_type": "stream",
     "text": [
      "[1] \"Cohort All, Cell Type All, RA Status All, Union DMGs\"\n"
     ]
    },
    {
     "data": {
      "text/html": [
       "503"
      ],
      "text/latex": [
       "503"
      ],
      "text/markdown": [
       "503"
      ],
      "text/plain": [
       "[1] 503"
      ]
     },
     "metadata": {},
     "output_type": "display_data"
    },
    {
     "name": "stdout",
     "output_type": "stream",
     "text": [
      "[1] \"Cohort All, Union B-Cell ccpPvera DMLs\"\n"
     ]
    },
    {
     "data": {
      "text/html": [
       "359"
      ],
      "text/latex": [
       "359"
      ],
      "text/markdown": [
       "359"
      ],
      "text/plain": [
       "[1] 359"
      ]
     },
     "metadata": {},
     "output_type": "display_data"
    },
    {
     "name": "stdout",
     "output_type": "stream",
     "text": [
      "[1] \"Cohort All, Union B-Cell ccpPvera DMGs\"\n"
     ]
    },
    {
     "data": {
      "text/html": [
       "112"
      ],
      "text/latex": [
       "112"
      ],
      "text/markdown": [
       "112"
      ],
      "text/plain": [
       "[1] 112"
      ]
     },
     "metadata": {},
     "output_type": "display_data"
    },
    {
     "name": "stdout",
     "output_type": "stream",
     "text": [
      "[1] \"Cohort All, Union T Mem ccpPvera DMLs\"\n"
     ]
    },
    {
     "data": {
      "text/html": [
       "278"
      ],
      "text/latex": [
       "278"
      ],
      "text/markdown": [
       "278"
      ],
      "text/plain": [
       "[1] 278"
      ]
     },
     "metadata": {},
     "output_type": "display_data"
    },
    {
     "name": "stdout",
     "output_type": "stream",
     "text": [
      "[1] \"Cohort All, Union T Mem ccpPvera DMGs\"\n"
     ]
    },
    {
     "data": {
      "text/html": [
       "82"
      ],
      "text/latex": [
       "82"
      ],
      "text/markdown": [
       "82"
      ],
      "text/plain": [
       "[1] 82"
      ]
     },
     "metadata": {},
     "output_type": "display_data"
    },
    {
     "name": "stdout",
     "output_type": "stream",
     "text": [
      "[1] \"Cohort All, Union T Nai ccpPvera DMLs\"\n"
     ]
    },
    {
     "data": {
      "text/html": [
       "270"
      ],
      "text/latex": [
       "270"
      ],
      "text/markdown": [
       "270"
      ],
      "text/plain": [
       "[1] 270"
      ]
     },
     "metadata": {},
     "output_type": "display_data"
    },
    {
     "name": "stdout",
     "output_type": "stream",
     "text": [
      "[1] \"Cohort All, Union T Nai ccpPvera DMGs\"\n"
     ]
    },
    {
     "data": {
      "text/html": [
       "101"
      ],
      "text/latex": [
       "101"
      ],
      "text/markdown": [
       "101"
      ],
      "text/plain": [
       "[1] 101"
      ]
     },
     "metadata": {},
     "output_type": "display_data"
    },
    {
     "name": "stdout",
     "output_type": "stream",
     "text": [
      "[1] \"Cohort All, Union B-Cell ccpMvera DMLs\"\n"
     ]
    },
    {
     "data": {
      "text/html": [
       "403"
      ],
      "text/latex": [
       "403"
      ],
      "text/markdown": [
       "403"
      ],
      "text/plain": [
       "[1] 403"
      ]
     },
     "metadata": {},
     "output_type": "display_data"
    },
    {
     "name": "stdout",
     "output_type": "stream",
     "text": [
      "[1] \"Cohort All, Union B-Cell ccpMvera DMGs\"\n"
     ]
    },
    {
     "data": {
      "text/html": [
       "121"
      ],
      "text/latex": [
       "121"
      ],
      "text/markdown": [
       "121"
      ],
      "text/plain": [
       "[1] 121"
      ]
     },
     "metadata": {},
     "output_type": "display_data"
    },
    {
     "name": "stdout",
     "output_type": "stream",
     "text": [
      "[1] \"Cohort All, Union T Mem ccpMvera DMLs\"\n"
     ]
    },
    {
     "data": {
      "text/html": [
       "806"
      ],
      "text/latex": [
       "806"
      ],
      "text/markdown": [
       "806"
      ],
      "text/plain": [
       "[1] 806"
      ]
     },
     "metadata": {},
     "output_type": "display_data"
    },
    {
     "name": "stdout",
     "output_type": "stream",
     "text": [
      "[1] \"Cohort All, Union T Mem ccpMvera DMGs\"\n"
     ]
    },
    {
     "data": {
      "text/html": [
       "249"
      ],
      "text/latex": [
       "249"
      ],
      "text/markdown": [
       "249"
      ],
      "text/plain": [
       "[1] 249"
      ]
     },
     "metadata": {},
     "output_type": "display_data"
    },
    {
     "name": "stdout",
     "output_type": "stream",
     "text": [
      "[1] \"Cohort All, Union T Nai ccpMvera DMLs\"\n"
     ]
    },
    {
     "data": {
      "text/html": [
       "284"
      ],
      "text/latex": [
       "284"
      ],
      "text/markdown": [
       "284"
      ],
      "text/plain": [
       "[1] 284"
      ]
     },
     "metadata": {},
     "output_type": "display_data"
    },
    {
     "name": "stdout",
     "output_type": "stream",
     "text": [
      "[1] \"Cohort All, Union T Nai ccpMvera DMGs\"\n"
     ]
    },
    {
     "data": {
      "text/html": [
       "83"
      ],
      "text/latex": [
       "83"
      ],
      "text/markdown": [
       "83"
      ],
      "text/plain": [
       "[1] 83"
      ]
     },
     "metadata": {},
     "output_type": "display_data"
    },
    {
     "name": "stdout",
     "output_type": "stream",
     "text": [
      "[1] \"Cohort All, Union B-Cell ccpPvccpM DMLs\"\n"
     ]
    },
    {
     "data": {
      "text/html": [
       "86"
      ],
      "text/latex": [
       "86"
      ],
      "text/markdown": [
       "86"
      ],
      "text/plain": [
       "[1] 86"
      ]
     },
     "metadata": {},
     "output_type": "display_data"
    },
    {
     "name": "stdout",
     "output_type": "stream",
     "text": [
      "[1] \"Cohort All, Union B-Cell ccpPvccpM DMGs\"\n"
     ]
    },
    {
     "data": {
      "text/html": [
       "25"
      ],
      "text/latex": [
       "25"
      ],
      "text/markdown": [
       "25"
      ],
      "text/plain": [
       "[1] 25"
      ]
     },
     "metadata": {},
     "output_type": "display_data"
    },
    {
     "name": "stdout",
     "output_type": "stream",
     "text": [
      "[1] \"Cohort All, Union T Mem ccpPvccpM DMLs\"\n"
     ]
    },
    {
     "data": {
      "text/html": [
       "77"
      ],
      "text/latex": [
       "77"
      ],
      "text/markdown": [
       "77"
      ],
      "text/plain": [
       "[1] 77"
      ]
     },
     "metadata": {},
     "output_type": "display_data"
    },
    {
     "name": "stdout",
     "output_type": "stream",
     "text": [
      "[1] \"Cohort All, Union T Mem ccpPvccpM DMGs\"\n"
     ]
    },
    {
     "data": {
      "text/html": [
       "22"
      ],
      "text/latex": [
       "22"
      ],
      "text/markdown": [
       "22"
      ],
      "text/plain": [
       "[1] 22"
      ]
     },
     "metadata": {},
     "output_type": "display_data"
    },
    {
     "name": "stdout",
     "output_type": "stream",
     "text": [
      "[1] \"Cohort All, Union T Nai ccpPvccpM DMLs\"\n"
     ]
    },
    {
     "data": {
      "text/html": [
       "83"
      ],
      "text/latex": [
       "83"
      ],
      "text/markdown": [
       "83"
      ],
      "text/plain": [
       "[1] 83"
      ]
     },
     "metadata": {},
     "output_type": "display_data"
    },
    {
     "name": "stdout",
     "output_type": "stream",
     "text": [
      "[1] \"Cohort All, Union T Nai ccpPvccpM DMGs\"\n"
     ]
    },
    {
     "data": {
      "text/html": [
       "28"
      ],
      "text/latex": [
       "28"
      ],
      "text/markdown": [
       "28"
      ],
      "text/plain": [
       "[1] 28"
      ]
     },
     "metadata": {},
     "output_type": "display_data"
    }
   ],
   "source": [
    "### Version 1: Only females, all chromosomes; used for manuscript, pathway analysis, etc.\n",
    "## Select DMLs for each cohort\n",
    "# define cutoffs\n",
    "pVal_cutoff = 0.05\n",
    "bDif_cutoff = 0.10\n",
    "\n",
    "\n",
    "## define DMLs for each subset\n",
    "# cohort 1\n",
    "selectedLoci_bCell_ccpPvccpM_F_cohort1_allChrom_df = compStats_df[compStats_df$pVal_bCell_ccpPvccpM_F_cohort1 < pVal_cutoff & abs(compStats_df$bDif_bCell_ccpPvccpM_F_cohort1) > bDif_cutoff, ]\n",
    "selectedLoci_bCell_ccpPvera_F_cohort1_allChrom_df = compStats_df[compStats_df$pVal_bCell_ccpPvera_F_cohort1 < pVal_cutoff & abs(compStats_df$bDif_bCell_ccpPvera_F_cohort1) > bDif_cutoff, ]\n",
    "selectedLoci_bCell_ccpMvera_F_cohort1_allChrom_df = compStats_df[compStats_df$pVal_bCell_ccpMvera_F_cohort1 < pVal_cutoff & abs(compStats_df$bDif_bCell_ccpMvera_F_cohort1) > bDif_cutoff, ]\n",
    "\n",
    "selectedLoci_tMem_ccpPvccpM_F_cohort1_allChrom_df = compStats_df[compStats_df$pVal_tMem_ccpPvccpM_F_cohort1 < pVal_cutoff & abs(compStats_df$bDif_tMem_ccpPvccpM_F_cohort1) > bDif_cutoff, ]\n",
    "selectedLoci_tMem_ccpPvera_F_cohort1_allChrom_df = compStats_df[compStats_df$pVal_tMem_ccpPvera_F_cohort1 < pVal_cutoff & abs(compStats_df$bDif_tMem_ccpPvera_F_cohort1) > bDif_cutoff, ]\n",
    "selectedLoci_tMem_ccpMvera_F_cohort1_allChrom_df = compStats_df[compStats_df$pVal_tMem_ccpMvera_F_cohort1 < pVal_cutoff & abs(compStats_df$bDif_tMem_ccpMvera_F_cohort1) > bDif_cutoff, ]\n",
    "\n",
    "selectedLoci_tNai_ccpPvccpM_F_cohort1_allChrom_df = compStats_df[compStats_df$pVal_tNai_ccpPvccpM_F_cohort1 < pVal_cutoff & abs(compStats_df$bDif_tNai_ccpPvccpM_F_cohort1) > bDif_cutoff, ]\n",
    "selectedLoci_tNai_ccpPvera_F_cohort1_allChrom_df = compStats_df[compStats_df$pVal_tNai_ccpPvera_F_cohort1 < pVal_cutoff & abs(compStats_df$bDif_tNai_ccpPvera_F_cohort1) > bDif_cutoff, ]\n",
    "selectedLoci_tNai_ccpMvera_F_cohort1_allChrom_df = compStats_df[compStats_df$pVal_tNai_ccpMvera_F_cohort1 < pVal_cutoff & abs(compStats_df$bDif_tNai_ccpMvera_F_cohort1) > bDif_cutoff, ]\n",
    "\n",
    "# cohort 2\n",
    "selectedLoci_bCell_ccpPvccpM_F_cohort2_allChrom_df = compStats_df[compStats_df$pVal_bCell_ccpPvccpM_F_cohort2 < pVal_cutoff & abs(compStats_df$bDif_bCell_ccpPvccpM_F_cohort2) > bDif_cutoff, ]\n",
    "selectedLoci_bCell_ccpPvera_F_cohort2_allChrom_df = compStats_df[compStats_df$pVal_bCell_ccpPvera_F_cohort2 < pVal_cutoff & abs(compStats_df$bDif_bCell_ccpPvera_F_cohort2) > bDif_cutoff, ]\n",
    "selectedLoci_bCell_ccpMvera_F_cohort2_allChrom_df = compStats_df[compStats_df$pVal_bCell_ccpMvera_F_cohort2 < pVal_cutoff & abs(compStats_df$bDif_bCell_ccpMvera_F_cohort2) > bDif_cutoff, ]\n",
    "\n",
    "selectedLoci_tMem_ccpPvccpM_F_cohort2_allChrom_df = compStats_df[compStats_df$pVal_tMem_ccpPvccpM_F_cohort2 < pVal_cutoff & abs(compStats_df$bDif_tMem_ccpPvccpM_F_cohort2) > bDif_cutoff, ]\n",
    "selectedLoci_tMem_ccpPvera_F_cohort2_allChrom_df = compStats_df[compStats_df$pVal_tMem_ccpPvera_F_cohort2 < pVal_cutoff & abs(compStats_df$bDif_tMem_ccpPvera_F_cohort2) > bDif_cutoff, ]\n",
    "selectedLoci_tMem_ccpMvera_F_cohort2_allChrom_df = compStats_df[compStats_df$pVal_tMem_ccpMvera_F_cohort2 < pVal_cutoff & abs(compStats_df$bDif_tMem_ccpMvera_F_cohort2) > bDif_cutoff, ]\n",
    "\n",
    "selectedLoci_tNai_ccpPvccpM_F_cohort2_allChrom_df = compStats_df[compStats_df$pVal_tNai_ccpPvccpM_F_cohort2 < pVal_cutoff & abs(compStats_df$bDif_tNai_ccpPvccpM_F_cohort2) > bDif_cutoff, ]\n",
    "selectedLoci_tNai_ccpPvera_F_cohort2_allChrom_df = compStats_df[compStats_df$pVal_tNai_ccpPvera_F_cohort2 < pVal_cutoff & abs(compStats_df$bDif_tNai_ccpPvera_F_cohort2) > bDif_cutoff, ]\n",
    "selectedLoci_tNai_ccpMvera_F_cohort2_allChrom_df = compStats_df[compStats_df$pVal_tNai_ccpMvera_F_cohort2 < pVal_cutoff & abs(compStats_df$bDif_tNai_ccpMvera_F_cohort2) > bDif_cutoff, ]\n",
    "\n",
    "## define DMGs for each subset\n",
    "analysis_dml_v1_list = list(as.vector(rownames(selectedLoci_bCell_ccpPvccpM_F_cohort1_allChrom_df)), as.vector(rownames(selectedLoci_bCell_ccpPvera_F_cohort1_allChrom_df)), as.vector(rownames(selectedLoci_bCell_ccpMvera_F_cohort1_allChrom_df)), \n",
    "                        as.vector(rownames(selectedLoci_tMem_ccpPvccpM_F_cohort1_allChrom_df)), as.vector(rownames(selectedLoci_tMem_ccpPvera_F_cohort1_allChrom_df)), as.vector(rownames(selectedLoci_tMem_ccpMvera_F_cohort1_allChrom_df)),\n",
    "                        as.vector(rownames(selectedLoci_tNai_ccpPvccpM_F_cohort1_allChrom_df)), as.vector(rownames(selectedLoci_tNai_ccpPvera_F_cohort1_allChrom_df)), as.vector(rownames(selectedLoci_tNai_ccpMvera_F_cohort1_allChrom_df)),\n",
    "                        as.vector(rownames(selectedLoci_bCell_ccpPvccpM_F_cohort2_allChrom_df)), as.vector(rownames(selectedLoci_bCell_ccpPvera_F_cohort2_allChrom_df)), as.vector(rownames(selectedLoci_bCell_ccpMvera_F_cohort2_allChrom_df)),\n",
    "                        as.vector(rownames(selectedLoci_tMem_ccpPvccpM_F_cohort2_allChrom_df)), as.vector(rownames(selectedLoci_tMem_ccpPvera_F_cohort2_allChrom_df)), as.vector(rownames(selectedLoci_tMem_ccpMvera_F_cohort2_allChrom_df)),\n",
    "                        as.vector(rownames(selectedLoci_tNai_ccpPvccpM_F_cohort2_allChrom_df)), as.vector(rownames(selectedLoci_tNai_ccpPvera_F_cohort2_allChrom_df)), as.vector(rownames(selectedLoci_tNai_ccpMvera_F_cohort2_allChrom_df)))\n",
    "\n",
    "names(analysis_dml_v1_list) = c(\"selectedLoci_bCell_ccpPvccpM_F_cohort1_allChrom\", \"selectedLoci_bCell_ccpPvera_F_cohort1_allChrom\", \"selectedLoci_bCell_ccpMvera_F_cohort1_allChrom\", \n",
    "                        \"selectedLoci_tMem_ccpPvccpM_F_cohort1_allChrom\", \"selectedLoci_tMem_ccpPvera_F_cohort1_allChrom\", \"selectedLoci_tMem_ccpMvera_F_cohort1_allChrom\",\n",
    "                        \"selectedLoci_tNai_ccpPvccpM_F_cohort1_allChrom\", \"selectedLoci_tNai_ccpPvera_F_cohort1_allChrom\", \"selectedLoci_tNai_ccpMvera_F_cohort1_allChrom\",\n",
    "                        \"selectedLoci_bCell_ccpPvccpM_F_cohort2_allChrom\", \"selectedLoci_bCell_ccpPvera_F_cohort2_allChrom\", \"selectedLoci_bCell_ccpMvera_F_cohort2_allChrom\",\n",
    "                        \"selectedLoci_tMem_ccpPvccpM_F_cohort2_allChrom\", \"selectedLoci_tMem_ccpPvera_F_cohort2_allChrom\", \"selectedLoci_tMem_ccpMvera_F_cohort2_allChrom\",\n",
    "                        \"selectedLoci_tNai_ccpPvccpM_F_cohort2_allChrom\", \"selectedLoci_tNai_ccpPvera_F_cohort2_allChrom\", \"selectedLoci_tNai_ccpMvera_F_cohort2_allChrom\")\n",
    "                           \n",
    "dml_v1_list = list()\n",
    "dmg_v1_list = list()\n",
    "for (i in 1:length(analysis_dml_v1_list)) {\n",
    "    # define analysis name\n",
    "    analysis_name = names(analysis_dml_v1_list)[i]\n",
    "    print(analysis_name)\n",
    "    # create annotation df\n",
    "    analysis_dml_vector = analysis_dml_v1_list[[i]]\n",
    "    analysis_an = anno_data[analysis_dml_vector,]\n",
    "    # remove chrY DMLs\n",
    "    analysis_an = analysis_an[analysis_an$chr != \"chrY\", ]\n",
    "    analysis_pct_chrX = dim(analysis_an[analysis_an$chr == \"chrX\",])[1] / dim(analysis_an)[1]\n",
    "    print(analysis_pct_chrX)\n",
    "    # get DMLs\n",
    "    analysis_dml_vector = rownames(analysis_an)\n",
    "    print(length(analysis_dml_vector))\n",
    "    # create gRanges object\n",
    "    analysis_gr = GRanges(seqnames=analysis_an$chr,\n",
    "                    ranges=IRanges(start=analysis_an$pos, end=analysis_an$pos),\n",
    "                    strand=analysis_an$strand,\n",
    "                    names=analysis_an$Name)\n",
    "    # take overlap by comparing coordinates against promoter / gene body gRanges object\n",
    "    #overlap_gr = subsetByOverlaps(promoter_gr, analysis_gr)\n",
    "    overlap_gr = subsetByOverlaps(combinedRegion_gr, analysis_gr)\n",
    "    # get DMGs\n",
    "    analysis_dmg_vector = unique(overlap_gr$names)\n",
    "    print(length(analysis_dmg_vector))\n",
    "    # store dmls and dmgs in list\n",
    "    dml_v1_list[[analysis_name]] = analysis_dml_vector\n",
    "    dmg_v1_list[[analysis_name]] = analysis_dmg_vector\n",
    "    }\n",
    "\n",
    "\n",
    "setwd(dml_output_dir)\n",
    "# B-Cell\n",
    "dmlUnion_v1_bCell_F_cohort1_allChrom_vector = Reduce(union, list(dml_v1_list[[\"selectedLoci_bCell_ccpPvccpM_F_cohort1_allChrom\"]], dml_v1_list[[\"selectedLoci_bCell_ccpPvera_F_cohort1_allChrom\"]], dml_v1_list[[\"selectedLoci_bCell_ccpMvera_F_cohort1_allChrom\"]]))\n",
    "length(dmlUnion_v1_bCell_F_cohort1_allChrom_vector)\n",
    "dmgUnion_v1_bCell_F_cohort1_allChrom_vector = Reduce(union, list(dmg_v1_list[[\"selectedLoci_bCell_ccpPvccpM_F_cohort1_allChrom\"]], dmg_v1_list[[\"selectedLoci_bCell_ccpPvera_F_cohort1_allChrom\"]], dmg_v1_list[[\"selectedLoci_bCell_ccpMvera_F_cohort1_allChrom\"]]))\n",
    "length(dmgUnion_v1_bCell_F_cohort1_allChrom_vector)\n",
    "\n",
    "dmlUnion_v1_bCell_F_cohort2_allChrom_vector = Reduce(union, list(dml_v1_list[[\"selectedLoci_bCell_ccpPvccpM_F_cohort2_allChrom\"]], dml_v1_list[[\"selectedLoci_bCell_ccpPvera_F_cohort2_allChrom\"]], dml_v1_list[[\"selectedLoci_bCell_ccpMvera_F_cohort2_allChrom\"]]))\n",
    "length(dmlUnion_v1_bCell_F_cohort2_allChrom_vector)\n",
    "dmgUnion_v1_bCell_F_cohort2_allChrom_vector = Reduce(union, list(dmg_v1_list[[\"selectedLoci_bCell_ccpPvccpM_F_cohort2_allChrom\"]], dmg_v1_list[[\"selectedLoci_bCell_ccpPvera_F_cohort2_allChrom\"]], dmg_v1_list[[\"selectedLoci_bCell_ccpMvera_F_cohort2_allChrom\"]]))\n",
    "length(dmgUnion_v1_bCell_F_cohort2_allChrom_vector)\n",
    "\n",
    "dmlUnion_v1_bCell_F_cohortUnion_allChrom_vector = Reduce(union, list(dmlUnion_v1_bCell_F_cohort1_allChrom_vector, dmlUnion_v1_bCell_F_cohort2_allChrom_vector))\n",
    "print(\"Cohort All Union, B Cell DMLs\")\n",
    "length(dmlUnion_v1_bCell_F_cohortUnion_allChrom_vector)\n",
    "write_csv(data.frame(sort(dmlUnion_v1_bCell_F_cohortUnion_allChrom_vector)), \"dmlUnion_v1_bCell_F_allChrom_vector.csv\")\n",
    "\n",
    "geneO_bCell_F_cohort1_allChrom_obj = newGeneOverlap(dmgUnion_v1_bCell_F_cohort1_allChrom_vector, dmgUnion_v1_bCell_F_cohort2_allChrom_vector, length(unique(tss_gr$gene)))\n",
    "geneO_bCell_F_cohort1_allChrom_obj = testGeneOverlap(geneO_bCell_F_cohort1_allChrom_obj)\n",
    "print(geneO_bCell_F_cohort1_allChrom_obj)\n",
    "\n",
    "dmlO_bCell_F_allChrom_obj = phyper(length(Reduce(intersect, list(dmlUnion_v1_bCell_F_cohort1_allChrom_vector, dmlUnion_v1_bCell_F_cohort2_allChrom_vector)))-1, \n",
    "                                   length(dmlUnion_v1_bCell_F_cohort2_allChrom_vector), \n",
    "                                   length(rownames(analysis_df)) - length(dmlUnion_v1_bCell_F_cohort2_allChrom_vector), \n",
    "                                   length(dmlUnion_v1_bCell_F_cohort1_allChrom_vector), \n",
    "                                   lower.tail= FALSE)\n",
    "print(paste0(\"bCell DML Enrichment Hypergeometric P-Value = \", dmlO_bCell_F_allChrom_obj))\n",
    "\n",
    "\n",
    "# Memory T-Cell\n",
    "dmlUnion_v1_tMem_F_cohort1_allChrom_vector = Reduce(union, list(dml_v1_list[[\"selectedLoci_tMem_ccpPvccpM_F_cohort1_allChrom\"]], dml_v1_list[[\"selectedLoci_tMem_ccpPvera_F_cohort1_allChrom\"]], dml_v1_list[[\"selectedLoci_tMem_ccpMvera_F_cohort1_allChrom\"]]))\n",
    "length(dmlUnion_v1_tMem_F_cohort1_allChrom_vector)\n",
    "dmgUnion_v1_tMem_F_cohort1_allChrom_vector = Reduce(union, list(dmg_v1_list[[\"selectedLoci_tMem_ccpPvccpM_F_cohort1_allChrom\"]], dmg_v1_list[[\"selectedLoci_tMem_ccpPvera_F_cohort1_allChrom\"]], dmg_v1_list[[\"selectedLoci_tMem_ccpMvera_F_cohort1_allChrom\"]]))\n",
    "length(dmgUnion_v1_tMem_F_cohort1_allChrom_vector)\n",
    "\n",
    "dmlUnion_v1_tMem_F_cohort2_allChrom_vector = Reduce(union, list(dml_v1_list[[\"selectedLoci_tMem_ccpPvccpM_F_cohort2_allChrom\"]], dml_v1_list[[\"selectedLoci_tMem_ccpPvera_F_cohort2_allChrom\"]], dml_v1_list[[\"selectedLoci_tMem_ccpMvera_F_cohort2_allChrom\"]]))\n",
    "length(dmlUnion_v1_tMem_F_cohort2_allChrom_vector)\n",
    "dmgUnion_v1_tMem_F_cohort2_allChrom_vector = Reduce(union, list(dmg_v1_list[[\"selectedLoci_tMem_ccpPvccpM_F_cohort2_allChrom\"]], dmg_v1_list[[\"selectedLoci_tMem_ccpPvera_F_cohort2_allChrom\"]], dmg_v1_list[[\"selectedLoci_tMem_ccpMvera_F_cohort2_allChrom\"]]))\n",
    "length(dmgUnion_v1_tMem_F_cohort2_allChrom_vector)\n",
    "\n",
    "dmlUnion_v1_tMem_F_cohortUnion_allChrom_vector = Reduce(union, list(dmlUnion_v1_tMem_F_cohort1_allChrom_vector, dmlUnion_v1_tMem_F_cohort2_allChrom_vector))\n",
    "print(\"Cohort All Union, Memory T Cell DMLs\")\n",
    "length(dmlUnion_v1_tMem_F_cohortUnion_allChrom_vector)\n",
    "write_csv(data.frame(sort(dmlUnion_v1_tMem_F_cohortUnion_allChrom_vector)), \"dmlUnion_v1_tMem_F_allChrom_vector.csv\")\n",
    "\n",
    "geneO_tMem_F_cohort1_allChrom_obj = newGeneOverlap(dmgUnion_v1_tMem_F_cohort1_allChrom_vector, dmgUnion_v1_tMem_F_cohort2_allChrom_vector, length(unique(tss_gr$gene)))\n",
    "geneO_tMem_F_cohort1_allChrom_obj = testGeneOverlap(geneO_tMem_F_cohort1_allChrom_obj)\n",
    "print(geneO_tMem_F_cohort1_allChrom_obj)\n",
    "\n",
    "dmlO_tMem_F_allChrom_obj = phyper(length(Reduce(intersect, list(dmlUnion_v1_tMem_F_cohort1_allChrom_vector, dmlUnion_v1_tMem_F_cohort2_allChrom_vector)))-1, \n",
    "                                   length(dmlUnion_v1_tMem_F_cohort2_allChrom_vector), \n",
    "                                   length(rownames(analysis_df)) - length(dmlUnion_v1_tMem_F_cohort2_allChrom_vector), \n",
    "                                   length(dmlUnion_v1_tMem_F_cohort1_allChrom_vector), \n",
    "                                   lower.tail= FALSE)\n",
    "print(paste0(\"tMem DML Enrichment Hypergeometric P-Value = \", dmlO_tMem_F_allChrom_obj))\n",
    "\n",
    "# Naive T-Cell\n",
    "dmlUnion_v1_tNai_F_cohort1_allChrom_vector = Reduce(union, list(dml_v1_list[[\"selectedLoci_tNai_ccpPvccpM_F_cohort1_allChrom\"]], dml_v1_list[[\"selectedLoci_tNai_ccpPvera_F_cohort1_allChrom\"]], dml_v1_list[[\"selectedLoci_tNai_ccpMvera_F_cohort1_allChrom\"]]))\n",
    "length(dmlUnion_v1_tNai_F_cohort1_allChrom_vector)\n",
    "dmgUnion_v1_tNai_F_cohort1_allChrom_vector = Reduce(union, list(dmg_v1_list[[\"selectedLoci_tNai_ccpPvccpM_F_cohort1_allChrom\"]], dmg_v1_list[[\"selectedLoci_tNai_ccpPvera_F_cohort1_allChrom\"]], dmg_v1_list[[\"selectedLoci_tNai_ccpMvera_F_cohort1_allChrom\"]]))\n",
    "length(dmgUnion_v1_tNai_F_cohort1_allChrom_vector)\n",
    "\n",
    "dmlUnion_v1_tNai_F_cohort2_allChrom_vector = Reduce(union, list(dml_v1_list[[\"selectedLoci_tNai_ccpPvccpM_F_cohort2_allChrom\"]], dml_v1_list[[\"selectedLoci_tNai_ccpPvera_F_cohort2_allChrom\"]], dml_v1_list[[\"selectedLoci_tNai_ccpMvera_F_cohort2_allChrom\"]]))\n",
    "length(dmlUnion_v1_tNai_F_cohort2_allChrom_vector)\n",
    "dmgUnion_v1_tNai_F_cohort2_allChrom_vector = Reduce(union, list(dmg_v1_list[[\"selectedLoci_tNai_ccpPvccpM_F_cohort2_allChrom\"]], dmg_v1_list[[\"selectedLoci_tNai_ccpPvera_F_cohort2_allChrom\"]], dmg_v1_list[[\"selectedLoci_tNai_ccpMvera_F_cohort2_allChrom\"]]))\n",
    "length(dmgUnion_v1_tNai_F_cohort2_allChrom_vector)\n",
    "\n",
    "dmlUnion_v1_tNai_F_cohortUnion_allChrom_vector = Reduce(union, list(dmlUnion_v1_tNai_F_cohort1_allChrom_vector, dmlUnion_v1_tNai_F_cohort2_allChrom_vector))\n",
    "print(\"Cohort All Union, Naive T Cell DMLs\")\n",
    "length(dmlUnion_v1_tNai_F_cohortUnion_allChrom_vector)\n",
    "write_csv(data.frame(sort(dmlUnion_v1_tNai_F_cohortUnion_allChrom_vector)), \"dmlUnion_v1_tNai_F_allChrom_vector.csv\")\n",
    "\n",
    "geneO_tNai_F_cohort1_allChrom_obj = newGeneOverlap(dmgUnion_v1_tNai_F_cohort1_allChrom_vector, dmgUnion_v1_tNai_F_cohort2_allChrom_vector, length(unique(tss_gr$gene)))\n",
    "geneO_tNai_F_cohort1_allChrom_obj = testGeneOverlap(geneO_tNai_F_cohort1_allChrom_obj)\n",
    "print(geneO_tNai_F_cohort1_allChrom_obj)\n",
    "\n",
    "dmlO_tNai_F_allChrom_obj = phyper(length(Reduce(intersect, list(dmlUnion_v1_tNai_F_cohort1_allChrom_vector, dmlUnion_v1_tNai_F_cohort2_allChrom_vector)))-1, \n",
    "                                   length(dmlUnion_v1_tNai_F_cohort2_allChrom_vector), \n",
    "                                   length(rownames(analysis_df)) - length(dmlUnion_v1_tNai_F_cohort2_allChrom_vector), \n",
    "                                   length(dmlUnion_v1_tNai_F_cohort1_allChrom_vector), \n",
    "                                   lower.tail= FALSE)\n",
    "print(paste0(\"tNai DML Enrichment Hypergeometric P-Value = \", dmlO_tNai_F_allChrom_obj))\n",
    "\n",
    "# all cell type union\n",
    "print(\"Cohort All, Cell Type All, Union DMLs\")\n",
    "dmlUnion_v1_all_F_cohortUnion_allChrom_vector = Reduce(union, list(dmlUnion_v1_bCell_F_cohortUnion_allChrom_vector, dmlUnion_v1_tMem_F_cohortUnion_allChrom_vector, dmlUnion_v1_tNai_F_cohortUnion_allChrom_vector))\n",
    "length(dmlUnion_v1_all_F_cohortUnion_allChrom_vector)\n",
    "write_csv(data.frame(sort(dmlUnion_v1_all_F_cohortUnion_allChrom_vector)), \"dmlUnion_v1_all_F_allChrom_vector.csv\")\n",
    "\n",
    "##  Output key DMGs to be used in Reactome analysis\n",
    "setwd(dmg_output_dir)\n",
    "# Union DMGs, B-Cell\n",
    "dmgUnion_v1_bCell_ccpPvccpM_F_allChrom_vector = Reduce(union, list(dmg_v1_list[[\"selectedLoci_bCell_ccpPvccpM_F_cohort1_allChrom\"]], dmg_v1_list[[\"selectedLoci_bCell_ccpPvccpM_F_cohort2_allChrom\"]]))\n",
    "length(dmgUnion_v1_bCell_ccpPvccpM_F_allChrom_vector)\n",
    "dmgUnion_v1_bCell_ccpPvera_F_allChrom_vector = Reduce(union, list(dmg_v1_list[[\"selectedLoci_bCell_ccpPvera_F_cohort1_allChrom\"]], dmg_v1_list[[\"selectedLoci_bCell_ccpPvera_F_cohort2_allChrom\"]]))\n",
    "length(dmgUnion_v1_bCell_ccpPvera_F_allChrom_vector)\n",
    "dmgUnion_v1_bCell_ccpMvera_F_allChrom_vector = Reduce(union, list(dmg_v1_list[[\"selectedLoci_bCell_ccpMvera_F_cohort1_allChrom\"]], dmg_v1_list[[\"selectedLoci_bCell_ccpMvera_F_cohort2_allChrom\"]]))\n",
    "length(dmgUnion_v1_bCell_ccpMvera_F_allChrom_vector)\n",
    "dmgUnion_v1_bCell_F_allChrom_vector = Reduce(union, list(dmgUnion_v1_bCell_F_cohort1_allChrom_vector, dmgUnion_v1_bCell_F_cohort2_allChrom_vector))\n",
    "length(dmgUnion_v1_bCell_F_allChrom_vector)\n",
    "\n",
    "print(\"Cohort All, Union B-Cell DMGs\")\n",
    "length(dmgUnion_v1_bCell_F_allChrom_vector)\n",
    "write_csv(data.frame(sort(dmgUnion_v1_bCell_F_allChrom_vector)), \"dmgUnion_v1_bCell_F_allChrom_vector.csv\")\n",
    "\n",
    "print(\"Cohort 2 B Cell DMGs\")\n",
    "length(dmgUnion_v1_bCell_F_cohort2_allChrom_vector)\n",
    "write_csv(data.frame(sort(dmgUnion_v1_bCell_F_cohort2_allChrom_vector)), \"dmgUnion_v1_bCell_F_cohort2_allChrom_vector.csv\")\n",
    "\n",
    "\n",
    "# Union DMGs, Memory T-Cell\n",
    "dmgUnion_v1_tMem_ccpPvccpM_F_allChrom_vector = Reduce(union, list(dmg_v1_list[[\"selectedLoci_tMem_ccpPvccpM_F_cohort1_allChrom\"]], dmg_v1_list[[\"selectedLoci_tMem_ccpPvccpM_F_cohort2_allChrom\"]]))\n",
    "length(dmgUnion_v1_tMem_ccpPvccpM_F_allChrom_vector)\n",
    "dmgUnion_v1_tMem_ccpPvera_F_allChrom_vector = Reduce(union, list(dmg_v1_list[[\"selectedLoci_tMem_ccpPvera_F_cohort1_allChrom\"]], dmg_v1_list[[\"selectedLoci_tMem_ccpPvera_F_cohort2_allChrom\"]]))\n",
    "length(dmgUnion_v1_tMem_ccpPvera_F_allChrom_vector)\n",
    "dmgUnion_v1_tMem_ccpMvera_F_allChrom_vector = Reduce(union, list(dmg_v1_list[[\"selectedLoci_tMem_ccpMvera_F_cohort1_allChrom\"]], dmg_v1_list[[\"selectedLoci_tMem_ccpMvera_F_cohort2_allChrom\"]]))\n",
    "length(dmgUnion_v1_tMem_ccpMvera_F_allChrom_vector)\n",
    "dmgUnion_v1_tMem_F_allChrom_vector = Reduce(union, list(dmgUnion_v1_tMem_F_cohort1_allChrom_vector, dmgUnion_v1_tMem_F_cohort2_allChrom_vector))\n",
    "length(dmgUnion_v1_tMem_F_allChrom_vector)\n",
    "\n",
    "print(\"Cohort All, Union T Mem DMGs\")\n",
    "length(dmgUnion_v1_tMem_F_allChrom_vector)\n",
    "write_csv(data.frame(sort(dmgUnion_v1_tMem_F_allChrom_vector)), \"dmgUnion_v1_tMem_F_allChrom_vector.csv\")\n",
    "\n",
    "print(\"Cohort 2 T Mem DMGs\")\n",
    "length(dmgUnion_v1_tMem_F_cohort2_allChrom_vector)\n",
    "write_csv(data.frame(sort(dmgUnion_v1_tMem_F_cohort2_allChrom_vector)), \"dmgUnion_v1_tMem_F_cohort2_allChrom_vector.csv\")\n",
    "\n",
    "\n",
    "# Union DMGs, Naive T-Cell\n",
    "dmgUnion_v1_tNai_ccpPvccpM_F_allChrom_vector = Reduce(union, list(dmg_v1_list[[\"selectedLoci_tNai_ccpPvccpM_F_cohort1_allChrom\"]], dmg_v1_list[[\"selectedLoci_tNai_ccpPvccpM_F_cohort2_allChrom\"]]))\n",
    "length(dmgUnion_v1_tNai_ccpPvccpM_F_allChrom_vector)\n",
    "dmgUnion_v1_tNai_ccpPvera_F_allChrom_vector = Reduce(union, list(dmg_v1_list[[\"selectedLoci_tNai_ccpPvera_F_cohort1_allChrom\"]], dmg_v1_list[[\"selectedLoci_tNai_ccpPvera_F_cohort2_allChrom\"]]))\n",
    "length(dmgUnion_v1_tNai_ccpPvera_F_allChrom_vector)\n",
    "dmgUnion_v1_tNai_ccpMvera_F_allChrom_vector = Reduce(union, list(dmg_v1_list[[\"selectedLoci_tNai_ccpMvera_F_cohort1_allChrom\"]], dmg_v1_list[[\"selectedLoci_tNai_ccpMvera_F_cohort2_allChrom\"]]))\n",
    "length(dmgUnion_v1_tNai_ccpMvera_F_allChrom_vector)\n",
    "dmgUnion_v1_tNai_F_allChrom_vector = Reduce(union, list(dmgUnion_v1_tNai_F_cohort1_allChrom_vector, dmgUnion_v1_tNai_F_cohort2_allChrom_vector))\n",
    "length(dmgUnion_v1_tNai_F_allChrom_vector)\n",
    "\n",
    "print(\"Cohort All, Union T Nai DMGs\")\n",
    "length(dmgUnion_v1_tNai_F_allChrom_vector)\n",
    "write_csv(data.frame(sort(dmgUnion_v1_tNai_F_allChrom_vector)), \"dmgUnion_v1_tNai_F_allChrom_vector.csv\")\n",
    "\n",
    "print(\"Cohort 2 T Nai DMGs\")\n",
    "length(dmgUnion_v1_tNai_F_cohort2_allChrom_vector)\n",
    "write_csv(data.frame(sort(dmgUnion_v1_tNai_F_cohort2_allChrom_vector)), \"dmgUnion_v1_tNai_F_cohort2_allChrom_vector.csv\")\n",
    "\n",
    "# Union DMGs, All\n",
    "print(\"Cohort All, Cell Type All, Union ccpPvccpM DMGs\")\n",
    "dmgUnion_v1_all_ccpPvccpM_F_allChrom_vector = Reduce(union, list(dmgUnion_v1_bCell_ccpPvccpM_F_allChrom_vector, dmgUnion_v1_tMem_ccpPvccpM_F_allChrom_vector, dmgUnion_v1_tNai_ccpPvccpM_F_allChrom_vector))\n",
    "length(dmgUnion_v1_all_ccpPvccpM_F_allChrom_vector)\n",
    "print(\"Cohort All, Cell Type All, Union ccpPvera DMGs\")\n",
    "dmgUnion_v1_all_ccpPvera_F_allChrom_vector = Reduce(union, list(dmgUnion_v1_bCell_ccpPvera_F_allChrom_vector, dmgUnion_v1_tMem_ccpPvera_F_allChrom_vector, dmgUnion_v1_tNai_ccpPvera_F_allChrom_vector))\n",
    "length(dmgUnion_v1_all_ccpPvera_F_allChrom_vector)\n",
    "print(\"Cohort All, Cell Type All, Union ccpMvera DMGs\")\n",
    "dmgUnion_v1_all_ccpMvera_F_allChrom_vector = Reduce(union, list(dmgUnion_v1_bCell_ccpMvera_F_allChrom_vector, dmgUnion_v1_tMem_ccpMvera_F_allChrom_vector, dmgUnion_v1_tNai_ccpMvera_F_allChrom_vector))\n",
    "length(dmgUnion_v1_all_ccpMvera_F_allChrom_vector)\n",
    "print(\"Cohort All, Cell Type All, RA Status All, Union DMGs\")\n",
    "dmgUnion_v1_all_all_F_allChrom_vector = Reduce(union, list(dmgUnion_v1_all_ccpPvccpM_F_allChrom_vector, dmgUnion_v1_all_ccpPvera_F_allChrom_vector, dmgUnion_v1_all_ccpMvera_F_allChrom_vector))\n",
    "length(dmgUnion_v1_all_all_F_allChrom_vector)\n",
    "write_csv(data.frame(sort(dmgUnion_v1_all_all_F_allChrom_vector)), \"dmgUnion_v1_all_all_F_allChrom_vector.csv\")\n",
    "\n",
    "\n",
    "## Specific one vs one analysis\n",
    "# CCP+ vs ERA\n",
    "print(\"Cohort All, Union B-Cell ccpPvera DMLs\")\n",
    "dmlUnion_v1_bCell_ccpPvera_F_allChrom_vector = Reduce(union, list(dml_v1_list[[\"selectedLoci_bCell_ccpPvera_F_cohort1_allChrom\"]], dml_v1_list[[\"selectedLoci_bCell_ccpPvera_F_cohort2_allChrom\"]]))\n",
    "length(dmlUnion_v1_bCell_ccpPvera_F_allChrom_vector)\n",
    "print(\"Cohort All, Union B-Cell ccpPvera DMGs\")\n",
    "dmgUnion_v1_bCell_ccpPvera_F_allChrom_vector = Reduce(union, list(dmg_v1_list[[\"selectedLoci_bCell_ccpPvera_F_cohort1_allChrom\"]], dmg_v1_list[[\"selectedLoci_bCell_ccpPvera_F_cohort2_allChrom\"]]))\n",
    "length(dmgUnion_v1_bCell_ccpPvera_F_allChrom_vector)\n",
    "write_csv(data.frame(sort(dmgUnion_v1_bCell_ccpPvera_F_allChrom_vector)), \"dmgUnion_v1_bCell_ccpPvera_F_allChrom_vector.csv\")\n",
    "\n",
    "print(\"Cohort All, Union T Mem ccpPvera DMLs\")\n",
    "dmlUnion_v1_tMem_ccpPvera_F_allChrom_vector = Reduce(union, list(dml_v1_list[[\"selectedLoci_tMem_ccpPvera_F_cohort1_allChrom\"]], dml_v1_list[[\"selectedLoci_tMem_ccpPvera_F_cohort2_allChrom\"]]))\n",
    "length(dmlUnion_v1_tMem_ccpPvera_F_allChrom_vector)\n",
    "print(\"Cohort All, Union T Mem ccpPvera DMGs\")\n",
    "dmgUnion_v1_tMem_ccpPvera_F_allChrom_vector = Reduce(union, list(dmg_v1_list[[\"selectedLoci_tMem_ccpPvera_F_cohort1_allChrom\"]], dmg_v1_list[[\"selectedLoci_tMem_ccpPvera_F_cohort2_allChrom\"]]))\n",
    "length(dmgUnion_v1_tMem_ccpPvera_F_allChrom_vector)\n",
    "write_csv(data.frame(sort(dmgUnion_v1_tMem_ccpPvera_F_allChrom_vector)), \"dmgUnion_v1_tMem_ccpPvera_F_allChrom_vector.csv\")\n",
    "\n",
    "print(\"Cohort All, Union T Nai ccpPvera DMLs\")\n",
    "dmlUnion_v1_tNai_ccpPvera_F_allChrom_vector = Reduce(union, list(dml_v1_list[[\"selectedLoci_tNai_ccpPvera_F_cohort1_allChrom\"]], dml_v1_list[[\"selectedLoci_tNai_ccpPvera_F_cohort2_allChrom\"]]))\n",
    "length(dmlUnion_v1_tNai_ccpPvera_F_allChrom_vector)\n",
    "print(\"Cohort All, Union T Nai ccpPvera DMGs\")\n",
    "dmgUnion_v1_tNai_ccpPvera_F_allChrom_vector = Reduce(union, list(dmg_v1_list[[\"selectedLoci_tNai_ccpPvera_F_cohort1_allChrom\"]], dmg_v1_list[[\"selectedLoci_tNai_ccpPvera_F_cohort2_allChrom\"]]))\n",
    "length(dmgUnion_v1_tNai_ccpPvera_F_allChrom_vector)\n",
    "write_csv(data.frame(sort(dmgUnion_v1_tNai_ccpPvera_F_allChrom_vector)), \"dmgUnion_v1_tNai_ccpPvera_F_allChrom_vector.csv\")\n",
    "\n",
    "# CCP- vs ERA\n",
    "print(\"Cohort All, Union B-Cell ccpMvera DMLs\")\n",
    "dmlUnion_v1_bCell_ccpMvera_F_allChrom_vector = Reduce(union, list(dml_v1_list[[\"selectedLoci_bCell_ccpMvera_F_cohort1_allChrom\"]], dml_v1_list[[\"selectedLoci_bCell_ccpMvera_F_cohort2_allChrom\"]]))\n",
    "length(dmlUnion_v1_bCell_ccpMvera_F_allChrom_vector)\n",
    "print(\"Cohort All, Union B-Cell ccpMvera DMGs\")\n",
    "dmgUnion_v1_bCell_ccpMvera_F_allChrom_vector = Reduce(union, list(dmg_v1_list[[\"selectedLoci_bCell_ccpMvera_F_cohort1_allChrom\"]], dmg_v1_list[[\"selectedLoci_bCell_ccpMvera_F_cohort2_allChrom\"]]))\n",
    "length(dmgUnion_v1_bCell_ccpMvera_F_allChrom_vector)\n",
    "write_csv(data.frame(sort(dmgUnion_v1_bCell_ccpMvera_F_allChrom_vector)), \"dmgUnion_v1_bCell_ccpMvera_F_allChrom_vector.csv\")\n",
    "\n",
    "print(\"Cohort All, Union T Mem ccpMvera DMLs\")\n",
    "dmlUnion_v1_tMem_ccpMvera_F_allChrom_vector = Reduce(union, list(dml_v1_list[[\"selectedLoci_tMem_ccpMvera_F_cohort1_allChrom\"]], dml_v1_list[[\"selectedLoci_tMem_ccpMvera_F_cohort2_allChrom\"]]))\n",
    "length(dmlUnion_v1_tMem_ccpMvera_F_allChrom_vector)\n",
    "print(\"Cohort All, Union T Mem ccpMvera DMGs\")\n",
    "dmgUnion_v1_tMem_ccpMvera_F_allChrom_vector = Reduce(union, list(dmg_v1_list[[\"selectedLoci_tMem_ccpMvera_F_cohort1_allChrom\"]], dmg_v1_list[[\"selectedLoci_tMem_ccpMvera_F_cohort2_allChrom\"]]))\n",
    "length(dmgUnion_v1_tMem_ccpMvera_F_allChrom_vector)\n",
    "write_csv(data.frame(sort(dmgUnion_v1_tMem_ccpMvera_F_allChrom_vector)), \"dmgUnion_v1_tMem_ccpMvera_F_allChrom_vector.csv\")\n",
    "\n",
    "print(\"Cohort All, Union T Nai ccpMvera DMLs\")\n",
    "dmlUnion_v1_tNai_ccpMvera_F_allChrom_vector = Reduce(union, list(dml_v1_list[[\"selectedLoci_tNai_ccpMvera_F_cohort1_allChrom\"]], dml_v1_list[[\"selectedLoci_tNai_ccpMvera_F_cohort2_allChrom\"]]))\n",
    "length(dmlUnion_v1_tNai_ccpMvera_F_allChrom_vector)\n",
    "print(\"Cohort All, Union T Nai ccpMvera DMGs\")\n",
    "dmgUnion_v1_tNai_ccpMvera_F_allChrom_vector = Reduce(union, list(dmg_v1_list[[\"selectedLoci_tNai_ccpMvera_F_cohort1_allChrom\"]], dmg_v1_list[[\"selectedLoci_tNai_ccpMvera_F_cohort2_allChrom\"]]))\n",
    "length(dmgUnion_v1_tNai_ccpMvera_F_allChrom_vector)\n",
    "write_csv(data.frame(sort(dmgUnion_v1_tNai_ccpMvera_F_allChrom_vector)), \"dmgUnion_v1_tNai_ccpMvera_F_allChrom_vector.csv\")\n",
    "\n",
    "# CCP- vs CCP+\n",
    "print(\"Cohort All, Union B-Cell ccpPvccpM DMLs\")\n",
    "dmlUnion_v1_bCell_ccpPvccpM_F_allChrom_vector = Reduce(union, list(dml_v1_list[[\"selectedLoci_bCell_ccpPvccpM_F_cohort1_allChrom\"]], dml_v1_list[[\"selectedLoci_bCell_ccpPvccpM_F_cohort2_allChrom\"]]))\n",
    "length(dmlUnion_v1_bCell_ccpPvccpM_F_allChrom_vector)\n",
    "print(\"Cohort All, Union B-Cell ccpPvccpM DMGs\")\n",
    "dmgUnion_v1_bCell_ccpPvccpM_F_allChrom_vector = Reduce(union, list(dmg_v1_list[[\"selectedLoci_bCell_ccpPvccpM_F_cohort1_allChrom\"]], dmg_v1_list[[\"selectedLoci_bCell_ccpPvccpM_F_cohort2_allChrom\"]]))\n",
    "length(dmgUnion_v1_bCell_ccpPvccpM_F_allChrom_vector)\n",
    "write_csv(data.frame(sort(dmgUnion_v1_bCell_ccpPvccpM_F_allChrom_vector)), \"dmgUnion_v1_bCell_ccpPvccpM_F_allChrom_vector.csv\")\n",
    "\n",
    "print(\"Cohort All, Union T Mem ccpPvccpM DMLs\")\n",
    "dmlUnion_v1_tMem_ccpPvccpM_F_allChrom_vector = Reduce(union, list(dml_v1_list[[\"selectedLoci_tMem_ccpPvccpM_F_cohort1_allChrom\"]], dml_v1_list[[\"selectedLoci_tMem_ccpPvccpM_F_cohort2_allChrom\"]]))\n",
    "length(dmlUnion_v1_tMem_ccpPvccpM_F_allChrom_vector)\n",
    "print(\"Cohort All, Union T Mem ccpPvccpM DMGs\")\n",
    "dmgUnion_v1_tMem_ccpPvccpM_F_allChrom_vector = Reduce(union, list(dmg_v1_list[[\"selectedLoci_tMem_ccpPvccpM_F_cohort1_allChrom\"]], dmg_v1_list[[\"selectedLoci_tMem_ccpPvccpM_F_cohort2_allChrom\"]]))\n",
    "length(dmgUnion_v1_tMem_ccpPvccpM_F_allChrom_vector)\n",
    "write_csv(data.frame(sort(dmgUnion_v1_tMem_ccpPvccpM_F_allChrom_vector)), \"dmgUnion_v1_tMem_ccpPvccpM_F_allChrom_vector.csv\")\n",
    "\n",
    "print(\"Cohort All, Union T Nai ccpPvccpM DMLs\")\n",
    "dmlUnion_v1_tNai_ccpPvccpM_F_allChrom_vector = Reduce(union, list(dml_v1_list[[\"selectedLoci_tNai_ccpPvccpM_F_cohort1_allChrom\"]], dml_v1_list[[\"selectedLoci_tNai_ccpPvccpM_F_cohort2_allChrom\"]]))\n",
    "length(dmlUnion_v1_tNai_ccpPvccpM_F_allChrom_vector)\n",
    "print(\"Cohort All, Union T Nai ccpPvccpM DMGs\")\n",
    "dmgUnion_v1_tNai_ccpPvccpM_F_allChrom_vector = Reduce(union, list(dmg_v1_list[[\"selectedLoci_tNai_ccpPvccpM_F_cohort1_allChrom\"]], dmg_v1_list[[\"selectedLoci_tNai_ccpPvccpM_F_cohort2_allChrom\"]]))\n",
    "length(dmgUnion_v1_tNai_ccpPvccpM_F_allChrom_vector)\n",
    "write_csv(data.frame(sort(dmgUnion_v1_tNai_ccpPvccpM_F_allChrom_vector)), \"dmgUnion_v1_tNai_ccpPvccpM_F_allChrom_vector.csv\")"
   ]
  },
  {
   "cell_type": "code",
   "execution_count": 15,
   "id": "5c5804ce-a39c-4cac-9ea6-0f39e4dc4748",
   "metadata": {},
   "outputs": [
    {
     "name": "stdout",
     "output_type": "stream",
     "text": [
      "[1] \"selectedLoci_bCell_ccpPvccpM_F_cohort1_allChrom\"\n",
      "[1] 0\n",
      "[1] 61\n",
      "[1] 17\n",
      "[1] \"selectedLoci_bCell_ccpPvera_F_cohort1_allChrom\"\n",
      "[1] 0.02229299\n",
      "[1] 314\n",
      "[1] 97\n",
      "[1] \"selectedLoci_bCell_ccpMvera_F_cohort1_allChrom\"\n",
      "[1] 0.01156069\n",
      "[1] 346\n",
      "[1] 102\n",
      "[1] \"selectedLoci_tMem_ccpPvccpM_F_cohort1_allChrom\"\n",
      "[1] 0\n",
      "[1] 44\n",
      "[1] 13\n",
      "[1] \"selectedLoci_tMem_ccpPvera_F_cohort1_allChrom\"\n",
      "[1] 0.005952381\n",
      "[1] 168\n",
      "[1] 46\n",
      "[1] \"selectedLoci_tMem_ccpMvera_F_cohort1_allChrom\"\n",
      "[1] 0\n",
      "[1] 162\n",
      "[1] 40\n",
      "[1] \"selectedLoci_tNai_ccpPvccpM_F_cohort1_allChrom\"\n",
      "[1] 0\n",
      "[1] 56\n",
      "[1] 18\n",
      "[1] \"selectedLoci_tNai_ccpPvera_F_cohort1_allChrom\"\n",
      "[1] 0\n",
      "[1] 220\n",
      "[1] 81\n",
      "[1] \"selectedLoci_tNai_ccpMvera_F_cohort1_allChrom\"\n",
      "[1] 0\n",
      "[1] 240\n",
      "[1] 71\n",
      "[1] \"selectedLoci_bCell_ccpPvccpM_F_cohort2_allChrom\"\n",
      "[1] 0\n",
      "[1] 27\n",
      "[1] 9\n",
      "[1] \"selectedLoci_bCell_ccpPvera_F_cohort2_allChrom\"\n",
      "[1] 0\n",
      "[1] 49\n",
      "[1] 17\n",
      "[1] \"selectedLoci_bCell_ccpMvera_F_cohort2_allChrom\"\n",
      "[1] 0\n",
      "[1] 61\n",
      "[1] 21\n",
      "[1] \"selectedLoci_tMem_ccpPvccpM_F_cohort2_allChrom\"\n",
      "[1] 0\n",
      "[1] 33\n",
      "[1] 9\n",
      "[1] \"selectedLoci_tMem_ccpPvera_F_cohort2_allChrom\"\n",
      "[1] 0\n",
      "[1] 115\n",
      "[1] 37\n",
      "[1] \"selectedLoci_tMem_ccpMvera_F_cohort2_allChrom\"\n",
      "[1] 0\n",
      "[1] 653\n",
      "[1] 214\n",
      "[1] \"selectedLoci_tNai_ccpPvccpM_F_cohort2_allChrom\"\n",
      "[1] 0\n",
      "[1] 29\n",
      "[1] 10\n",
      "[1] \"selectedLoci_tNai_ccpPvera_F_cohort2_allChrom\"\n",
      "[1] 0\n",
      "[1] 58\n",
      "[1] 22\n",
      "[1] \"selectedLoci_tNai_ccpMvera_F_cohort2_allChrom\"\n",
      "[1] 0\n",
      "[1] 50\n",
      "[1] 15\n",
      "[1] \"Method 2 (Fig. 1 C), Cohort 2 Intersection B Cell DMLs\"\n"
     ]
    },
    {
     "data": {
      "text/html": [
       "0"
      ],
      "text/latex": [
       "0"
      ],
      "text/markdown": [
       "0"
      ],
      "text/plain": [
       "[1] 0"
      ]
     },
     "metadata": {},
     "output_type": "display_data"
    },
    {
     "name": "stdout",
     "output_type": "stream",
     "text": [
      "[1] \"Method 2 (Fig. 1C), Cohort 2 Union B Cell DMLs\"\n"
     ]
    },
    {
     "data": {
      "text/html": [
       "124"
      ],
      "text/latex": [
       "124"
      ],
      "text/markdown": [
       "124"
      ],
      "text/plain": [
       "[1] 124"
      ]
     },
     "metadata": {},
     "output_type": "display_data"
    },
    {
     "name": "stdout",
     "output_type": "stream",
     "text": [
      "[1] \"Method 2 (Fig. 1C), Cohort 2 Intersection Memory T Cell DMLs\"\n"
     ]
    },
    {
     "data": {
      "text/html": [
       "0"
      ],
      "text/latex": [
       "0"
      ],
      "text/markdown": [
       "0"
      ],
      "text/plain": [
       "[1] 0"
      ]
     },
     "metadata": {},
     "output_type": "display_data"
    },
    {
     "name": "stdout",
     "output_type": "stream",
     "text": [
      "[1] \"Method 2 (Fig. 1C), Cohort 2 Union Memory T Cell DMLs\"\n"
     ]
    },
    {
     "data": {
      "text/html": [
       "734"
      ],
      "text/latex": [
       "734"
      ],
      "text/markdown": [
       "734"
      ],
      "text/plain": [
       "[1] 734"
      ]
     },
     "metadata": {},
     "output_type": "display_data"
    },
    {
     "name": "stdout",
     "output_type": "stream",
     "text": [
      "[1] \"Method 2 (Fig. 1C), Cohort 2 Intersection Naive T Cell DMLs\"\n"
     ]
    },
    {
     "data": {
      "text/html": [
       "0"
      ],
      "text/latex": [
       "0"
      ],
      "text/markdown": [
       "0"
      ],
      "text/plain": [
       "[1] 0"
      ]
     },
     "metadata": {},
     "output_type": "display_data"
    },
    {
     "name": "stdout",
     "output_type": "stream",
     "text": [
      "[1] \"Method 2 (Fig. 1C), Cohort 2 Union Naive T Cell DMLs\"\n"
     ]
    },
    {
     "data": {
      "text/html": [
       "121"
      ],
      "text/latex": [
       "121"
      ],
      "text/markdown": [
       "121"
      ],
      "text/plain": [
       "[1] 121"
      ]
     },
     "metadata": {},
     "output_type": "display_data"
    },
    {
     "name": "stdout",
     "output_type": "stream",
     "text": [
      "[1] \"Method 2 (Fig. 1C), Cohort 2 Intersection B Cell DMGs\"\n"
     ]
    },
    {
     "data": {
      "text/html": [
       "0"
      ],
      "text/latex": [
       "0"
      ],
      "text/markdown": [
       "0"
      ],
      "text/plain": [
       "[1] 0"
      ]
     },
     "metadata": {},
     "output_type": "display_data"
    },
    {
     "name": "stdout",
     "output_type": "stream",
     "text": [
      "[1] \"Method 2 (Fig. 1C), Cohort 2 Union B Cell DMGs\"\n"
     ]
    },
    {
     "data": {
      "text/html": [
       "38"
      ],
      "text/latex": [
       "38"
      ],
      "text/markdown": [
       "38"
      ],
      "text/plain": [
       "[1] 38"
      ]
     },
     "metadata": {},
     "output_type": "display_data"
    },
    {
     "name": "stdout",
     "output_type": "stream",
     "text": [
      "[1] \"Method 2 (Fig. 1C), Cohort 2 Memory Intersection T Cell DMGs\"\n"
     ]
    },
    {
     "data": {
      "text/html": [
       "0"
      ],
      "text/latex": [
       "0"
      ],
      "text/markdown": [
       "0"
      ],
      "text/plain": [
       "[1] 0"
      ]
     },
     "metadata": {},
     "output_type": "display_data"
    },
    {
     "name": "stdout",
     "output_type": "stream",
     "text": [
      "[1] \"Method 2 (Fig. 1C), Cohort 2 Memory Union T Cell DMGs\"\n"
     ]
    },
    {
     "data": {
      "text/html": [
       "235"
      ],
      "text/latex": [
       "235"
      ],
      "text/markdown": [
       "235"
      ],
      "text/plain": [
       "[1] 235"
      ]
     },
     "metadata": {},
     "output_type": "display_data"
    },
    {
     "name": "stdout",
     "output_type": "stream",
     "text": [
      "[1] \"Method 2 (Fig. 1C), Cohort 2 Naive Intersection T Cell DMGs\"\n"
     ]
    },
    {
     "data": {
      "text/html": [
       "0"
      ],
      "text/latex": [
       "0"
      ],
      "text/markdown": [
       "0"
      ],
      "text/plain": [
       "[1] 0"
      ]
     },
     "metadata": {},
     "output_type": "display_data"
    },
    {
     "name": "stdout",
     "output_type": "stream",
     "text": [
      "[1] \"Method 2 (Fig. 1C), Cohort 2 Naive Union T Cell DMGs\"\n"
     ]
    },
    {
     "data": {
      "text/html": [
       "36"
      ],
      "text/latex": [
       "36"
      ],
      "text/markdown": [
       "36"
      ],
      "text/plain": [
       "[1] 36"
      ]
     },
     "metadata": {},
     "output_type": "display_data"
    }
   ],
   "source": [
    "### Version 2: Only females, all chromosomes, Method 2 (Cutoffs); used in figure 1C.\n",
    "## Select DMLs for each cohort\n",
    "# define cutoffs\n",
    "pVal_cutoff = 0.05\n",
    "bDif_cutoff = 0.10\n",
    "\n",
    "\n",
    "## define DMLs for each subset\n",
    "# cohort 1\n",
    "selectedLoci_bCell_ccpPvccpM_F_cohort1_allChrom_df = compStats_df[compStats_df$pVal_bCell_ccpPvccpM_F_cohort1 < pVal_cutoff & abs(compStats_df$bDif_bCell_ccpPvccpM_F_cohort1) > bDif_cutoff, ]\n",
    "selectedLoci_bCell_ccpPvera_F_cohort1_allChrom_df = compStats_df[compStats_df$pVal_bCell_ccpPvera_F_cohort1 < pVal_cutoff & abs(compStats_df$bDif_bCell_ccpPvera_F_cohort1) > bDif_cutoff, ]\n",
    "selectedLoci_bCell_ccpMvera_F_cohort1_allChrom_df = compStats_df[compStats_df$pVal_bCell_ccpMvera_F_cohort1 < pVal_cutoff & abs(compStats_df$bDif_bCell_ccpMvera_F_cohort1) > bDif_cutoff, ]\n",
    "\n",
    "selectedLoci_tMem_ccpPvccpM_F_cohort1_allChrom_df = compStats_df[compStats_df$pVal_tMem_ccpPvccpM_F_cohort1 < pVal_cutoff & abs(compStats_df$bDif_tMem_ccpPvccpM_F_cohort1) > bDif_cutoff, ]\n",
    "selectedLoci_tMem_ccpPvera_F_cohort1_allChrom_df = compStats_df[compStats_df$pVal_tMem_ccpPvera_F_cohort1 < pVal_cutoff & abs(compStats_df$bDif_tMem_ccpPvera_F_cohort1) > bDif_cutoff, ]\n",
    "selectedLoci_tMem_ccpMvera_F_cohort1_allChrom_df = compStats_df[compStats_df$pVal_tMem_ccpMvera_F_cohort1 < pVal_cutoff & abs(compStats_df$bDif_tMem_ccpMvera_F_cohort1) > bDif_cutoff, ]\n",
    "\n",
    "selectedLoci_tNai_ccpPvccpM_F_cohort1_allChrom_df = compStats_df[compStats_df$pVal_tNai_ccpPvccpM_F_cohort1 < pVal_cutoff & abs(compStats_df$bDif_tNai_ccpPvccpM_F_cohort1) > bDif_cutoff, ]\n",
    "selectedLoci_tNai_ccpPvera_F_cohort1_allChrom_df = compStats_df[compStats_df$pVal_tNai_ccpPvera_F_cohort1 < pVal_cutoff & abs(compStats_df$bDif_tNai_ccpPvera_F_cohort1) > bDif_cutoff, ]\n",
    "selectedLoci_tNai_ccpMvera_F_cohort1_allChrom_df = compStats_df[compStats_df$pVal_tNai_ccpMvera_F_cohort1 < pVal_cutoff & abs(compStats_df$bDif_tNai_ccpMvera_F_cohort1) > bDif_cutoff, ]\n",
    "\n",
    "# cohort 2\n",
    "selectedLoci_bCell_ccpPvccpM_F_cohort2_allChrom_df = compStats_df[compStats_df$pVal_bCell_ccpPvccpM_F_cohort2 < pVal_cutoff & abs(compStats_df$bDif_bCell_ccpPvccpM_F_cohort2) > bDif_cutoff, ]\n",
    "selectedLoci_bCell_ccpPvera_F_cohort2_allChrom_df = compStats_df[compStats_df$pVal_bCell_ccpPvera_F_cohort2 < pVal_cutoff & abs(compStats_df$bDif_bCell_ccpPvera_F_cohort2) > bDif_cutoff, ]\n",
    "selectedLoci_bCell_ccpMvera_F_cohort2_allChrom_df = compStats_df[compStats_df$pVal_bCell_ccpMvera_F_cohort2 < pVal_cutoff & abs(compStats_df$bDif_bCell_ccpMvera_F_cohort2) > bDif_cutoff, ]\n",
    "\n",
    "selectedLoci_tMem_ccpPvccpM_F_cohort2_allChrom_df = compStats_df[compStats_df$pVal_tMem_ccpPvccpM_F_cohort2 < pVal_cutoff & abs(compStats_df$bDif_tMem_ccpPvccpM_F_cohort2) > bDif_cutoff, ]\n",
    "selectedLoci_tMem_ccpPvera_F_cohort2_allChrom_df = compStats_df[compStats_df$pVal_tMem_ccpPvera_F_cohort2 < pVal_cutoff & abs(compStats_df$bDif_tMem_ccpPvera_F_cohort2) > bDif_cutoff, ]\n",
    "selectedLoci_tMem_ccpMvera_F_cohort2_allChrom_df = compStats_df[compStats_df$pVal_tMem_ccpMvera_F_cohort2 < pVal_cutoff & abs(compStats_df$bDif_tMem_ccpMvera_F_cohort2) > bDif_cutoff, ]\n",
    "\n",
    "selectedLoci_tNai_ccpPvccpM_F_cohort2_allChrom_df = compStats_df[compStats_df$pVal_tNai_ccpPvccpM_F_cohort2 < pVal_cutoff & abs(compStats_df$bDif_tNai_ccpPvccpM_F_cohort2) > bDif_cutoff, ]\n",
    "selectedLoci_tNai_ccpPvera_F_cohort2_allChrom_df = compStats_df[compStats_df$pVal_tNai_ccpPvera_F_cohort2 < pVal_cutoff & abs(compStats_df$bDif_tNai_ccpPvera_F_cohort2) > bDif_cutoff, ]\n",
    "selectedLoci_tNai_ccpMvera_F_cohort2_allChrom_df = compStats_df[compStats_df$pVal_tNai_ccpMvera_F_cohort2 < pVal_cutoff & abs(compStats_df$bDif_tNai_ccpMvera_F_cohort2) > bDif_cutoff, ]\n",
    "\n",
    "## define DMGs for each subset\n",
    "analysis_dml_v2_list = list(as.vector(rownames(selectedLoci_bCell_ccpPvccpM_F_cohort1_allChrom_df)), as.vector(rownames(selectedLoci_bCell_ccpPvera_F_cohort1_allChrom_df)), as.vector(rownames(selectedLoci_bCell_ccpMvera_F_cohort1_allChrom_df)), \n",
    "                        as.vector(rownames(selectedLoci_tMem_ccpPvccpM_F_cohort1_allChrom_df)), as.vector(rownames(selectedLoci_tMem_ccpPvera_F_cohort1_allChrom_df)), as.vector(rownames(selectedLoci_tMem_ccpMvera_F_cohort1_allChrom_df)),\n",
    "                        as.vector(rownames(selectedLoci_tNai_ccpPvccpM_F_cohort1_allChrom_df)), as.vector(rownames(selectedLoci_tNai_ccpPvera_F_cohort1_allChrom_df)), as.vector(rownames(selectedLoci_tNai_ccpMvera_F_cohort1_allChrom_df)),\n",
    "                        as.vector(rownames(selectedLoci_bCell_ccpPvccpM_F_cohort2_allChrom_df)), as.vector(rownames(selectedLoci_bCell_ccpPvera_F_cohort2_allChrom_df)), as.vector(rownames(selectedLoci_bCell_ccpMvera_F_cohort2_allChrom_df)),\n",
    "                        as.vector(rownames(selectedLoci_tMem_ccpPvccpM_F_cohort2_allChrom_df)), as.vector(rownames(selectedLoci_tMem_ccpPvera_F_cohort2_allChrom_df)), as.vector(rownames(selectedLoci_tMem_ccpMvera_F_cohort2_allChrom_df)),\n",
    "                        as.vector(rownames(selectedLoci_tNai_ccpPvccpM_F_cohort2_allChrom_df)), as.vector(rownames(selectedLoci_tNai_ccpPvera_F_cohort2_allChrom_df)), as.vector(rownames(selectedLoci_tNai_ccpMvera_F_cohort2_allChrom_df)))\n",
    "\n",
    "names(analysis_dml_v2_list) = c(\"selectedLoci_bCell_ccpPvccpM_F_cohort1_allChrom\", \"selectedLoci_bCell_ccpPvera_F_cohort1_allChrom\", \"selectedLoci_bCell_ccpMvera_F_cohort1_allChrom\", \n",
    "                        \"selectedLoci_tMem_ccpPvccpM_F_cohort1_allChrom\", \"selectedLoci_tMem_ccpPvera_F_cohort1_allChrom\", \"selectedLoci_tMem_ccpMvera_F_cohort1_allChrom\",\n",
    "                        \"selectedLoci_tNai_ccpPvccpM_F_cohort1_allChrom\", \"selectedLoci_tNai_ccpPvera_F_cohort1_allChrom\", \"selectedLoci_tNai_ccpMvera_F_cohort1_allChrom\",\n",
    "                        \"selectedLoci_bCell_ccpPvccpM_F_cohort2_allChrom\", \"selectedLoci_bCell_ccpPvera_F_cohort2_allChrom\", \"selectedLoci_bCell_ccpMvera_F_cohort2_allChrom\",\n",
    "                        \"selectedLoci_tMem_ccpPvccpM_F_cohort2_allChrom\", \"selectedLoci_tMem_ccpPvera_F_cohort2_allChrom\", \"selectedLoci_tMem_ccpMvera_F_cohort2_allChrom\",\n",
    "                        \"selectedLoci_tNai_ccpPvccpM_F_cohort2_allChrom\", \"selectedLoci_tNai_ccpPvera_F_cohort2_allChrom\", \"selectedLoci_tNai_ccpMvera_F_cohort2_allChrom\")\n",
    "                           \n",
    "dml_v2_list = list()\n",
    "dmg_v2_list = list()\n",
    "for (i in 1:length(analysis_dml_v2_list)) {\n",
    "    # define analysis name\n",
    "    analysis_name = names(analysis_dml_v2_list)[i]\n",
    "    print(analysis_name)\n",
    "    # create annotation df\n",
    "    analysis_dml_vector = analysis_dml_v2_list[[i]]\n",
    "    analysis_an = anno_data[analysis_dml_vector,]\n",
    "    # remove chrY DMLs\n",
    "    analysis_an = analysis_an[analysis_an$chr != \"chrY\", ]\n",
    "    analysis_pct_chrX = dim(analysis_an[analysis_an$chr == \"chrX\",])[1] / dim(analysis_an)[1]\n",
    "    print(analysis_pct_chrX)\n",
    "    # get DMLs\n",
    "    analysis_dml_vector = rownames(analysis_an)\n",
    "    print(length(analysis_dml_vector))\n",
    "    # create gRanges object\n",
    "    analysis_gr = GRanges(seqnames=analysis_an$chr,\n",
    "                    ranges=IRanges(start=analysis_an$pos, end=analysis_an$pos),\n",
    "                    strand=analysis_an$strand,\n",
    "                    names=analysis_an$Name)\n",
    "    # take overlap by comparing coordinates against promoter / gene body gRanges object\n",
    "    #overlap_gr = subsetByOverlaps(promoter_gr, analysis_gr)\n",
    "    overlap_gr = subsetByOverlaps(combinedRegion_gr, analysis_gr)\n",
    "    # get DMGs\n",
    "    analysis_dmg_vector = unique(overlap_gr$names)\n",
    "    print(length(analysis_dmg_vector))\n",
    "    # store dmls and dmgs in list\n",
    "    dml_v2_list[[analysis_name]] = analysis_dml_vector\n",
    "    dmg_v2_list[[analysis_name]] = analysis_dmg_vector\n",
    "    }\n",
    "\n",
    "\n",
    "setwd(dml_output_dir)\n",
    "# B-Cell\n",
    "print(\"Method 2 (Fig. 1 C), Cohort 2 Intersection B Cell DMLs\")\n",
    "dmlInt_v2_bCell_F_cohort2_allChrom_vector = Reduce(intersect, list(dml_v2_list[[\"selectedLoci_bCell_ccpPvccpM_F_cohort2_allChrom\"]], \n",
    "                                                                   dml_v2_list[[\"selectedLoci_bCell_ccpPvera_F_cohort2_allChrom\"]], \n",
    "                                                                   dml_v2_list[[\"selectedLoci_bCell_ccpMvera_F_cohort2_allChrom\"]]))\n",
    "\n",
    "length(dmlInt_v2_bCell_F_cohort2_allChrom_vector)\n",
    "write_csv(data.frame(sort(dmlInt_v2_bCell_F_cohort2_allChrom_vector)), \"dmlInt_v2_bCell_F_cohort2_allChrom_vector.csv\")\n",
    "\n",
    "print(\"Method 2 (Fig. 1C), Cohort 2 Union B Cell DMLs\")\n",
    "dmlUnion_v2_bCell_F_cohort2_allChrom_vector = Reduce(union, list(dml_v2_list[[\"selectedLoci_bCell_ccpPvccpM_F_cohort2_allChrom\"]], \n",
    "                                                                   dml_v2_list[[\"selectedLoci_bCell_ccpPvera_F_cohort2_allChrom\"]], \n",
    "                                                                   dml_v2_list[[\"selectedLoci_bCell_ccpMvera_F_cohort2_allChrom\"]]))\n",
    "\n",
    "length(dmlUnion_v2_bCell_F_cohort2_allChrom_vector)\n",
    "write_csv(data.frame(sort(dmlUnion_v2_bCell_F_cohort2_allChrom_vector)), \"dmlUnion_v2_bCell_F_cohort2_allChrom_vector.csv\")\n",
    "\n",
    "# Memory T Cell\n",
    "print(\"Method 2 (Fig. 1C), Cohort 2 Intersection Memory T Cell DMLs\")\n",
    "dmlInt_v2_tMem_F_cohort2_allChrom_vector = Reduce(intersect, list(dml_v2_list[[\"selectedLoci_tMem_ccpPvccpM_F_cohort2_allChrom\"]], \n",
    "                                                                  dml_v2_list[[\"selectedLoci_tMem_ccpPvera_F_cohort2_allChrom\"]], \n",
    "                                                                  dml_v2_list[[\"selectedLoci_tMem_ccpMvera_F_cohort2_allChrom\"]]))\n",
    "\n",
    "length(dmlInt_v2_tMem_F_cohort2_allChrom_vector)\n",
    "write_csv(data.frame(sort(dmlInt_v2_tMem_F_cohort2_allChrom_vector)), \"dmlInt_v2_tMem_F_cohort2_allChrom_vector.csv\")\n",
    "\n",
    "print(\"Method 2 (Fig. 1C), Cohort 2 Union Memory T Cell DMLs\")\n",
    "dmlUnion_v2_tMem_F_cohort2_allChrom_vector = Reduce(union, list(dml_v2_list[[\"selectedLoci_tMem_ccpPvccpM_F_cohort2_allChrom\"]], \n",
    "                                                                   dml_v2_list[[\"selectedLoci_tMem_ccpPvera_F_cohort2_allChrom\"]], \n",
    "                                                                   dml_v2_list[[\"selectedLoci_tMem_ccpMvera_F_cohort2_allChrom\"]]))\n",
    "\n",
    "length(dmlUnion_v2_tMem_F_cohort2_allChrom_vector)\n",
    "write_csv(data.frame(sort(dmlUnion_v2_tMem_F_cohort2_allChrom_vector)), \"dmlUnion_v2_tMem_F_cohort2_allChrom_vector.csv\")\n",
    "\n",
    "# Naive T Cell\n",
    "print(\"Method 2 (Fig. 1C), Cohort 2 Intersection Naive T Cell DMLs\")\n",
    "dmlInt_v2_tNai_F_cohort2_allChrom_vector = Reduce(intersect, list(dml_v2_list[[\"selectedLoci_tNai_ccpPvccpM_F_cohort2_allChrom\"]], \n",
    "                                                                   dml_v2_list[[\"selectedLoci_tNai_ccpPvera_F_cohort2_allChrom\"]], \n",
    "                                                                   dml_v2_list[[\"selectedLoci_tNai_ccpMvera_F_cohort2_allChrom\"]]))\n",
    "\n",
    "length(dmlInt_v2_tNai_F_cohort2_allChrom_vector)\n",
    "write_csv(data.frame(sort(dmlInt_v2_tNai_F_cohort2_allChrom_vector)), \"dmlInt_v2_tNai_F_cohort2_allChrom_vector.csv\")\n",
    "\n",
    "print(\"Method 2 (Fig. 1C), Cohort 2 Union Naive T Cell DMLs\")\n",
    "dmlUnion_v2_tNai_F_cohort2_allChrom_vector = Reduce(union, list(dml_v2_list[[\"selectedLoci_tNai_ccpPvccpM_F_cohort2_allChrom\"]], \n",
    "                                                                   dml_v2_list[[\"selectedLoci_tNai_ccpPvera_F_cohort2_allChrom\"]], \n",
    "                                                                   dml_v2_list[[\"selectedLoci_tNai_ccpMvera_F_cohort2_allChrom\"]]))\n",
    "\n",
    "length(dmlUnion_v2_tNai_F_cohort2_allChrom_vector)\n",
    "write_csv(data.frame(sort(dmlUnion_v2_tNai_F_cohort2_allChrom_vector)), \"dmlUnion_v2_tNai_F_cohort2_allChrom_vector.csv\")\n",
    "\n",
    "##  Match DMGs to selected DMLs (note that this is a different method than used for Union analysis)\n",
    "setwd(dmg_output_dir)\n",
    "\n",
    "# B-Cell\n",
    "print(\"Method 2 (Fig. 1C), Cohort 2 Intersection B Cell DMGs\")\n",
    "dmgInt_v2_bCell_F_cohort2_allChrom_an = anno_data[dmlInt_v2_bCell_F_cohort2_allChrom_vector,]\n",
    "dmgInt_v2_bCell_F_cohort2_allChrom_gr = GRanges(seqnames=dmgInt_v2_bCell_F_cohort2_allChrom_an$chr,\n",
    "                                                ranges=IRanges(start=dmgInt_v2_bCell_F_cohort2_allChrom_an$pos, end=dmgInt_v2_bCell_F_cohort2_allChrom_an$pos),\n",
    "                                                strand=dmgInt_v2_bCell_F_cohort2_allChrom_an$strand,\n",
    "                                                names=dmgInt_v2_bCell_F_cohort2_allChrom_an$Name)\n",
    "dmgInt_v2_bCell_F_cohort2_allChrom_overlap_gr = subsetByOverlaps(combinedRegion_gr, dmgInt_v2_bCell_F_cohort2_allChrom_gr)\n",
    "dmgInt_v2_bCell_F_cohort2_allChrom_vector = unique(dmgInt_v2_bCell_F_cohort2_allChrom_overlap_gr$names)\n",
    "\n",
    "length(dmgInt_v2_bCell_F_cohort2_allChrom_vector)\n",
    "write_csv(data.frame(sort(dmgInt_v2_bCell_F_cohort2_allChrom_vector)), \"dmgInt_v2_bCell_F_cohort2_allChrom_vector.csv\")\n",
    "\n",
    "print(\"Method 2 (Fig. 1C), Cohort 2 Union B Cell DMGs\")\n",
    "dmgUnion_v2_bCell_F_cohort2_allChrom_an = anno_data[dmlUnion_v2_bCell_F_cohort2_allChrom_vector,]\n",
    "dmgUnion_v2_bCell_F_cohort2_allChrom_gr = GRanges(seqnames=dmgUnion_v2_bCell_F_cohort2_allChrom_an$chr,\n",
    "                                                ranges=IRanges(start=dmgUnion_v2_bCell_F_cohort2_allChrom_an$pos, end=dmgUnion_v2_bCell_F_cohort2_allChrom_an$pos),\n",
    "                                                strand=dmgUnion_v2_bCell_F_cohort2_allChrom_an$strand,\n",
    "                                                names=dmgUnion_v2_bCell_F_cohort2_allChrom_an$Name)\n",
    "dmgUnion_v2_bCell_F_cohort2_allChrom_overlap_gr = subsetByOverlaps(combinedRegion_gr, dmgUnion_v2_bCell_F_cohort2_allChrom_gr)\n",
    "dmgUnion_v2_bCell_F_cohort2_allChrom_vector = unique(dmgUnion_v2_bCell_F_cohort2_allChrom_overlap_gr$names)\n",
    "\n",
    "length(dmgUnion_v2_bCell_F_cohort2_allChrom_vector)\n",
    "write_csv(data.frame(sort(dmgUnion_v2_bCell_F_cohort2_allChrom_vector)), \"dmgUnion_v2_bCell_F_cohort2_allChrom_vector.csv\")\n",
    "\n",
    "# Memory T Cell\n",
    "print(\"Method 2 (Fig. 1C), Cohort 2 Memory Intersection T Cell DMGs\")\n",
    "dmgInt_v2_tMem_F_cohort2_allChrom_an = anno_data[dmlInt_v2_tMem_F_cohort2_allChrom_vector,]\n",
    "dmgInt_v2_tMem_F_cohort2_allChrom_gr = GRanges(seqnames=dmgInt_v2_tMem_F_cohort2_allChrom_an$chr,\n",
    "                                                ranges=IRanges(start=dmgInt_v2_tMem_F_cohort2_allChrom_an$pos, end=dmgInt_v2_tMem_F_cohort2_allChrom_an$pos),\n",
    "                                                strand=dmgInt_v2_tMem_F_cohort2_allChrom_an$strand,\n",
    "                                                names=dmgInt_v2_tMem_F_cohort2_allChrom_an$Name)\n",
    "dmgInt_v2_tMem_F_cohort2_allChrom_overlap_gr = subsetByOverlaps(combinedRegion_gr, dmgInt_v2_tMem_F_cohort2_allChrom_gr)\n",
    "dmgInt_v2_tMem_F_cohort2_allChrom_vector = unique(dmgInt_v2_tMem_F_cohort2_allChrom_overlap_gr$names)\n",
    "\n",
    "length(dmgInt_v2_tMem_F_cohort2_allChrom_vector)\n",
    "write_csv(data.frame(sort(dmgInt_v2_tMem_F_cohort2_allChrom_vector)), \"dmgInt_v2_tMem_F_cohort2_allChrom_vector.csv\")\n",
    "\n",
    "print(\"Method 2 (Fig. 1C), Cohort 2 Memory Union T Cell DMGs\")\n",
    "dmgUnion_v2_tMem_F_cohort2_allChrom_an = anno_data[dmlUnion_v2_tMem_F_cohort2_allChrom_vector,]\n",
    "dmgUnion_v2_tMem_F_cohort2_allChrom_gr = GRanges(seqnames=dmgUnion_v2_tMem_F_cohort2_allChrom_an$chr,\n",
    "                                                ranges=IRanges(start=dmgUnion_v2_tMem_F_cohort2_allChrom_an$pos, end=dmgUnion_v2_tMem_F_cohort2_allChrom_an$pos),\n",
    "                                                strand=dmgUnion_v2_tMem_F_cohort2_allChrom_an$strand,\n",
    "                                                names=dmgUnion_v2_tMem_F_cohort2_allChrom_an$Name)\n",
    "dmgUnion_v2_tMem_F_cohort2_allChrom_overlap_gr = subsetByOverlaps(combinedRegion_gr, dmgUnion_v2_tMem_F_cohort2_allChrom_gr)\n",
    "dmgUnion_v2_tMem_F_cohort2_allChrom_vector = unique(dmgUnion_v2_tMem_F_cohort2_allChrom_overlap_gr$names)\n",
    "\n",
    "length(dmgUnion_v2_tMem_F_cohort2_allChrom_vector)\n",
    "write_csv(data.frame(sort(dmgUnion_v2_tMem_F_cohort2_allChrom_vector)), \"dmgUnion_v2_tMem_F_cohort2_allChrom_vector.csv\")\n",
    "\n",
    "# Naive T Cell\n",
    "print(\"Method 2 (Fig. 1C), Cohort 2 Naive Intersection T Cell DMGs\")\n",
    "dmgInt_v2_tNai_F_cohort2_allChrom_an = anno_data[dmlInt_v2_tNai_F_cohort2_allChrom_vector,]\n",
    "dmgInt_v2_tNai_F_cohort2_allChrom_gr = GRanges(seqnames=dmgInt_v2_tNai_F_cohort2_allChrom_an$chr,\n",
    "                                                ranges=IRanges(start=dmgInt_v2_tNai_F_cohort2_allChrom_an$pos, end=dmgInt_v2_tNai_F_cohort2_allChrom_an$pos),\n",
    "                                                strand=dmgInt_v2_tNai_F_cohort2_allChrom_an$strand,\n",
    "                                                names=dmgInt_v2_tNai_F_cohort2_allChrom_an$Name)\n",
    "dmgInt_v2_tNai_F_cohort2_allChrom_overlap_gr = subsetByOverlaps(combinedRegion_gr, dmgInt_v2_tNai_F_cohort2_allChrom_gr)\n",
    "dmgInt_v2_tNai_F_cohort2_allChrom_vector = unique(dmgInt_v2_tNai_F_cohort2_allChrom_overlap_gr$names)\n",
    "\n",
    "length(dmgInt_v2_tNai_F_cohort2_allChrom_vector)\n",
    "write_csv(data.frame(sort(dmgInt_v2_tNai_F_cohort2_allChrom_vector)), \"dmgInt_v2_tNai_F_cohort2_allChrom_vector.csv\")\n",
    "\n",
    "print(\"Method 2 (Fig. 1C), Cohort 2 Naive Union T Cell DMGs\")\n",
    "dmgUnion_v2_tNai_F_cohort2_allChrom_an = anno_data[dmlUnion_v2_tNai_F_cohort2_allChrom_vector,]\n",
    "dmgUnion_v2_tNai_F_cohort2_allChrom_gr = GRanges(seqnames=dmgUnion_v2_tNai_F_cohort2_allChrom_an$chr,\n",
    "                                                ranges=IRanges(start=dmgUnion_v2_tNai_F_cohort2_allChrom_an$pos, end=dmgUnion_v2_tNai_F_cohort2_allChrom_an$pos),\n",
    "                                                strand=dmgUnion_v2_tNai_F_cohort2_allChrom_an$strand,\n",
    "                                                names=dmgUnion_v2_tNai_F_cohort2_allChrom_an$Name)\n",
    "dmgUnion_v2_tNai_F_cohort2_allChrom_overlap_gr = subsetByOverlaps(combinedRegion_gr, dmgUnion_v2_tNai_F_cohort2_allChrom_gr)\n",
    "dmgUnion_v2_tNai_F_cohort2_allChrom_vector = unique(dmgUnion_v2_tNai_F_cohort2_allChrom_overlap_gr$names)\n",
    "\n",
    "length(dmgUnion_v2_tNai_F_cohort2_allChrom_vector)\n",
    "write_csv(data.frame(sort(dmgUnion_v2_tNai_F_cohort2_allChrom_vector)), \"dmgUnion_v2_tNai_F_cohort2_allChrom_vector.csv\")\n",
    "\n"
   ]
  },
  {
   "cell_type": "code",
   "execution_count": 16,
   "id": "75b12c37-5dee-4485-a5a5-82c0f6139266",
   "metadata": {},
   "outputs": [],
   "source": [
    "## output a heatmap dataframe\n",
    "dmlUnion_v2_all_F_cohort2_allChrom_vector = Reduce(union, list(dmlUnion_v2_bCell_F_cohort2_allChrom_vector,\n",
    "                                                              dmlUnion_v2_tMem_F_cohort2_allChrom_vector,\n",
    "                                                              dmlUnion_v2_tNai_F_cohort2_allChrom_vector))\n",
    "# create dataframe of Cohort 2 samples and union of ccpP, ccpM, era cohort 2 DMLs\n",
    "selectedLoci_c2Samples_heatmap_df = analysis_df[dmlUnion_v2_all_F_cohort2_allChrom_vector, allC_allD_F_cohort2_vector]\n",
    "\n",
    "# export object\n",
    "setwd(dml_output_dir)\n",
    "write.table(selectedLoci_c2Samples_heatmap_df, file=\"selectedLoci_c2Samples_heatmap_df.csv\", quote=FALSE, sep='\\t', col.names = NA)"
   ]
  },
  {
   "cell_type": "code",
   "execution_count": 17,
   "id": "79df422c-c046-4f40-ad20-e266b8636698",
   "metadata": {},
   "outputs": [
    {
     "data": {
      "text/html": [
       "<table class=\"dataframe\">\n",
       "<caption>A matrix: 6 × 229 of type dbl</caption>\n",
       "<thead>\n",
       "\t<tr><th></th><th scope=col>p60_ls53_B_ERA</th><th scope=col>p61_ls55_B_ERA</th><th scope=col>p77_ls76_B_ERA</th><th scope=col>p45_ls38_B_ERA</th><th scope=col>p122_ls122_B_ERA</th><th scope=col>p97_ls93_B_ERA</th><th scope=col>p26_ls15_B_ERA</th><th scope=col>p120_ls120_B_ERA</th><th scope=col>p81_ls77_B_ERA</th><th scope=col>p109_ls109_B_ERA</th><th scope=col>⋯</th><th scope=col>p117_ls117_Tnai_CCPpos</th><th scope=col>p13_ls11_Tnai_CCPpos</th><th scope=col>p115_ls115_Tnai_CCPpos</th><th scope=col>p25_ls25_Tnai_CCPpos</th><th scope=col>p106_ls101_Tnai_CCPpos</th><th scope=col>p90_ls90_Tnai_CCPpos</th><th scope=col>p123_ls123_Tnai_CCPpos</th><th scope=col>p66_ls57_Tnai_CCPpos</th><th scope=col>p83_ls89_Tnai_CCPpos</th><th scope=col>p119_ls119_Tnai_CCPpos</th></tr>\n",
       "</thead>\n",
       "<tbody>\n",
       "\t<tr><th scope=row>cg13546858</th><td>0.68033150</td><td>0.5772548</td><td>0.5631969</td><td>0.6787446</td><td>0.4359997</td><td>0.4296450</td><td>0.4702562</td><td>0.3974074</td><td>0.3393907</td><td>0.6321954</td><td>⋯</td><td>0.2753362</td><td>0.4177926</td><td>0.7156444</td><td>0.3710931</td><td>0.3957713</td><td>0.3095737</td><td>0.4221284</td><td>0.3151877</td><td>0.4988299</td><td>0.3539757</td></tr>\n",
       "\t<tr><th scope=row>cg14156792</th><td>0.36714010</td><td>0.2968027</td><td>0.3693401</td><td>0.4516511</td><td>0.4595875</td><td>0.3973884</td><td>0.4653358</td><td>0.5214528</td><td>0.3928255</td><td>0.3219846</td><td>⋯</td><td>0.3953131</td><td>0.3921698</td><td>0.3463648</td><td>0.5616351</td><td>0.5201216</td><td>0.5427350</td><td>0.4403750</td><td>0.4773869</td><td>0.5477679</td><td>0.4878891</td></tr>\n",
       "\t<tr><th scope=row>cg20409752</th><td>0.77336059</td><td>0.8013890</td><td>0.7882355</td><td>0.8521332</td><td>0.7998521</td><td>0.3673595</td><td>0.8586760</td><td>0.4231349</td><td>0.7931953</td><td>0.4228317</td><td>⋯</td><td>0.7269016</td><td>0.7701832</td><td>0.4014461</td><td>0.7696968</td><td>0.7689361</td><td>0.8150016</td><td>0.8018278</td><td>0.7814969</td><td>0.7492687</td><td>0.7791292</td></tr>\n",
       "\t<tr><th scope=row>cg07388700</th><td>0.73961880</td><td>0.6245255</td><td>0.6560671</td><td>0.4842761</td><td>0.5322593</td><td>0.6622947</td><td>0.3341974</td><td>0.4616600</td><td>0.4977331</td><td>0.3762703</td><td>⋯</td><td>0.8610174</td><td>0.8766619</td><td>0.8862330</td><td>0.8481766</td><td>0.7913449</td><td>0.8586092</td><td>0.7562150</td><td>0.8304005</td><td>0.8673041</td><td>0.8499417</td></tr>\n",
       "\t<tr><th scope=row>cg18379824</th><td>0.09578587</td><td>0.2355529</td><td>0.1307056</td><td>0.1573492</td><td>0.1206459</td><td>0.3268005</td><td>0.1626828</td><td>0.1460370</td><td>0.2338012</td><td>0.4004037</td><td>⋯</td><td>0.1480027</td><td>0.1556974</td><td>0.3208071</td><td>0.3765979</td><td>0.1367164</td><td>0.1619292</td><td>0.1436327</td><td>0.1923012</td><td>0.1579575</td><td>0.1663391</td></tr>\n",
       "\t<tr><th scope=row>cg02063695</th><td>0.29683495</td><td>0.3825099</td><td>0.4361941</td><td>0.3487084</td><td>0.3566100</td><td>0.4992862</td><td>0.4982401</td><td>0.3058710</td><td>0.5798893</td><td>0.5736687</td><td>⋯</td><td>0.4088268</td><td>0.3950273</td><td>0.3339513</td><td>0.5837288</td><td>0.4379668</td><td>0.5614677</td><td>0.3335417</td><td>0.5072278</td><td>0.4732343</td><td>0.4770607</td></tr>\n",
       "</tbody>\n",
       "</table>\n"
      ],
      "text/latex": [
       "A matrix: 6 × 229 of type dbl\n",
       "\\begin{tabular}{r|lllllllllllllllllllll}\n",
       "  & p60\\_ls53\\_B\\_ERA & p61\\_ls55\\_B\\_ERA & p77\\_ls76\\_B\\_ERA & p45\\_ls38\\_B\\_ERA & p122\\_ls122\\_B\\_ERA & p97\\_ls93\\_B\\_ERA & p26\\_ls15\\_B\\_ERA & p120\\_ls120\\_B\\_ERA & p81\\_ls77\\_B\\_ERA & p109\\_ls109\\_B\\_ERA & ⋯ & p117\\_ls117\\_Tnai\\_CCPpos & p13\\_ls11\\_Tnai\\_CCPpos & p115\\_ls115\\_Tnai\\_CCPpos & p25\\_ls25\\_Tnai\\_CCPpos & p106\\_ls101\\_Tnai\\_CCPpos & p90\\_ls90\\_Tnai\\_CCPpos & p123\\_ls123\\_Tnai\\_CCPpos & p66\\_ls57\\_Tnai\\_CCPpos & p83\\_ls89\\_Tnai\\_CCPpos & p119\\_ls119\\_Tnai\\_CCPpos\\\\\n",
       "\\hline\n",
       "\tcg13546858 & 0.68033150 & 0.5772548 & 0.5631969 & 0.6787446 & 0.4359997 & 0.4296450 & 0.4702562 & 0.3974074 & 0.3393907 & 0.6321954 & ⋯ & 0.2753362 & 0.4177926 & 0.7156444 & 0.3710931 & 0.3957713 & 0.3095737 & 0.4221284 & 0.3151877 & 0.4988299 & 0.3539757\\\\\n",
       "\tcg14156792 & 0.36714010 & 0.2968027 & 0.3693401 & 0.4516511 & 0.4595875 & 0.3973884 & 0.4653358 & 0.5214528 & 0.3928255 & 0.3219846 & ⋯ & 0.3953131 & 0.3921698 & 0.3463648 & 0.5616351 & 0.5201216 & 0.5427350 & 0.4403750 & 0.4773869 & 0.5477679 & 0.4878891\\\\\n",
       "\tcg20409752 & 0.77336059 & 0.8013890 & 0.7882355 & 0.8521332 & 0.7998521 & 0.3673595 & 0.8586760 & 0.4231349 & 0.7931953 & 0.4228317 & ⋯ & 0.7269016 & 0.7701832 & 0.4014461 & 0.7696968 & 0.7689361 & 0.8150016 & 0.8018278 & 0.7814969 & 0.7492687 & 0.7791292\\\\\n",
       "\tcg07388700 & 0.73961880 & 0.6245255 & 0.6560671 & 0.4842761 & 0.5322593 & 0.6622947 & 0.3341974 & 0.4616600 & 0.4977331 & 0.3762703 & ⋯ & 0.8610174 & 0.8766619 & 0.8862330 & 0.8481766 & 0.7913449 & 0.8586092 & 0.7562150 & 0.8304005 & 0.8673041 & 0.8499417\\\\\n",
       "\tcg18379824 & 0.09578587 & 0.2355529 & 0.1307056 & 0.1573492 & 0.1206459 & 0.3268005 & 0.1626828 & 0.1460370 & 0.2338012 & 0.4004037 & ⋯ & 0.1480027 & 0.1556974 & 0.3208071 & 0.3765979 & 0.1367164 & 0.1619292 & 0.1436327 & 0.1923012 & 0.1579575 & 0.1663391\\\\\n",
       "\tcg02063695 & 0.29683495 & 0.3825099 & 0.4361941 & 0.3487084 & 0.3566100 & 0.4992862 & 0.4982401 & 0.3058710 & 0.5798893 & 0.5736687 & ⋯ & 0.4088268 & 0.3950273 & 0.3339513 & 0.5837288 & 0.4379668 & 0.5614677 & 0.3335417 & 0.5072278 & 0.4732343 & 0.4770607\\\\\n",
       "\\end{tabular}\n"
      ],
      "text/markdown": [
       "\n",
       "A matrix: 6 × 229 of type dbl\n",
       "\n",
       "| <!--/--> | p60_ls53_B_ERA | p61_ls55_B_ERA | p77_ls76_B_ERA | p45_ls38_B_ERA | p122_ls122_B_ERA | p97_ls93_B_ERA | p26_ls15_B_ERA | p120_ls120_B_ERA | p81_ls77_B_ERA | p109_ls109_B_ERA | ⋯ | p117_ls117_Tnai_CCPpos | p13_ls11_Tnai_CCPpos | p115_ls115_Tnai_CCPpos | p25_ls25_Tnai_CCPpos | p106_ls101_Tnai_CCPpos | p90_ls90_Tnai_CCPpos | p123_ls123_Tnai_CCPpos | p66_ls57_Tnai_CCPpos | p83_ls89_Tnai_CCPpos | p119_ls119_Tnai_CCPpos |\n",
       "|---|---|---|---|---|---|---|---|---|---|---|---|---|---|---|---|---|---|---|---|---|---|\n",
       "| cg13546858 | 0.68033150 | 0.5772548 | 0.5631969 | 0.6787446 | 0.4359997 | 0.4296450 | 0.4702562 | 0.3974074 | 0.3393907 | 0.6321954 | ⋯ | 0.2753362 | 0.4177926 | 0.7156444 | 0.3710931 | 0.3957713 | 0.3095737 | 0.4221284 | 0.3151877 | 0.4988299 | 0.3539757 |\n",
       "| cg14156792 | 0.36714010 | 0.2968027 | 0.3693401 | 0.4516511 | 0.4595875 | 0.3973884 | 0.4653358 | 0.5214528 | 0.3928255 | 0.3219846 | ⋯ | 0.3953131 | 0.3921698 | 0.3463648 | 0.5616351 | 0.5201216 | 0.5427350 | 0.4403750 | 0.4773869 | 0.5477679 | 0.4878891 |\n",
       "| cg20409752 | 0.77336059 | 0.8013890 | 0.7882355 | 0.8521332 | 0.7998521 | 0.3673595 | 0.8586760 | 0.4231349 | 0.7931953 | 0.4228317 | ⋯ | 0.7269016 | 0.7701832 | 0.4014461 | 0.7696968 | 0.7689361 | 0.8150016 | 0.8018278 | 0.7814969 | 0.7492687 | 0.7791292 |\n",
       "| cg07388700 | 0.73961880 | 0.6245255 | 0.6560671 | 0.4842761 | 0.5322593 | 0.6622947 | 0.3341974 | 0.4616600 | 0.4977331 | 0.3762703 | ⋯ | 0.8610174 | 0.8766619 | 0.8862330 | 0.8481766 | 0.7913449 | 0.8586092 | 0.7562150 | 0.8304005 | 0.8673041 | 0.8499417 |\n",
       "| cg18379824 | 0.09578587 | 0.2355529 | 0.1307056 | 0.1573492 | 0.1206459 | 0.3268005 | 0.1626828 | 0.1460370 | 0.2338012 | 0.4004037 | ⋯ | 0.1480027 | 0.1556974 | 0.3208071 | 0.3765979 | 0.1367164 | 0.1619292 | 0.1436327 | 0.1923012 | 0.1579575 | 0.1663391 |\n",
       "| cg02063695 | 0.29683495 | 0.3825099 | 0.4361941 | 0.3487084 | 0.3566100 | 0.4992862 | 0.4982401 | 0.3058710 | 0.5798893 | 0.5736687 | ⋯ | 0.4088268 | 0.3950273 | 0.3339513 | 0.5837288 | 0.4379668 | 0.5614677 | 0.3335417 | 0.5072278 | 0.4732343 | 0.4770607 |\n",
       "\n"
      ],
      "text/plain": [
       "           p60_ls53_B_ERA p61_ls55_B_ERA p77_ls76_B_ERA p45_ls38_B_ERA\n",
       "cg13546858 0.68033150     0.5772548      0.5631969      0.6787446     \n",
       "cg14156792 0.36714010     0.2968027      0.3693401      0.4516511     \n",
       "cg20409752 0.77336059     0.8013890      0.7882355      0.8521332     \n",
       "cg07388700 0.73961880     0.6245255      0.6560671      0.4842761     \n",
       "cg18379824 0.09578587     0.2355529      0.1307056      0.1573492     \n",
       "cg02063695 0.29683495     0.3825099      0.4361941      0.3487084     \n",
       "           p122_ls122_B_ERA p97_ls93_B_ERA p26_ls15_B_ERA p120_ls120_B_ERA\n",
       "cg13546858 0.4359997        0.4296450      0.4702562      0.3974074       \n",
       "cg14156792 0.4595875        0.3973884      0.4653358      0.5214528       \n",
       "cg20409752 0.7998521        0.3673595      0.8586760      0.4231349       \n",
       "cg07388700 0.5322593        0.6622947      0.3341974      0.4616600       \n",
       "cg18379824 0.1206459        0.3268005      0.1626828      0.1460370       \n",
       "cg02063695 0.3566100        0.4992862      0.4982401      0.3058710       \n",
       "           p81_ls77_B_ERA p109_ls109_B_ERA ⋯ p117_ls117_Tnai_CCPpos\n",
       "cg13546858 0.3393907      0.6321954        ⋯ 0.2753362             \n",
       "cg14156792 0.3928255      0.3219846        ⋯ 0.3953131             \n",
       "cg20409752 0.7931953      0.4228317        ⋯ 0.7269016             \n",
       "cg07388700 0.4977331      0.3762703        ⋯ 0.8610174             \n",
       "cg18379824 0.2338012      0.4004037        ⋯ 0.1480027             \n",
       "cg02063695 0.5798893      0.5736687        ⋯ 0.4088268             \n",
       "           p13_ls11_Tnai_CCPpos p115_ls115_Tnai_CCPpos p25_ls25_Tnai_CCPpos\n",
       "cg13546858 0.4177926            0.7156444              0.3710931           \n",
       "cg14156792 0.3921698            0.3463648              0.5616351           \n",
       "cg20409752 0.7701832            0.4014461              0.7696968           \n",
       "cg07388700 0.8766619            0.8862330              0.8481766           \n",
       "cg18379824 0.1556974            0.3208071              0.3765979           \n",
       "cg02063695 0.3950273            0.3339513              0.5837288           \n",
       "           p106_ls101_Tnai_CCPpos p90_ls90_Tnai_CCPpos p123_ls123_Tnai_CCPpos\n",
       "cg13546858 0.3957713              0.3095737            0.4221284             \n",
       "cg14156792 0.5201216              0.5427350            0.4403750             \n",
       "cg20409752 0.7689361              0.8150016            0.8018278             \n",
       "cg07388700 0.7913449              0.8586092            0.7562150             \n",
       "cg18379824 0.1367164              0.1619292            0.1436327             \n",
       "cg02063695 0.4379668              0.5614677            0.3335417             \n",
       "           p66_ls57_Tnai_CCPpos p83_ls89_Tnai_CCPpos p119_ls119_Tnai_CCPpos\n",
       "cg13546858 0.3151877            0.4988299            0.3539757             \n",
       "cg14156792 0.4773869            0.5477679            0.4878891             \n",
       "cg20409752 0.7814969            0.7492687            0.7791292             \n",
       "cg07388700 0.8304005            0.8673041            0.8499417             \n",
       "cg18379824 0.1923012            0.1579575            0.1663391             \n",
       "cg02063695 0.5072278            0.4732343            0.4770607             "
      ]
     },
     "metadata": {},
     "output_type": "display_data"
    },
    {
     "data": {
      "text/html": [
       "<style>\n",
       ".list-inline {list-style: none; margin:0; padding: 0}\n",
       ".list-inline>li {display: inline-block}\n",
       ".list-inline>li:not(:last-child)::after {content: \"\\00b7\"; padding: 0 .5ex}\n",
       "</style>\n",
       "<ol class=list-inline><li>627</li><li>229</li></ol>\n"
      ],
      "text/latex": [
       "\\begin{enumerate*}\n",
       "\\item 627\n",
       "\\item 229\n",
       "\\end{enumerate*}\n"
      ],
      "text/markdown": [
       "1. 627\n",
       "2. 229\n",
       "\n",
       "\n"
      ],
      "text/plain": [
       "[1] 627 229"
      ]
     },
     "metadata": {},
     "output_type": "display_data"
    },
    {
     "data": {
      "text/html": [
       "<table class=\"dataframe\">\n",
       "<caption>A matrix: 6 × 217 of type dbl</caption>\n",
       "<thead>\n",
       "\t<tr><th></th><th scope=col>p60_ls53_B_ERA</th><th scope=col>p61_ls55_B_ERA</th><th scope=col>p77_ls76_B_ERA</th><th scope=col>p45_ls38_B_ERA</th><th scope=col>p122_ls122_B_ERA</th><th scope=col>p97_ls93_B_ERA</th><th scope=col>p26_ls15_B_ERA</th><th scope=col>p120_ls120_B_ERA</th><th scope=col>p81_ls77_B_ERA</th><th scope=col>p109_ls109_B_ERA</th><th scope=col>⋯</th><th scope=col>p46_ls41_Tnai_CCPneg</th><th scope=col>p29_ls18_Tnai_CCPneg</th><th scope=col>p34_ls34_Tnai_CCPneg</th><th scope=col>p53_ls48_Tnai_CCPneg</th><th scope=col>p105_ls104_Tnai_CCPneg</th><th scope=col>p96_ls105_Tnai_CCPneg</th><th scope=col>p75_ls75_Tnai_CCPneg</th><th scope=col>p62_ls61_Tnai_CCPneg</th><th scope=col>p43_ls35_Tnai_CCPneg</th><th scope=col>p28_ls21_Tnai_CCPneg</th></tr>\n",
       "</thead>\n",
       "<tbody>\n",
       "\t<tr><th scope=row>cg13546858</th><td>0.6803315</td><td>0.5772548</td><td>0.5631969</td><td>0.6787446</td><td>0.4359997</td><td>0.4296450</td><td>0.4702562</td><td>0.3974074</td><td>0.3393907</td><td>0.6321954</td><td>⋯</td><td>0.4124404</td><td>0.3498702</td><td>0.4818403</td><td>0.3420596</td><td>0.5769750</td><td>0.3837781</td><td>0.6677019</td><td>0.4092209</td><td>0.3277020</td><td>0.3485626</td></tr>\n",
       "\t<tr><th scope=row>cg14156792</th><td>0.3671401</td><td>0.2968027</td><td>0.3693401</td><td>0.4516511</td><td>0.4595875</td><td>0.3973884</td><td>0.4653358</td><td>0.5214528</td><td>0.3928255</td><td>0.3219846</td><td>⋯</td><td>0.4016657</td><td>0.4681373</td><td>0.4831266</td><td>0.5118256</td><td>0.5162193</td><td>0.5689355</td><td>0.4525984</td><td>0.3965010</td><td>0.4873086</td><td>0.4098235</td></tr>\n",
       "\t<tr><th scope=row>cg10156298</th><td>0.6778154</td><td>0.5671236</td><td>0.6656291</td><td>0.5601425</td><td>0.5692200</td><td>0.6050963</td><td>0.4712824</td><td>0.5991152</td><td>0.5883712</td><td>0.5214981</td><td>⋯</td><td>0.5037833</td><td>0.5624832</td><td>0.5259279</td><td>0.5803183</td><td>0.6156313</td><td>0.6639164</td><td>0.5426475</td><td>0.5504719</td><td>0.5671931</td><td>0.5786653</td></tr>\n",
       "\t<tr><th scope=row>cg05337761</th><td>0.6980344</td><td>0.6873899</td><td>0.5512932</td><td>0.5291279</td><td>0.5158827</td><td>0.7539281</td><td>0.3039114</td><td>0.6022600</td><td>0.5647282</td><td>0.4475556</td><td>⋯</td><td>0.5287783</td><td>0.4626853</td><td>0.5968773</td><td>0.4753343</td><td>0.5040375</td><td>0.4488061</td><td>0.5629246</td><td>0.4058384</td><td>0.4492898</td><td>0.6778184</td></tr>\n",
       "\t<tr><th scope=row>cg02063695</th><td>0.2968350</td><td>0.3825099</td><td>0.4361941</td><td>0.3487084</td><td>0.3566100</td><td>0.4992862</td><td>0.4982401</td><td>0.3058710</td><td>0.5798893</td><td>0.5736687</td><td>⋯</td><td>0.5172178</td><td>0.5594623</td><td>0.4893157</td><td>0.5236548</td><td>0.5567995</td><td>0.1070781</td><td>0.4027598</td><td>0.5786067</td><td>0.5582881</td><td>0.4610196</td></tr>\n",
       "\t<tr><th scope=row>cg02769477</th><td>0.3544690</td><td>0.3999616</td><td>0.4816269</td><td>0.3353714</td><td>0.4843037</td><td>0.6220014</td><td>0.4749200</td><td>0.3903988</td><td>0.6646948</td><td>0.6197907</td><td>⋯</td><td>0.7398651</td><td>0.8396456</td><td>0.7474314</td><td>0.7901334</td><td>0.8530745</td><td>0.1701052</td><td>0.5869895</td><td>0.7997114</td><td>0.8088265</td><td>0.7245033</td></tr>\n",
       "</tbody>\n",
       "</table>\n"
      ],
      "text/latex": [
       "A matrix: 6 × 217 of type dbl\n",
       "\\begin{tabular}{r|lllllllllllllllllllll}\n",
       "  & p60\\_ls53\\_B\\_ERA & p61\\_ls55\\_B\\_ERA & p77\\_ls76\\_B\\_ERA & p45\\_ls38\\_B\\_ERA & p122\\_ls122\\_B\\_ERA & p97\\_ls93\\_B\\_ERA & p26\\_ls15\\_B\\_ERA & p120\\_ls120\\_B\\_ERA & p81\\_ls77\\_B\\_ERA & p109\\_ls109\\_B\\_ERA & ⋯ & p46\\_ls41\\_Tnai\\_CCPneg & p29\\_ls18\\_Tnai\\_CCPneg & p34\\_ls34\\_Tnai\\_CCPneg & p53\\_ls48\\_Tnai\\_CCPneg & p105\\_ls104\\_Tnai\\_CCPneg & p96\\_ls105\\_Tnai\\_CCPneg & p75\\_ls75\\_Tnai\\_CCPneg & p62\\_ls61\\_Tnai\\_CCPneg & p43\\_ls35\\_Tnai\\_CCPneg & p28\\_ls21\\_Tnai\\_CCPneg\\\\\n",
       "\\hline\n",
       "\tcg13546858 & 0.6803315 & 0.5772548 & 0.5631969 & 0.6787446 & 0.4359997 & 0.4296450 & 0.4702562 & 0.3974074 & 0.3393907 & 0.6321954 & ⋯ & 0.4124404 & 0.3498702 & 0.4818403 & 0.3420596 & 0.5769750 & 0.3837781 & 0.6677019 & 0.4092209 & 0.3277020 & 0.3485626\\\\\n",
       "\tcg14156792 & 0.3671401 & 0.2968027 & 0.3693401 & 0.4516511 & 0.4595875 & 0.3973884 & 0.4653358 & 0.5214528 & 0.3928255 & 0.3219846 & ⋯ & 0.4016657 & 0.4681373 & 0.4831266 & 0.5118256 & 0.5162193 & 0.5689355 & 0.4525984 & 0.3965010 & 0.4873086 & 0.4098235\\\\\n",
       "\tcg10156298 & 0.6778154 & 0.5671236 & 0.6656291 & 0.5601425 & 0.5692200 & 0.6050963 & 0.4712824 & 0.5991152 & 0.5883712 & 0.5214981 & ⋯ & 0.5037833 & 0.5624832 & 0.5259279 & 0.5803183 & 0.6156313 & 0.6639164 & 0.5426475 & 0.5504719 & 0.5671931 & 0.5786653\\\\\n",
       "\tcg05337761 & 0.6980344 & 0.6873899 & 0.5512932 & 0.5291279 & 0.5158827 & 0.7539281 & 0.3039114 & 0.6022600 & 0.5647282 & 0.4475556 & ⋯ & 0.5287783 & 0.4626853 & 0.5968773 & 0.4753343 & 0.5040375 & 0.4488061 & 0.5629246 & 0.4058384 & 0.4492898 & 0.6778184\\\\\n",
       "\tcg02063695 & 0.2968350 & 0.3825099 & 0.4361941 & 0.3487084 & 0.3566100 & 0.4992862 & 0.4982401 & 0.3058710 & 0.5798893 & 0.5736687 & ⋯ & 0.5172178 & 0.5594623 & 0.4893157 & 0.5236548 & 0.5567995 & 0.1070781 & 0.4027598 & 0.5786067 & 0.5582881 & 0.4610196\\\\\n",
       "\tcg02769477 & 0.3544690 & 0.3999616 & 0.4816269 & 0.3353714 & 0.4843037 & 0.6220014 & 0.4749200 & 0.3903988 & 0.6646948 & 0.6197907 & ⋯ & 0.7398651 & 0.8396456 & 0.7474314 & 0.7901334 & 0.8530745 & 0.1701052 & 0.5869895 & 0.7997114 & 0.8088265 & 0.7245033\\\\\n",
       "\\end{tabular}\n"
      ],
      "text/markdown": [
       "\n",
       "A matrix: 6 × 217 of type dbl\n",
       "\n",
       "| <!--/--> | p60_ls53_B_ERA | p61_ls55_B_ERA | p77_ls76_B_ERA | p45_ls38_B_ERA | p122_ls122_B_ERA | p97_ls93_B_ERA | p26_ls15_B_ERA | p120_ls120_B_ERA | p81_ls77_B_ERA | p109_ls109_B_ERA | ⋯ | p46_ls41_Tnai_CCPneg | p29_ls18_Tnai_CCPneg | p34_ls34_Tnai_CCPneg | p53_ls48_Tnai_CCPneg | p105_ls104_Tnai_CCPneg | p96_ls105_Tnai_CCPneg | p75_ls75_Tnai_CCPneg | p62_ls61_Tnai_CCPneg | p43_ls35_Tnai_CCPneg | p28_ls21_Tnai_CCPneg |\n",
       "|---|---|---|---|---|---|---|---|---|---|---|---|---|---|---|---|---|---|---|---|---|---|\n",
       "| cg13546858 | 0.6803315 | 0.5772548 | 0.5631969 | 0.6787446 | 0.4359997 | 0.4296450 | 0.4702562 | 0.3974074 | 0.3393907 | 0.6321954 | ⋯ | 0.4124404 | 0.3498702 | 0.4818403 | 0.3420596 | 0.5769750 | 0.3837781 | 0.6677019 | 0.4092209 | 0.3277020 | 0.3485626 |\n",
       "| cg14156792 | 0.3671401 | 0.2968027 | 0.3693401 | 0.4516511 | 0.4595875 | 0.3973884 | 0.4653358 | 0.5214528 | 0.3928255 | 0.3219846 | ⋯ | 0.4016657 | 0.4681373 | 0.4831266 | 0.5118256 | 0.5162193 | 0.5689355 | 0.4525984 | 0.3965010 | 0.4873086 | 0.4098235 |\n",
       "| cg10156298 | 0.6778154 | 0.5671236 | 0.6656291 | 0.5601425 | 0.5692200 | 0.6050963 | 0.4712824 | 0.5991152 | 0.5883712 | 0.5214981 | ⋯ | 0.5037833 | 0.5624832 | 0.5259279 | 0.5803183 | 0.6156313 | 0.6639164 | 0.5426475 | 0.5504719 | 0.5671931 | 0.5786653 |\n",
       "| cg05337761 | 0.6980344 | 0.6873899 | 0.5512932 | 0.5291279 | 0.5158827 | 0.7539281 | 0.3039114 | 0.6022600 | 0.5647282 | 0.4475556 | ⋯ | 0.5287783 | 0.4626853 | 0.5968773 | 0.4753343 | 0.5040375 | 0.4488061 | 0.5629246 | 0.4058384 | 0.4492898 | 0.6778184 |\n",
       "| cg02063695 | 0.2968350 | 0.3825099 | 0.4361941 | 0.3487084 | 0.3566100 | 0.4992862 | 0.4982401 | 0.3058710 | 0.5798893 | 0.5736687 | ⋯ | 0.5172178 | 0.5594623 | 0.4893157 | 0.5236548 | 0.5567995 | 0.1070781 | 0.4027598 | 0.5786067 | 0.5582881 | 0.4610196 |\n",
       "| cg02769477 | 0.3544690 | 0.3999616 | 0.4816269 | 0.3353714 | 0.4843037 | 0.6220014 | 0.4749200 | 0.3903988 | 0.6646948 | 0.6197907 | ⋯ | 0.7398651 | 0.8396456 | 0.7474314 | 0.7901334 | 0.8530745 | 0.1701052 | 0.5869895 | 0.7997114 | 0.8088265 | 0.7245033 |\n",
       "\n"
      ],
      "text/plain": [
       "           p60_ls53_B_ERA p61_ls55_B_ERA p77_ls76_B_ERA p45_ls38_B_ERA\n",
       "cg13546858 0.6803315      0.5772548      0.5631969      0.6787446     \n",
       "cg14156792 0.3671401      0.2968027      0.3693401      0.4516511     \n",
       "cg10156298 0.6778154      0.5671236      0.6656291      0.5601425     \n",
       "cg05337761 0.6980344      0.6873899      0.5512932      0.5291279     \n",
       "cg02063695 0.2968350      0.3825099      0.4361941      0.3487084     \n",
       "cg02769477 0.3544690      0.3999616      0.4816269      0.3353714     \n",
       "           p122_ls122_B_ERA p97_ls93_B_ERA p26_ls15_B_ERA p120_ls120_B_ERA\n",
       "cg13546858 0.4359997        0.4296450      0.4702562      0.3974074       \n",
       "cg14156792 0.4595875        0.3973884      0.4653358      0.5214528       \n",
       "cg10156298 0.5692200        0.6050963      0.4712824      0.5991152       \n",
       "cg05337761 0.5158827        0.7539281      0.3039114      0.6022600       \n",
       "cg02063695 0.3566100        0.4992862      0.4982401      0.3058710       \n",
       "cg02769477 0.4843037        0.6220014      0.4749200      0.3903988       \n",
       "           p81_ls77_B_ERA p109_ls109_B_ERA ⋯ p46_ls41_Tnai_CCPneg\n",
       "cg13546858 0.3393907      0.6321954        ⋯ 0.4124404           \n",
       "cg14156792 0.3928255      0.3219846        ⋯ 0.4016657           \n",
       "cg10156298 0.5883712      0.5214981        ⋯ 0.5037833           \n",
       "cg05337761 0.5647282      0.4475556        ⋯ 0.5287783           \n",
       "cg02063695 0.5798893      0.5736687        ⋯ 0.5172178           \n",
       "cg02769477 0.6646948      0.6197907        ⋯ 0.7398651           \n",
       "           p29_ls18_Tnai_CCPneg p34_ls34_Tnai_CCPneg p53_ls48_Tnai_CCPneg\n",
       "cg13546858 0.3498702            0.4818403            0.3420596           \n",
       "cg14156792 0.4681373            0.4831266            0.5118256           \n",
       "cg10156298 0.5624832            0.5259279            0.5803183           \n",
       "cg05337761 0.4626853            0.5968773            0.4753343           \n",
       "cg02063695 0.5594623            0.4893157            0.5236548           \n",
       "cg02769477 0.8396456            0.7474314            0.7901334           \n",
       "           p105_ls104_Tnai_CCPneg p96_ls105_Tnai_CCPneg p75_ls75_Tnai_CCPneg\n",
       "cg13546858 0.5769750              0.3837781             0.6677019           \n",
       "cg14156792 0.5162193              0.5689355             0.4525984           \n",
       "cg10156298 0.6156313              0.6639164             0.5426475           \n",
       "cg05337761 0.5040375              0.4488061             0.5629246           \n",
       "cg02063695 0.5567995              0.1070781             0.4027598           \n",
       "cg02769477 0.8530745              0.1701052             0.5869895           \n",
       "           p62_ls61_Tnai_CCPneg p43_ls35_Tnai_CCPneg p28_ls21_Tnai_CCPneg\n",
       "cg13546858 0.4092209            0.3277020            0.3485626           \n",
       "cg14156792 0.3965010            0.4873086            0.4098235           \n",
       "cg10156298 0.5504719            0.5671931            0.5786653           \n",
       "cg05337761 0.4058384            0.4492898            0.6778184           \n",
       "cg02063695 0.5786067            0.5582881            0.4610196           \n",
       "cg02769477 0.7997114            0.8088265            0.7245033           "
      ]
     },
     "metadata": {},
     "output_type": "display_data"
    },
    {
     "data": {
      "text/html": [
       "<style>\n",
       ".list-inline {list-style: none; margin:0; padding: 0}\n",
       ".list-inline>li {display: inline-block}\n",
       ".list-inline>li:not(:last-child)::after {content: \"\\00b7\"; padding: 0 .5ex}\n",
       "</style>\n",
       "<ol class=list-inline><li>1221</li><li>217</li></ol>\n"
      ],
      "text/latex": [
       "\\begin{enumerate*}\n",
       "\\item 1221\n",
       "\\item 217\n",
       "\\end{enumerate*}\n"
      ],
      "text/markdown": [
       "1. 1221\n",
       "2. 217\n",
       "\n",
       "\n"
      ],
      "text/plain": [
       "[1] 1221  217"
      ]
     },
     "metadata": {},
     "output_type": "display_data"
    },
    {
     "data": {
      "text/html": [
       "<table class=\"dataframe\">\n",
       "<caption>A matrix: 6 × 316 of type dbl</caption>\n",
       "<thead>\n",
       "\t<tr><th></th><th scope=col>p38_ls29_B_CCPneg</th><th scope=col>p11_ls4_B_CCPneg</th><th scope=col>p24_ls27_B_CCPneg</th><th scope=col>p65_ls66_B_CCPneg</th><th scope=col>p54_ls71_B_CCPneg</th><th scope=col>p18_ls19_B_CCPneg</th><th scope=col>p27_ls26_B_CCPneg</th><th scope=col>p68_ls62_B_CCPneg</th><th scope=col>p69_ls64_B_CCPneg</th><th scope=col>p64_ls60_B_CCPneg</th><th scope=col>⋯</th><th scope=col>p117_ls117_Tnai_CCPpos</th><th scope=col>p13_ls11_Tnai_CCPpos</th><th scope=col>p115_ls115_Tnai_CCPpos</th><th scope=col>p25_ls25_Tnai_CCPpos</th><th scope=col>p106_ls101_Tnai_CCPpos</th><th scope=col>p90_ls90_Tnai_CCPpos</th><th scope=col>p123_ls123_Tnai_CCPpos</th><th scope=col>p66_ls57_Tnai_CCPpos</th><th scope=col>p83_ls89_Tnai_CCPpos</th><th scope=col>p119_ls119_Tnai_CCPpos</th></tr>\n",
       "</thead>\n",
       "<tbody>\n",
       "\t<tr><th scope=row>cg09226051</th><td>0.3738613</td><td>0.3356895</td><td>0.3784079</td><td>0.6153514</td><td>0.4548234</td><td>0.5243593</td><td>0.4005826</td><td>0.6461567</td><td>0.5155643</td><td>0.3642295</td><td>⋯</td><td>0.5808000</td><td>0.6896377</td><td>0.7315219</td><td>0.7994739</td><td>0.6902287</td><td>0.6141821</td><td>0.5977557</td><td>0.5601375</td><td>0.5954352</td><td>0.6713277</td></tr>\n",
       "\t<tr><th scope=row>cg21665850</th><td>0.9486632</td><td>0.9364300</td><td>0.9367000</td><td>0.9489453</td><td>0.9505321</td><td>0.9480929</td><td>0.9419709</td><td>0.9167943</td><td>0.9388531</td><td>0.9585406</td><td>⋯</td><td>0.7770280</td><td>0.7855686</td><td>0.7398444</td><td>0.9433357</td><td>0.9144528</td><td>0.9532770</td><td>0.9653403</td><td>0.9467151</td><td>0.8889919</td><td>0.8563943</td></tr>\n",
       "\t<tr><th scope=row>cg14222729</th><td>0.7306159</td><td>0.7696046</td><td>0.8150679</td><td>0.7804200</td><td>0.8355082</td><td>0.7483745</td><td>0.6831664</td><td>0.6665737</td><td>0.7933430</td><td>0.7640854</td><td>⋯</td><td>0.4275534</td><td>0.3915848</td><td>0.4796202</td><td>0.6802608</td><td>0.6671589</td><td>0.8002327</td><td>0.8194159</td><td>0.7402992</td><td>0.6372948</td><td>0.5650194</td></tr>\n",
       "\t<tr><th scope=row>cg17035276</th><td>0.7976627</td><td>0.8095061</td><td>0.7713758</td><td>0.8756608</td><td>0.8746578</td><td>0.8259858</td><td>0.8465543</td><td>0.7384884</td><td>0.8081853</td><td>0.8720282</td><td>⋯</td><td>0.4732981</td><td>0.5382803</td><td>0.5235556</td><td>0.7826829</td><td>0.7369726</td><td>0.7758013</td><td>0.8333555</td><td>0.8227208</td><td>0.6987391</td><td>0.5835767</td></tr>\n",
       "\t<tr><th scope=row>cg01479768</th><td>0.7344585</td><td>0.7200505</td><td>0.7036403</td><td>0.7085886</td><td>0.7862219</td><td>0.7512570</td><td>0.7080547</td><td>0.6606259</td><td>0.7986972</td><td>0.7863548</td><td>⋯</td><td>0.4368780</td><td>0.4625503</td><td>0.4443510</td><td>0.6861226</td><td>0.6604838</td><td>0.7430446</td><td>0.7804546</td><td>0.7765326</td><td>0.6053046</td><td>0.5034036</td></tr>\n",
       "\t<tr><th scope=row>cg02310723</th><td>0.7632238</td><td>0.8216853</td><td>0.7797638</td><td>0.7813630</td><td>0.7709903</td><td>0.8164138</td><td>0.7369941</td><td>0.6756536</td><td>0.7825276</td><td>0.8158578</td><td>⋯</td><td>0.4261563</td><td>0.4891520</td><td>0.5022306</td><td>0.6466006</td><td>0.6919124</td><td>0.7123361</td><td>0.7806502</td><td>0.7077186</td><td>0.6340032</td><td>0.5751077</td></tr>\n",
       "</tbody>\n",
       "</table>\n"
      ],
      "text/latex": [
       "A matrix: 6 × 316 of type dbl\n",
       "\\begin{tabular}{r|lllllllllllllllllllll}\n",
       "  & p38\\_ls29\\_B\\_CCPneg & p11\\_ls4\\_B\\_CCPneg & p24\\_ls27\\_B\\_CCPneg & p65\\_ls66\\_B\\_CCPneg & p54\\_ls71\\_B\\_CCPneg & p18\\_ls19\\_B\\_CCPneg & p27\\_ls26\\_B\\_CCPneg & p68\\_ls62\\_B\\_CCPneg & p69\\_ls64\\_B\\_CCPneg & p64\\_ls60\\_B\\_CCPneg & ⋯ & p117\\_ls117\\_Tnai\\_CCPpos & p13\\_ls11\\_Tnai\\_CCPpos & p115\\_ls115\\_Tnai\\_CCPpos & p25\\_ls25\\_Tnai\\_CCPpos & p106\\_ls101\\_Tnai\\_CCPpos & p90\\_ls90\\_Tnai\\_CCPpos & p123\\_ls123\\_Tnai\\_CCPpos & p66\\_ls57\\_Tnai\\_CCPpos & p83\\_ls89\\_Tnai\\_CCPpos & p119\\_ls119\\_Tnai\\_CCPpos\\\\\n",
       "\\hline\n",
       "\tcg09226051 & 0.3738613 & 0.3356895 & 0.3784079 & 0.6153514 & 0.4548234 & 0.5243593 & 0.4005826 & 0.6461567 & 0.5155643 & 0.3642295 & ⋯ & 0.5808000 & 0.6896377 & 0.7315219 & 0.7994739 & 0.6902287 & 0.6141821 & 0.5977557 & 0.5601375 & 0.5954352 & 0.6713277\\\\\n",
       "\tcg21665850 & 0.9486632 & 0.9364300 & 0.9367000 & 0.9489453 & 0.9505321 & 0.9480929 & 0.9419709 & 0.9167943 & 0.9388531 & 0.9585406 & ⋯ & 0.7770280 & 0.7855686 & 0.7398444 & 0.9433357 & 0.9144528 & 0.9532770 & 0.9653403 & 0.9467151 & 0.8889919 & 0.8563943\\\\\n",
       "\tcg14222729 & 0.7306159 & 0.7696046 & 0.8150679 & 0.7804200 & 0.8355082 & 0.7483745 & 0.6831664 & 0.6665737 & 0.7933430 & 0.7640854 & ⋯ & 0.4275534 & 0.3915848 & 0.4796202 & 0.6802608 & 0.6671589 & 0.8002327 & 0.8194159 & 0.7402992 & 0.6372948 & 0.5650194\\\\\n",
       "\tcg17035276 & 0.7976627 & 0.8095061 & 0.7713758 & 0.8756608 & 0.8746578 & 0.8259858 & 0.8465543 & 0.7384884 & 0.8081853 & 0.8720282 & ⋯ & 0.4732981 & 0.5382803 & 0.5235556 & 0.7826829 & 0.7369726 & 0.7758013 & 0.8333555 & 0.8227208 & 0.6987391 & 0.5835767\\\\\n",
       "\tcg01479768 & 0.7344585 & 0.7200505 & 0.7036403 & 0.7085886 & 0.7862219 & 0.7512570 & 0.7080547 & 0.6606259 & 0.7986972 & 0.7863548 & ⋯ & 0.4368780 & 0.4625503 & 0.4443510 & 0.6861226 & 0.6604838 & 0.7430446 & 0.7804546 & 0.7765326 & 0.6053046 & 0.5034036\\\\\n",
       "\tcg02310723 & 0.7632238 & 0.8216853 & 0.7797638 & 0.7813630 & 0.7709903 & 0.8164138 & 0.7369941 & 0.6756536 & 0.7825276 & 0.8158578 & ⋯ & 0.4261563 & 0.4891520 & 0.5022306 & 0.6466006 & 0.6919124 & 0.7123361 & 0.7806502 & 0.7077186 & 0.6340032 & 0.5751077\\\\\n",
       "\\end{tabular}\n"
      ],
      "text/markdown": [
       "\n",
       "A matrix: 6 × 316 of type dbl\n",
       "\n",
       "| <!--/--> | p38_ls29_B_CCPneg | p11_ls4_B_CCPneg | p24_ls27_B_CCPneg | p65_ls66_B_CCPneg | p54_ls71_B_CCPneg | p18_ls19_B_CCPneg | p27_ls26_B_CCPneg | p68_ls62_B_CCPneg | p69_ls64_B_CCPneg | p64_ls60_B_CCPneg | ⋯ | p117_ls117_Tnai_CCPpos | p13_ls11_Tnai_CCPpos | p115_ls115_Tnai_CCPpos | p25_ls25_Tnai_CCPpos | p106_ls101_Tnai_CCPpos | p90_ls90_Tnai_CCPpos | p123_ls123_Tnai_CCPpos | p66_ls57_Tnai_CCPpos | p83_ls89_Tnai_CCPpos | p119_ls119_Tnai_CCPpos |\n",
       "|---|---|---|---|---|---|---|---|---|---|---|---|---|---|---|---|---|---|---|---|---|---|\n",
       "| cg09226051 | 0.3738613 | 0.3356895 | 0.3784079 | 0.6153514 | 0.4548234 | 0.5243593 | 0.4005826 | 0.6461567 | 0.5155643 | 0.3642295 | ⋯ | 0.5808000 | 0.6896377 | 0.7315219 | 0.7994739 | 0.6902287 | 0.6141821 | 0.5977557 | 0.5601375 | 0.5954352 | 0.6713277 |\n",
       "| cg21665850 | 0.9486632 | 0.9364300 | 0.9367000 | 0.9489453 | 0.9505321 | 0.9480929 | 0.9419709 | 0.9167943 | 0.9388531 | 0.9585406 | ⋯ | 0.7770280 | 0.7855686 | 0.7398444 | 0.9433357 | 0.9144528 | 0.9532770 | 0.9653403 | 0.9467151 | 0.8889919 | 0.8563943 |\n",
       "| cg14222729 | 0.7306159 | 0.7696046 | 0.8150679 | 0.7804200 | 0.8355082 | 0.7483745 | 0.6831664 | 0.6665737 | 0.7933430 | 0.7640854 | ⋯ | 0.4275534 | 0.3915848 | 0.4796202 | 0.6802608 | 0.6671589 | 0.8002327 | 0.8194159 | 0.7402992 | 0.6372948 | 0.5650194 |\n",
       "| cg17035276 | 0.7976627 | 0.8095061 | 0.7713758 | 0.8756608 | 0.8746578 | 0.8259858 | 0.8465543 | 0.7384884 | 0.8081853 | 0.8720282 | ⋯ | 0.4732981 | 0.5382803 | 0.5235556 | 0.7826829 | 0.7369726 | 0.7758013 | 0.8333555 | 0.8227208 | 0.6987391 | 0.5835767 |\n",
       "| cg01479768 | 0.7344585 | 0.7200505 | 0.7036403 | 0.7085886 | 0.7862219 | 0.7512570 | 0.7080547 | 0.6606259 | 0.7986972 | 0.7863548 | ⋯ | 0.4368780 | 0.4625503 | 0.4443510 | 0.6861226 | 0.6604838 | 0.7430446 | 0.7804546 | 0.7765326 | 0.6053046 | 0.5034036 |\n",
       "| cg02310723 | 0.7632238 | 0.8216853 | 0.7797638 | 0.7813630 | 0.7709903 | 0.8164138 | 0.7369941 | 0.6756536 | 0.7825276 | 0.8158578 | ⋯ | 0.4261563 | 0.4891520 | 0.5022306 | 0.6466006 | 0.6919124 | 0.7123361 | 0.7806502 | 0.7077186 | 0.6340032 | 0.5751077 |\n",
       "\n"
      ],
      "text/plain": [
       "           p38_ls29_B_CCPneg p11_ls4_B_CCPneg p24_ls27_B_CCPneg\n",
       "cg09226051 0.3738613         0.3356895        0.3784079        \n",
       "cg21665850 0.9486632         0.9364300        0.9367000        \n",
       "cg14222729 0.7306159         0.7696046        0.8150679        \n",
       "cg17035276 0.7976627         0.8095061        0.7713758        \n",
       "cg01479768 0.7344585         0.7200505        0.7036403        \n",
       "cg02310723 0.7632238         0.8216853        0.7797638        \n",
       "           p65_ls66_B_CCPneg p54_ls71_B_CCPneg p18_ls19_B_CCPneg\n",
       "cg09226051 0.6153514         0.4548234         0.5243593        \n",
       "cg21665850 0.9489453         0.9505321         0.9480929        \n",
       "cg14222729 0.7804200         0.8355082         0.7483745        \n",
       "cg17035276 0.8756608         0.8746578         0.8259858        \n",
       "cg01479768 0.7085886         0.7862219         0.7512570        \n",
       "cg02310723 0.7813630         0.7709903         0.8164138        \n",
       "           p27_ls26_B_CCPneg p68_ls62_B_CCPneg p69_ls64_B_CCPneg\n",
       "cg09226051 0.4005826         0.6461567         0.5155643        \n",
       "cg21665850 0.9419709         0.9167943         0.9388531        \n",
       "cg14222729 0.6831664         0.6665737         0.7933430        \n",
       "cg17035276 0.8465543         0.7384884         0.8081853        \n",
       "cg01479768 0.7080547         0.6606259         0.7986972        \n",
       "cg02310723 0.7369941         0.6756536         0.7825276        \n",
       "           p64_ls60_B_CCPneg ⋯ p117_ls117_Tnai_CCPpos p13_ls11_Tnai_CCPpos\n",
       "cg09226051 0.3642295         ⋯ 0.5808000              0.6896377           \n",
       "cg21665850 0.9585406         ⋯ 0.7770280              0.7855686           \n",
       "cg14222729 0.7640854         ⋯ 0.4275534              0.3915848           \n",
       "cg17035276 0.8720282         ⋯ 0.4732981              0.5382803           \n",
       "cg01479768 0.7863548         ⋯ 0.4368780              0.4625503           \n",
       "cg02310723 0.8158578         ⋯ 0.4261563              0.4891520           \n",
       "           p115_ls115_Tnai_CCPpos p25_ls25_Tnai_CCPpos p106_ls101_Tnai_CCPpos\n",
       "cg09226051 0.7315219              0.7994739            0.6902287             \n",
       "cg21665850 0.7398444              0.9433357            0.9144528             \n",
       "cg14222729 0.4796202              0.6802608            0.6671589             \n",
       "cg17035276 0.5235556              0.7826829            0.7369726             \n",
       "cg01479768 0.4443510              0.6861226            0.6604838             \n",
       "cg02310723 0.5022306              0.6466006            0.6919124             \n",
       "           p90_ls90_Tnai_CCPpos p123_ls123_Tnai_CCPpos p66_ls57_Tnai_CCPpos\n",
       "cg09226051 0.6141821            0.5977557              0.5601375           \n",
       "cg21665850 0.9532770            0.9653403              0.9467151           \n",
       "cg14222729 0.8002327            0.8194159              0.7402992           \n",
       "cg17035276 0.7758013            0.8333555              0.8227208           \n",
       "cg01479768 0.7430446            0.7804546              0.7765326           \n",
       "cg02310723 0.7123361            0.7806502              0.7077186           \n",
       "           p83_ls89_Tnai_CCPpos p119_ls119_Tnai_CCPpos\n",
       "cg09226051 0.5954352            0.6713277             \n",
       "cg21665850 0.8889919            0.8563943             \n",
       "cg14222729 0.6372948            0.5650194             \n",
       "cg17035276 0.6987391            0.5835767             \n",
       "cg01479768 0.6053046            0.5034036             \n",
       "cg02310723 0.6340032            0.5751077             "
      ]
     },
     "metadata": {},
     "output_type": "display_data"
    },
    {
     "data": {
      "text/html": [
       "<style>\n",
       ".list-inline {list-style: none; margin:0; padding: 0}\n",
       ".list-inline>li {display: inline-block}\n",
       ".list-inline>li:not(:last-child)::after {content: \"\\00b7\"; padding: 0 .5ex}\n",
       "</style>\n",
       "<ol class=list-inline><li>136</li><li>316</li></ol>\n"
      ],
      "text/latex": [
       "\\begin{enumerate*}\n",
       "\\item 136\n",
       "\\item 316\n",
       "\\end{enumerate*}\n"
      ],
      "text/markdown": [
       "1. 136\n",
       "2. 316\n",
       "\n",
       "\n"
      ],
      "text/plain": [
       "[1] 136 316"
      ]
     },
     "metadata": {},
     "output_type": "display_data"
    }
   ],
   "source": [
    "### Create RF model DFs\n",
    "## CCP+ vs ERA\n",
    "# select loci\n",
    "rf_allCell_ccpPvera_dml_vector = Reduce(union, list(dml_v1_list[[\"selectedLoci_bCell_ccpPvera_F_cohort1_allChrom\"]], dml_v1_list[[\"selectedLoci_bCell_ccpPvera_F_cohort2_allChrom\"]], \n",
    "                                                    dml_v1_list[[\"selectedLoci_tMem_ccpPvera_F_cohort1_allChrom\"]], dml_v1_list[[\"selectedLoci_tMem_ccpPvera_F_cohort2_allChrom\"]], \n",
    "                                                    dml_v1_list[[\"selectedLoci_tNai_ccpPvera_F_cohort1_allChrom\"]], dml_v1_list[[\"selectedLoci_tNai_ccpPvera_F_cohort2_allChrom\"]]))\n",
    "\n",
    "# select samples\n",
    "rf_allCell_ccpPvera_sample_vector = Reduce(union, list(bCell_era_F_cohort1_vector, bCell_era_F_cohort2_vector, bCell_ccpP_F_cohort1_vector, bCell_ccpP_F_cohort2_vector, \n",
    "                                                       tMem_era_F_cohort1_vector, tMem_era_F_cohort2_vector, tMem_ccpP_F_cohort1_vector, tMem_ccpP_F_cohort2_vector, \n",
    "                                                       tNai_era_F_cohort1_vector, tNai_era_F_cohort2_vector, tNai_ccpP_F_cohort1_vector, tNai_ccpP_F_cohort2_vector))\n",
    "\n",
    "\n",
    "# create dataframe\n",
    "rf_allCell_ccpPvera_dml_df = analysis_df[rf_allCell_ccpPvera_dml_vector, rf_allCell_ccpPvera_sample_vector]\n",
    "head(rf_allCell_ccpPvera_dml_df)\n",
    "dim(rf_allCell_ccpPvera_dml_df)\n",
    "\n",
    "# export object\n",
    "setwd(dml_output_dir)\n",
    "write.table(rf_allCell_ccpPvera_dml_df, file=\"rf_allCell_ccpPvera_dml_df.csv\", quote=FALSE, sep='\\t', col.names = NA)\n",
    "\n",
    "## CCP- vs ERA\n",
    "# select loci\n",
    "rf_allCell_ccpMvera_dml_vector = Reduce(union, list(dml_v1_list[[\"selectedLoci_bCell_ccpMvera_F_cohort1_allChrom\"]], dml_v1_list[[\"selectedLoci_bCell_ccpMvera_F_cohort2_allChrom\"]], \n",
    "                                                    dml_v1_list[[\"selectedLoci_tMem_ccpMvera_F_cohort1_allChrom\"]], dml_v1_list[[\"selectedLoci_tMem_ccpMvera_F_cohort2_allChrom\"]], \n",
    "                                                    dml_v1_list[[\"selectedLoci_tNai_ccpMvera_F_cohort1_allChrom\"]], dml_v1_list[[\"selectedLoci_tNai_ccpMvera_F_cohort2_allChrom\"]]))\n",
    "\n",
    "# select samples\n",
    "rf_allCell_ccpMvera_sample_vector = Reduce(union, list(bCell_era_F_cohort1_vector, bCell_era_F_cohort2_vector, bCell_ccpM_F_cohort1_vector, bCell_ccpM_F_cohort2_vector, \n",
    "                                                       tMem_era_F_cohort1_vector, tMem_era_F_cohort2_vector, tMem_ccpM_F_cohort1_vector, tMem_ccpM_F_cohort2_vector, \n",
    "                                                       tNai_era_F_cohort1_vector, tNai_era_F_cohort2_vector, tNai_ccpM_F_cohort1_vector, tNai_ccpM_F_cohort2_vector))\n",
    "\n",
    "\n",
    "# create dataframe\n",
    "rf_allCell_ccpMvera_dml_df = analysis_df[rf_allCell_ccpMvera_dml_vector, rf_allCell_ccpMvera_sample_vector]\n",
    "head(rf_allCell_ccpMvera_dml_df)\n",
    "dim(rf_allCell_ccpMvera_dml_df)\n",
    "\n",
    "# export object\n",
    "setwd(dml_output_dir)\n",
    "write.table(rf_allCell_ccpMvera_dml_df, file=\"rf_allCell_ccpMvera_dml_df.csv\", quote=FALSE, sep='\\t', col.names = NA)\n",
    "\n",
    "## CCP+ vs CCP-\n",
    "# select loci\n",
    "rf_allCell_ccpPvccpM_dml_vector = Reduce(union, list(dml_v1_list[[\"selectedLoci_bCell_ccpPvccpM_F_cohort1_allChrom\"]], dml_v1_list[[\"selectedLoci_bCell_ccpPvccpM_F_cohort2_allChrom\"]], \n",
    "                                                    dml_v1_list[[\"selectedLoci_tMem_ccpPvccpM_F_cohort1_allChrom\"]], dml_v1_list[[\"selectedLoci_tMem_ccpPvccpM_F_cohort2_allChrom\"]], \n",
    "                                                    dml_v1_list[[\"selectedLoci_tNai_ccpPvccpM_F_cohort1_allChrom\"]], dml_v1_list[[\"selectedLoci_tNai_ccpPvccpM_F_cohort2_allChrom\"]]))\n",
    "\n",
    "# select samples\n",
    "rf_allCell_ccpPvccpM_sample_vector = Reduce(union, list(bCell_ccpM_F_cohort1_vector, bCell_ccpM_F_cohort2_vector, bCell_ccpP_F_cohort1_vector, bCell_ccpP_F_cohort2_vector, \n",
    "                                                       tMem_ccpM_F_cohort1_vector, tMem_ccpM_F_cohort2_vector, tMem_ccpP_F_cohort1_vector, tMem_ccpP_F_cohort2_vector, \n",
    "                                                       tNai_ccpM_F_cohort1_vector, tNai_ccpM_F_cohort2_vector, tNai_ccpP_F_cohort1_vector, tNai_ccpP_F_cohort2_vector))\n",
    "\n",
    "\n",
    "# create dataframe\n",
    "rf_allCell_ccpPvccpM_dml_df = analysis_df[rf_allCell_ccpPvccpM_dml_vector, rf_allCell_ccpPvccpM_sample_vector]\n",
    "head(rf_allCell_ccpPvccpM_dml_df)\n",
    "dim(rf_allCell_ccpPvccpM_dml_df)\n",
    "\n",
    "# export object\n",
    "setwd(dml_output_dir)\n",
    "write.table(rf_allCell_ccpPvccpM_dml_df, file=\"rf_allCell_ccpPvccpM_dml_df.csv\", quote=FALSE, sep='\\t', col.names = NA)\n"
   ]
  },
  {
   "cell_type": "code",
   "execution_count": 18,
   "id": "2effda24-b4ac-42cf-a306-d4ee5bfab891",
   "metadata": {},
   "outputs": [],
   "source": [
    "### Create Volcano Plot DFs\n",
    "set.seed(15)\n",
    "subsample_pct = 1.0\n",
    "\n",
    "### first, based on B Cell\n",
    "## CCP- vs CCP+\n",
    "# define the sample set\n",
    "volcano_bCell_ccpMvccpP_sample_vector = Reduce(union, list(bCell_ccpM_F_cohort2_vector, bCell_ccpP_F_cohort2_vector))\n",
    "\n",
    "# define the not significant loci\n",
    "not_bCell_ccpPvccpM_F_cohort2_allChrom_vector = setdiff(rownames(analysis_df), dml_v2_list[[\"selectedLoci_bCell_ccpPvccpM_F_cohort2_allChrom\"]])\n",
    "\n",
    "# take a randomly selected subset from that vector\n",
    "subsetNot_bCell_ccpPvccpM_F_cohort2_allChrom_vector = sample(not_bCell_ccpPvccpM_F_cohort2_allChrom_vector, length(not_bCell_ccpPvccpM_F_cohort2_allChrom_vector)*subsample_pct, replace=FALSE)\n",
    "\n",
    "# combine selected and subsampled not-selected for dataframe creation\n",
    "volcanoDMLs_bCell_ccpPvccpM_F_cohort2_allChrom_vector = Reduce(union, list(dml_v2_list[[\"selectedLoci_bCell_ccpPvccpM_F_cohort2_allChrom\"]], \n",
    "                                                                           subsetNot_bCell_ccpPvccpM_F_cohort2_allChrom_vector))\n",
    "\n",
    "# create dataframe for Volcano Plot\n",
    "bCell_ccpMvccpP_volcano_df = analysis_df[volcanoDMLs_bCell_ccpPvccpM_F_cohort2_allChrom_vector, volcano_bCell_ccpMvccpP_sample_vector]\n",
    "\n",
    "# export object\n",
    "setwd(dml_output_dir)\n",
    "write.table(bCell_ccpMvccpP_volcano_df, file=\"bCell_01_ccpMvccpP_volcano_df.csv\", quote=FALSE, sep='\\t', col.names = NA)\n",
    "\n",
    "## CCP- vs ERA\n",
    "# define the sample set\n",
    "volcano_bCell_ccpMvera_sample_vector = Reduce(union, list(bCell_ccpM_F_cohort2_vector, bCell_era_F_cohort2_vector))\n",
    "\n",
    "# define the not significant loci\n",
    "not_bCell_ccpMvera_F_cohort2_allChrom_vector = setdiff(rownames(analysis_df), dml_v2_list[[\"selectedLoci_bCell_ccpMvera_F_cohort2_allChrom\"]])\n",
    "\n",
    "# take a randomly selected subset from that vector\n",
    "subsetNot_bCell_ccpMvera_F_cohort2_allChrom_vector = sample(not_bCell_ccpMvera_F_cohort2_allChrom_vector, length(not_bCell_ccpMvera_F_cohort2_allChrom_vector)*subsample_pct, replace=FALSE)\n",
    "\n",
    "# combine selected and subsampled not-selected for dataframe creation\n",
    "volcanoDMLs_bCell_ccpMvera_F_cohort2_allChrom_vector = Reduce(union, list(dml_v2_list[[\"selectedLoci_bCell_ccpMvera_F_cohort2_allChrom\"]], \n",
    "                                                                           subsetNot_bCell_ccpMvera_F_cohort2_allChrom_vector))\n",
    "\n",
    "# create dataframe for Volcano Plot\n",
    "bCell_ccpMvera_volcano_df = analysis_df[volcanoDMLs_bCell_ccpMvera_F_cohort2_allChrom_vector, volcano_bCell_ccpMvera_sample_vector]\n",
    "\n",
    "# export object\n",
    "setwd(dml_output_dir)\n",
    "write.table(bCell_ccpMvera_volcano_df, file=\"bCell_02_ccpMvera_volcano_df.csv\", quote=FALSE, sep='\\t', col.names = NA)\n",
    "\n",
    "## CCP+ vs ERA\n",
    "# define the sample set\n",
    "volcano_bCell_ccpPvera_sample_vector = Reduce(union, list(bCell_ccpP_F_cohort2_vector, bCell_era_F_cohort2_vector))\n",
    "\n",
    "# define the not significant loci\n",
    "not_bCell_ccpPvera_F_cohort2_allChrom_vector = setdiff(rownames(analysis_df), dml_v2_list[[\"selectedLoci_bCell_ccpPvera_F_cohort2_allChrom\"]])\n",
    "\n",
    "# take a randomly selected subset from that vector\n",
    "subsetNot_bCell_ccpPvera_F_cohort2_allChrom_vector = sample(not_bCell_ccpPvera_F_cohort2_allChrom_vector, length(not_bCell_ccpPvera_F_cohort2_allChrom_vector)*subsample_pct, replace=FALSE)\n",
    "\n",
    "# combine selected and subsampled not-selected for dataframe creation\n",
    "volcanoDMLs_bCell_ccpPvera_F_cohort2_allChrom_vector = Reduce(union, list(dml_v2_list[[\"selectedLoci_bCell_ccpPvera_F_cohort2_allChrom\"]], \n",
    "                                                                           subsetNot_bCell_ccpPvera_F_cohort2_allChrom_vector))\n",
    "\n",
    "# create dataframe for Volcano Plot\n",
    "bCell_ccpPvera_volcano_df = analysis_df[volcanoDMLs_bCell_ccpPvera_F_cohort2_allChrom_vector, volcano_bCell_ccpPvera_sample_vector]\n",
    "\n",
    "# export object\n",
    "setwd(dml_output_dir)\n",
    "write.table(bCell_ccpPvera_volcano_df, file=\"bCell_03_ccpPvera_volcano_df.csv\", quote=FALSE, sep='\\t', col.names = NA)\n",
    "\n",
    "\n",
    "### Next, based on memory T cell\n",
    "## CCP- vs CCP+\n",
    "# define the sample set\n",
    "volcano_tMem_ccpMvccpP_sample_vector = Reduce(union, list(tMem_ccpM_F_cohort2_vector, tMem_ccpP_F_cohort2_vector))\n",
    "\n",
    "# define the not significant loci\n",
    "not_tMem_ccpPvccpM_F_cohort2_allChrom_vector = setdiff(rownames(analysis_df), dml_v2_list[[\"selectedLoci_tMem_ccpPvccpM_F_cohort2_allChrom\"]])\n",
    "\n",
    "# take a randomly selected subset from that vector\n",
    "subsetNot_tMem_ccpPvccpM_F_cohort2_allChrom_vector = sample(not_tMem_ccpPvccpM_F_cohort2_allChrom_vector, length(not_tMem_ccpPvccpM_F_cohort2_allChrom_vector)*subsample_pct, replace=FALSE)\n",
    "\n",
    "# combine selected and subsampled not-selected for dataframe creation\n",
    "volcanoDMLs_tMem_ccpPvccpM_F_cohort2_allChrom_vector = Reduce(union, list(dml_v2_list[[\"selectedLoci_tMem_ccpPvccpM_F_cohort2_allChrom\"]], \n",
    "                                                                           subsetNot_tMem_ccpPvccpM_F_cohort2_allChrom_vector))\n",
    "\n",
    "# create dataframe for Volcano Plot\n",
    "tMem_ccpMvccpP_volcano_df = analysis_df[volcanoDMLs_tMem_ccpPvccpM_F_cohort2_allChrom_vector, volcano_tMem_ccpMvccpP_sample_vector]\n",
    "\n",
    "# export object\n",
    "setwd(dml_output_dir)\n",
    "write.table(tMem_ccpMvccpP_volcano_df, file=\"tMem_01_ccpMvccpP_volcano_df.csv\", quote=FALSE, sep='\\t', col.names = NA)\n",
    "\n",
    "## CCP- vs ERA\n",
    "# define the sample set\n",
    "volcano_tMem_ccpMvera_sample_vector = Reduce(union, list(tMem_ccpM_F_cohort2_vector, tMem_era_F_cohort2_vector))\n",
    "\n",
    "# define the not significant loci\n",
    "not_tMem_ccpMvera_F_cohort2_allChrom_vector = setdiff(rownames(analysis_df), dml_v2_list[[\"selectedLoci_tMem_ccpMvera_F_cohort2_allChrom\"]])\n",
    "\n",
    "# take a randomly selected subset from that vector\n",
    "subsetNot_tMem_ccpMvera_F_cohort2_allChrom_vector = sample(not_tMem_ccpMvera_F_cohort2_allChrom_vector, length(not_tMem_ccpMvera_F_cohort2_allChrom_vector)*subsample_pct, replace=FALSE)\n",
    "\n",
    "# combine selected and subsampled not-selected for dataframe creation\n",
    "volcanoDMLs_tMem_ccpMvera_F_cohort2_allChrom_vector = Reduce(union, list(dml_v2_list[[\"selectedLoci_tMem_ccpMvera_F_cohort2_allChrom\"]], \n",
    "                                                                           subsetNot_tMem_ccpMvera_F_cohort2_allChrom_vector))\n",
    "\n",
    "# create dataframe for Volcano Plot\n",
    "tMem_ccpMvera_volcano_df = analysis_df[volcanoDMLs_tMem_ccpMvera_F_cohort2_allChrom_vector, volcano_tMem_ccpMvera_sample_vector]\n",
    "\n",
    "# export object\n",
    "setwd(dml_output_dir)\n",
    "write.table(tMem_ccpMvera_volcano_df, file=\"tMem_02_ccpMvera_volcano_df.csv\", quote=FALSE, sep='\\t', col.names = NA)\n",
    "\n",
    "## CCP+ vs ERA\n",
    "# define the sample set\n",
    "volcano_tMem_ccpPvera_sample_vector = Reduce(union, list(tMem_ccpP_F_cohort2_vector, tMem_era_F_cohort2_vector))\n",
    "\n",
    "# define the not significant loci\n",
    "not_tMem_ccpPvera_F_cohort2_allChrom_vector = setdiff(rownames(analysis_df), dml_v2_list[[\"selectedLoci_tMem_ccpPvera_F_cohort2_allChrom\"]])\n",
    "\n",
    "# take a randomly selected subset from that vector\n",
    "subsetNot_tMem_ccpPvera_F_cohort2_allChrom_vector = sample(not_tMem_ccpPvera_F_cohort2_allChrom_vector, length(not_tMem_ccpPvera_F_cohort2_allChrom_vector)*subsample_pct, replace=FALSE)\n",
    "\n",
    "# combine selected and subsampled not-selected for dataframe creation\n",
    "volcanoDMLs_tMem_ccpPvera_F_cohort2_allChrom_vector = Reduce(union, list(dml_v2_list[[\"selectedLoci_tMem_ccpPvera_F_cohort2_allChrom\"]], \n",
    "                                                                           subsetNot_tMem_ccpPvera_F_cohort2_allChrom_vector))\n",
    "\n",
    "# create dataframe for Volcano Plot\n",
    "tMem_ccpPvera_volcano_df = analysis_df[volcanoDMLs_tMem_ccpPvera_F_cohort2_allChrom_vector, volcano_tMem_ccpPvera_sample_vector]\n",
    "\n",
    "# export object\n",
    "setwd(dml_output_dir)\n",
    "write.table(tMem_ccpPvera_volcano_df, file=\"tMem_03_ccpPvera_volcano_df.csv\", quote=FALSE, sep='\\t', col.names = NA)\n",
    "\n",
    "\n",
    "### Next, based on Naive T Cell\n",
    "## CCP- vs CCP+\n",
    "# define the sample set\n",
    "volcano_tNai_ccpMvccpP_sample_vector = Reduce(union, list(tNai_ccpM_F_cohort2_vector, tNai_ccpP_F_cohort2_vector))\n",
    "\n",
    "# define the not significant loci\n",
    "not_tNai_ccpPvccpM_F_cohort2_allChrom_vector = setdiff(rownames(analysis_df), dml_v2_list[[\"selectedLoci_tNai_ccpPvccpM_F_cohort2_allChrom\"]])\n",
    "\n",
    "# take a randomly selected subset from that vector\n",
    "subsetNot_tNai_ccpPvccpM_F_cohort2_allChrom_vector = sample(not_tNai_ccpPvccpM_F_cohort2_allChrom_vector, length(not_tNai_ccpPvccpM_F_cohort2_allChrom_vector)*subsample_pct, replace=FALSE)\n",
    "\n",
    "# combine selected and subsampled not-selected for dataframe creation\n",
    "volcanoDMLs_tNai_ccpPvccpM_F_cohort2_allChrom_vector = Reduce(union, list(dml_v2_list[[\"selectedLoci_tNai_ccpPvccpM_F_cohort2_allChrom\"]], \n",
    "                                                                           subsetNot_tNai_ccpPvccpM_F_cohort2_allChrom_vector))\n",
    "\n",
    "# create dataframe for Volcano Plot\n",
    "tNai_ccpMvccpP_volcano_df = analysis_df[volcanoDMLs_tNai_ccpPvccpM_F_cohort2_allChrom_vector, volcano_tNai_ccpMvccpP_sample_vector]\n",
    "\n",
    "# export object\n",
    "setwd(dml_output_dir)\n",
    "write.table(tNai_ccpMvccpP_volcano_df, file=\"tNai_01_ccpMvccpP_volcano_df.csv\", quote=FALSE, sep='\\t', col.names = NA)\n",
    "\n",
    "## CCP- vs ERA\n",
    "# define the sample set\n",
    "volcano_tNai_ccpMvera_sample_vector = Reduce(union, list(tNai_ccpM_F_cohort2_vector, tNai_era_F_cohort2_vector))\n",
    "\n",
    "# define the not significant loci\n",
    "not_tNai_ccpMvera_F_cohort2_allChrom_vector = setdiff(rownames(analysis_df), dml_v2_list[[\"selectedLoci_tNai_ccpMvera_F_cohort2_allChrom\"]])\n",
    "\n",
    "# take a randomly selected subset from that vector\n",
    "subsetNot_tNai_ccpMvera_F_cohort2_allChrom_vector = sample(not_tNai_ccpMvera_F_cohort2_allChrom_vector, length(not_tNai_ccpMvera_F_cohort2_allChrom_vector)*subsample_pct, replace=FALSE)\n",
    "\n",
    "# combine selected and subsampled not-selected for dataframe creation\n",
    "volcanoDMLs_tNai_ccpMvera_F_cohort2_allChrom_vector = Reduce(union, list(dml_v2_list[[\"selectedLoci_tNai_ccpMvera_F_cohort2_allChrom\"]], \n",
    "                                                                           subsetNot_tNai_ccpMvera_F_cohort2_allChrom_vector))\n",
    "\n",
    "# create dataframe for Volcano Plot\n",
    "tNai_ccpMvera_volcano_df = analysis_df[volcanoDMLs_tNai_ccpMvera_F_cohort2_allChrom_vector, volcano_tNai_ccpMvera_sample_vector]\n",
    "\n",
    "# export object\n",
    "setwd(dml_output_dir)\n",
    "write.table(tNai_ccpMvera_volcano_df, file=\"tNai_02_ccpMvera_volcano_df.csv\", quote=FALSE, sep='\\t', col.names = NA)\n",
    "\n",
    "## CCP+ vs ERA\n",
    "# define the sample set\n",
    "volcano_tNai_ccpPvera_sample_vector = Reduce(union, list(tNai_ccpP_F_cohort2_vector, tNai_era_F_cohort2_vector))\n",
    "\n",
    "# define the not significant loci\n",
    "not_tNai_ccpPvera_F_cohort2_allChrom_vector = setdiff(rownames(analysis_df), dml_v2_list[[\"selectedLoci_tNai_ccpPvera_F_cohort2_allChrom\"]])\n",
    "\n",
    "# take a randomly selected subset from that vector\n",
    "subsetNot_tNai_ccpPvera_F_cohort2_allChrom_vector = sample(not_tNai_ccpPvera_F_cohort2_allChrom_vector, length(not_tNai_ccpPvera_F_cohort2_allChrom_vector)*subsample_pct, replace=FALSE)\n",
    "\n",
    "# combine selected and subsampled not-selected for dataframe creation\n",
    "volcanoDMLs_tNai_ccpPvera_F_cohort2_allChrom_vector = Reduce(union, list(dml_v2_list[[\"selectedLoci_tNai_ccpPvera_F_cohort2_allChrom\"]], \n",
    "                                                                           subsetNot_tNai_ccpPvera_F_cohort2_allChrom_vector))\n",
    "\n",
    "# create dataframe for Volcano Plot\n",
    "tNai_ccpPvera_volcano_df = analysis_df[volcanoDMLs_tNai_ccpPvera_F_cohort2_allChrom_vector, volcano_tNai_ccpPvera_sample_vector]\n",
    "\n",
    "# export object\n",
    "setwd(dml_output_dir)\n",
    "write.table(tNai_ccpPvera_volcano_df, file=\"tNai_03_ccpPvera_volcano_df.csv\", quote=FALSE, sep='\\t', col.names = NA)"
   ]
  },
  {
   "cell_type": "code",
   "execution_count": 19,
   "id": "0acee9fb-544a-4373-b024-5bca76fc58c6",
   "metadata": {},
   "outputs": [
    {
     "name": "stdout",
     "output_type": "stream",
     "text": [
      "The data were evaluated in an initial sample set comparing all three groups called “cohort 1” (anti-CCP3(-) n=21, At-Risk n=20, Early RA n=5) and a confirmatory “cohort 2” (anti-CCP3(-) n=31, At-Risk n=36, Early RA n=17)\n",
      "For cohort 1, 550, 294, and 404 differentially modified loci (DML) were identified among anti-CCP3(-), At-Risk and Early RA groups in B cells, memory T cells and naïve T cells, respectively.\n",
      "For cohort 2, 124, 734, and 121 differentially modified loci (DML) were identified among anti-CCP3(-), At-Risk and Early RA groups in B cells, memory T cells and naïve T cells, respectively.\n",
      "The DML overlap between the two cohorts was highly significant (p-values = 1.70724109626692e-22, 8.16518076932088e-33, and 3.13116640060934e-44 in B cell, memory T cell and Naïve T cells, respectively, by hypergeometric tests)\n",
      "The union of DMLs across cohorts 1 and 2 corresponded to 662, 1007, and 505 DMLs in B cells, memory T cells and naïve T cells, respectively, across anti-CCP3(-) Controls, At-Risk and Early RA groups.\n",
      "Genes with DMLs located in the promoter or gene body were defined as DMGs and 198, 310, and 164 DMGs were identified in B cells, memory T cells and naïve T cells, respectively.\n",
      "We then performed pairwise comparisons between the individual groups to help determine the primary source of the group differences. We identified 86, 77, and 83 DMLs associated with 25, 22, and 28 DMGs between anti-CCP3(-) and At-Risk participants in B cells, memory T cells and naïve T cells, respectively\n",
      "However, in comparisons between At-Risk and Early RA participants we identified 359, 278, and 270 DMLs in B cells, memory T cells and naïve T cells, respectively, that mapped to 112, 82, and 101 DMGs."
     ]
    }
   ],
   "source": [
    "### Sink all stats to dataLog\n",
    "sink(dataLog_fp)\n",
    "cat(paste0(\"The data were evaluated in an initial sample set comparing all three groups called “cohort 1” (anti-CCP3(-) n=\", length(unique(sapply(strsplit(c(bCell_ccpM_allS_cohort1_vector,tMem_ccpM_allS_cohort1_vector,tNai_ccpM_allS_cohort1_vector), split = \"_\", fixed = T), `[`, 1))) , \n",
    "       \", At-Risk n=\", length(unique(sapply(strsplit(c(bCell_ccpP_allS_cohort1_vector,tMem_ccpP_allS_cohort1_vector,tNai_ccpP_allS_cohort1_vector), split = \"_\", fixed = T), `[`, 1))), \n",
    "       \", Early RA n=\", length(unique(sapply(strsplit(c(bCell_era_allS_cohort1_vector,tMem_era_allS_cohort1_vector,tNai_era_allS_cohort1_vector), split = \"_\", fixed = T), `[`, 1))), \n",
    "       \") and a confirmatory “cohort 2” (anti-CCP3(-) n=\", length(unique(sapply(strsplit(c(bCell_ccpM_allS_cohort2_vector,tMem_ccpM_allS_cohort2_vector,tNai_ccpM_allS_cohort2_vector), split = \"_\", fixed = T), `[`, 1))),\n",
    "       \", At-Risk n=\", length(unique(sapply(strsplit(c(bCell_ccpP_allS_cohort2_vector,tMem_ccpP_allS_cohort2_vector,tNai_ccpP_allS_cohort2_vector), split = \"_\", fixed = T), `[`, 1))),\n",
    "       \", Early RA n=\", length(unique(sapply(strsplit(c(bCell_era_allS_cohort2_vector,tMem_era_allS_cohort2_vector,tNai_era_allS_cohort2_vector), split = \"_\", fixed = T), `[`, 1))),\")\"))\n",
    "cat(\"\\n\")\n",
    "\n",
    "cat(paste0(\"For cohort 1, \", \n",
    "       length(dmlUnion_v1_bCell_F_cohort1_allChrom_vector), \", \", \n",
    "       length(dmlUnion_v1_tMem_F_cohort1_allChrom_vector), \", and \", \n",
    "       length(dmlUnion_v1_tNai_F_cohort1_allChrom_vector), \n",
    "       \" differentially modified loci (DML) were identified among anti-CCP3(-), At-Risk and Early RA groups in B cells, memory T cells and naïve T cells, respectively.\"))\n",
    "cat(\"\\n\")\n",
    "\n",
    "cat(paste0(\"For cohort 2, \", \n",
    "       length(dmlUnion_v1_bCell_F_cohort2_allChrom_vector), \", \", \n",
    "       length(dmlUnion_v1_tMem_F_cohort2_allChrom_vector), \", and \", \n",
    "       length(dmlUnion_v1_tNai_F_cohort2_allChrom_vector), \n",
    "       \" differentially modified loci (DML) were identified among anti-CCP3(-), At-Risk and Early RA groups in B cells, memory T cells and naïve T cells, respectively.\"))\n",
    "cat(\"\\n\")\n",
    "\n",
    "cat(paste0(\"The DML overlap between the two cohorts was highly significant (p-values = \", \n",
    "       dmlO_bCell_F_allChrom_obj, \", \",\n",
    "       dmlO_tMem_F_allChrom_obj, \", and \",\n",
    "       dmlO_tNai_F_allChrom_obj, \n",
    "       \" in B cell, memory T cell and Naïve T cells, respectively, by hypergeometric tests)\"))\n",
    "cat(\"\\n\")\n",
    "\n",
    "cat(paste0(\"The union of DMLs across cohorts 1 and 2 corresponded to \",\n",
    "       length(dmlUnion_v1_bCell_F_cohortUnion_allChrom_vector), \", \",\n",
    "       length(dmlUnion_v1_tMem_F_cohortUnion_allChrom_vector), \", and \",\n",
    "       length(dmlUnion_v1_tNai_F_cohortUnion_allChrom_vector), \n",
    "       \" DMLs in B cells, memory T cells and naïve T cells, respectively, across anti-CCP3(-) Controls, At-Risk and Early RA groups.\"))\n",
    "cat(\"\\n\")\n",
    "\n",
    "cat(paste0(\"Genes with DMLs located in the promoter or gene body were defined as DMGs and \",\n",
    "       length(dmgUnion_v1_bCell_F_allChrom_vector), \", \",\n",
    "       length(dmgUnion_v1_tMem_F_allChrom_vector), \", and \",\n",
    "       length(dmgUnion_v1_tNai_F_allChrom_vector), \n",
    "       \" DMGs were identified in B cells, memory T cells and naïve T cells, respectively.\"))\n",
    "cat(\"\\n\")\n",
    "\n",
    "cat(paste0(\"We then performed pairwise comparisons between the individual groups to help determine the primary source of the group differences. We identified \",\n",
    "       length(dmlUnion_v1_bCell_ccpPvccpM_F_allChrom_vector), \", \", \n",
    "       length(dmlUnion_v1_tMem_ccpPvccpM_F_allChrom_vector), \", and \",\n",
    "       length(dmlUnion_v1_tNai_ccpPvccpM_F_allChrom_vector), \" DMLs associated with \",\n",
    "       length(dmgUnion_v1_bCell_ccpPvccpM_F_allChrom_vector), \", \", \n",
    "       length(dmgUnion_v1_tMem_ccpPvccpM_F_allChrom_vector), \", and \", \n",
    "       length(dmgUnion_v1_tNai_ccpPvccpM_F_allChrom_vector), \" DMGs between anti-CCP3(-) and At-Risk participants in B cells, memory T cells and naïve T cells, respectively\"))\n",
    "cat(\"\\n\")\n",
    "\n",
    "cat(paste0(\"However, in comparisons between At-Risk and Early RA participants we identified \",\n",
    "       length(dmlUnion_v1_bCell_ccpPvera_F_allChrom_vector), \", \",\n",
    "       length(dmlUnion_v1_tMem_ccpPvera_F_allChrom_vector), \", and \", \n",
    "       length(dmlUnion_v1_tNai_ccpPvera_F_allChrom_vector), \" DMLs in B cells, memory T cells and naïve T cells, respectively, that mapped to \",\n",
    "       length(dmgUnion_v1_bCell_ccpPvera_F_allChrom_vector), \", \",\n",
    "       length(dmgUnion_v1_tMem_ccpPvera_F_allChrom_vector), \", and \", \n",
    "       length(dmgUnion_v1_tNai_ccpPvera_F_allChrom_vector), \" DMGs.\"))\n",
    "sink()\n"
   ]
  },
  {
   "cell_type": "code",
   "execution_count": 20,
   "id": "3c2acd65-a8cb-45be-b3b3-646b06330cbc",
   "metadata": {},
   "outputs": [
    {
     "data": {
      "image/png": "[encoded data removed]",
      "text/plain": [
       "plot without title"
      ]
     },
     "metadata": {
      "image/png": {
       "height": 480,
       "width": 1200
      }
     },
     "output_type": "display_data"
    }
   ],
   "source": [
    "### Identify the DMLs on each chromosome\n",
    "# create dataframe\n",
    "chrOrder = c(paste(\"chr\",1:22,sep=\"\"),\"chrX\",\"chrY\",\"chrM\")\n",
    "\n",
    "chr_chrFreq_vector = as.vector(factor(as.data.frame(table(anno_data[dmlUnion_v1_bCell_F_cohortUnion_allChrom_vector, ]$chr))$Var1, levels=chrOrder))\n",
    "bCell_chrFreq_vector = as.vector(as.data.frame(table(anno_data[dmlUnion_v1_bCell_F_cohortUnion_allChrom_vector, ]$chr))$Freq)\n",
    "tMem_chrFreq_vector = as.vector(as.data.frame(table(anno_data[dmlUnion_v1_bCell_F_cohortUnion_allChrom_vector, ]$chr))$Freq)\n",
    "tNai_chrFreq_vector = as.vector(as.data.frame(table(anno_data[dmlUnion_v1_tNai_F_cohortUnion_allChrom_vector, ]$chr))$Freq)\n",
    "\n",
    "if (length(bCell_chrFreq_vector) < length(chr_chrFreq_vector)) bCell_chrFreq_vector[seq(length(bCell_chrFreq_vector)+1,length(chr_chrFreq_vector))] = 0\n",
    "if (length(tMem_chrFreq_vector) < length(chr_chrFreq_vector)) tMem_chrFreq_vector[seq(length(tMem_chrFreq_vector)+1,length(chr_chrFreq_vector))] = 0\n",
    "if (length(tNai_chrFreq_vector) < length(chr_chrFreq_vector)) tNai_chrFreq_vector[seq(length(tNai_chrFreq_vector)+1,length(chr_chrFreq_vector))] = 0\n",
    "\n",
    "\n",
    "chromDMLfreq_df = data.frame(\"chr\" = chr_chrFreq_vector,\n",
    "                             \"B Cell\" = bCell_chrFreq_vector, \n",
    "                             \"Memory T Cell\" = tMem_chrFreq_vector, \n",
    "                             \"Naive T Cell\" = tNai_chrFreq_vector)\n",
    "\n",
    "chromDMLfreq_df = chromDMLfreq_df[order(chromDMLfreq_df$chr),]\n",
    "\n",
    "# create plot dataframe\n",
    "chromDMLfreq_plot_df = melt(chromDMLfreq_df, id = 'chr')\n",
    "colnames(chromDMLfreq_plot_df) = c(\"chr\", \"Cell.Type\", \"value\")\n",
    "\n",
    "# create plot\n",
    "options(repr.plot.width=20, repr.plot.height=8)\n",
    "ggplot(chromDMLfreq_plot_df, aes(factor(chr), value, fill = Cell.Type)) + \n",
    "  geom_bar(stat=\"identity\", position = \"dodge\") + \n",
    "  theme_bw() + theme(panel.border = element_blank(), panel.grid.major = element_blank(),\n",
    "                       panel.grid.minor = element_blank(), axis.line = element_line(colour = \"black\")) + \n",
    "  scale_fill_manual(values = c(\"red\", \"blue\", \"grey39\")) + \n",
    "labs(x = \"Chromosome\", y = \"Union of DMLs Identified between CCP3-, CCP3+, and Early RA\") + \n",
    "  theme(text = element_text(size = 16))"
   ]
  },
  {
   "cell_type": "code",
   "execution_count": 21,
   "id": "52b61dc9-f508-4f11-b511-5b326003f3f0",
   "metadata": {},
   "outputs": [
    {
     "data": {
      "text/html": [
       "cg09226051cg21665850cg14222729cg17035276cg01479768cg02310723cg26476930cg20057198cg08280036cg25251562cg04131969cg10123377cg15201545cg17035899cg07870920cg10309005cg00944873cg16906346cg17857094cg25279747cg19287610cg22785556cg20012315cg13967339cg01003893cg25009553cg01911981cg13139335cg09079173cg04399443cg15501526cg14683065cg24690094cg01680303cg06139006cg20293942cg14050976cg08777654cg02173208cg13768055cg07965995cg08103988cg21358336cg08750459cg20269954cg13590055cg17713488cg16474696cg25755428cg17132030cg02707854cg00157199cg14815891cg05699681cg04985582cg07747299cg08742575cg12016809cg05896524cg13704590cg13012494cg13546858cg14156792cg20409752cg07388700cg18379824cg02063695cg02769477cg14856563cg24920358cg12733396cg25001923cg22670572cg00775945cg16180556cg10417901cg21554180cg16661522cg09359103cg24450063cg12308308cg18865685cg07440867cg01571766cg26735507cg08747931cg08354527cg19432688cg10075506cg20846728cg19719892cg00523161cg22920501cg11765362cg09399716cg05223100cg19384241cg24247939cg26748578cg24550641cg22111694cg21118780cg20060108cg00435273cg10653474cg06753901cg21594961cg02691506cg08141281cg05170449cg22334681cg03457142cg05084668cg21459336cg01292810cg11900923cg23159337cg27058239cg15105011cg23939001cg08222618cg10181818cg03944460cg19978674cg05095125cg23228227cg03209412cg22440848cg14137381cg22025206cg11629812cg14843632cg18163325cg06795995cg10617796cg20963261cg07837187cg00528676cg25403368cg03466083cg24120669cg12262617cg04314575cg05804568cg15202874cg21548813cg18110333cg05064044cg11235426cg01516881cg26668828cg16859890cg01516851cg13401893cg12633154cg09401705cg20022036cg11404906cg10632894cg25019722cg24652615cg14600855cg05283184cg27352433cg20398163cg22852245cg26673377cg25075347cg00828154cg27001715cg09959687cg15166039cg26873880cg07343445cg22702351cg02524205cg05155812cg26052728cg03916490cg18560936cg00057627cg18467790cg11750768cg11724970cg05076221cg09549073cg04863892cg09207400cg19759481cg02916332cg17569124cg02005600cg25307665cg14014955cg02646423cg23204968cg25506432cg25390165cg01323381cg26023912cg14882265cg17432857cg00969405cg03368099cg03744763cg27151303cg05579037cg20478239cg16524778cg01499518cg23262340cg10426581cg25079981cg26723707cg15123087cg23958373cg07234876cg25601471cg02490460cg02368706cg01466164cg25286849cg02672830cg25960393cg11070274cg14921801cg09087222cg04579291cg04349084cg06106484cg25569470cg11110588cg19630984cg10187029cg20935489cg17571970cg12853648cg25813936cg25830530cg04615095cg20136671cg24863559cg13789015cg03857101cg14240646cg23591140cg02286717cg02790260cg07356745cg24898815cg01647384cg16653991cg13644160cg17416644cg27115973cg07093428cg11821245cg20308956cg21280420cg16734913cg13298116cg20943999cg14262357cg12179176cg05962950cg21224286cg12859507cg27628201cg24354819cg14279760cg09798888cg05788368cg01269617cg05373877cg12709329cg23104954cg01969535cg09122588cg18865445cg17797229cg11747695cg14154082cg05830791cg05733164cg23515828cg27120246cg27636669cg13246055cg00019654cg04453367cg09971646cg19628497cg12935359cg06289566cg23804921cg07179000cg02155558cg12036633cg17916960cg15661950cg16959075cg10838389cg26963367cg09329650cg15707029cg04547000cg26646558cg02649063cg03744383cg05672554cg00818680cg23377942cg02817932cg26657404cg10332116cg07524214cg11409361cg03641585cg20008800cg09377512cg05276469cg03049249cg01461856cg22798362cg27659862cg15831967cg08035416cg03065899cg25944011cg26725559cg20758756cg21329660cg24095188cg05537380cg27496719cg14366095cg08316083cg15174682cg18889393cg04657146cg23899408cg09314196cg20381372cg08852641cg07461715cg06322356cg06688960cg25325723cg19836589cg15350071cg08045932cg03213289cg08564027cg06103338cg20691168cg12080266cg26772386cg27008027cg17187762cg00271766cg07278285cg22333165cg25925710cg27224586cg17782550cg19924480cg11244843cg06902849cg10156298cg05337761cg07981328cg25140783cg12694142cg25303761cg16831933cg09694258cg19899222cg03002080cg13498757cg06221963cg16680214cg15602298cg11975397cg07334154cg02563106cg22790377cg06935979cg08800613cg21862353cg26094651cg15631638cg12222906cg17866650cg11883129cg08963213cg03938978cg13395344cg07929412cg20385461cg11862180cg01153287cg24229304cg11045331cg02578087cg01868071cg18697348cg04319732cg10733711cg00976619cg09969640cg01988602cg01218619cg19494702cg16647921cg05216340cg15204487cg25510640cg02025944cg16737770cg11265221cg11969330cg17553881cg18443437cg17335387cg18228590cg05139080cg14759944cg19693801cg07821374cg09641854cg14248704cg12393605cg03712278cg24254552cg15218485cg27003832cg26968378cg23237314cg16078649cg27536700cg08309069cg19301366cg11887532cg19931055cg15743508cg06984463cg07659053cg25140869cg13808314cg19470945cg00387037cg20234172cg24405174cg17960959cg12735966cg12686095cg27134251cg09050832cg21394273cg03827304cg12568669cg00910586cg00243360cg07812827cg21550804cg09365932cg13892472cg24124620cg16766542cg14443606cg15931565cg27420255cg06894600cg13481969cg25033495cg08631528cg08734931cg03179435cg08751451cg05450151cg09355528cg00059664cg16352527cg02786339cg15480998cg04850286cg22182854cg17741809cg10938586cg00817464cg08899523cg10564845cg17686260cg04605819cg10411146cg16309325cg19347782cg03083228cg22877175cg06325300cg05516372cg09588476cg04030260cg25108548cg09366951cg11799593cg16481612cg01511234cg03657350cg17143945cg17765387cg20736492cg26922917cg23118561cg20690458cg14056187cg00681462cg13225565cg22272305cg25037788cg09296044cg27664085cg08568145cg14530637cg04811706cg02171206cg05457730cg20107632cg21150003cg05528899cg12936709cg13236934cg26370237cg07909178cg06241101cg18637718cg23540632cg14940871cg02505002cg08610426cg10783469cg19514972cg13795252cg01966791cg02254947cg20721960cg09335044cg24329798cg17997358cg18113786cg00440468cg19637330cg26220594cg20803293cg24467349cg03526459cg07796782cg02487331cg19699106cg02120552cg22444562cg27207756cg10547329cg06002203cg01996567cg09549987cg20673407cg21987159cg22355889cg01927686cg18756775cg18705301cg01723420cg25538415cg09445240cg06789517cg08477332cg17218026cg20043747cg21819782cg05995465cg06494592cg04553112cg15145296cg02447542cg20456258cg02500748cg03343571cg13185413cg07382347cg10930308cg17250082cg08762424cg19432846cg04419557cg07185983cg18136963cg17404449cg23024343cg10841563cg16098618cg18202440cg17975832cg20870689cg00035636cg18105134cg18561199cg26913058cg12437481cg02219949cg06417478cg11738485cg08835041cg25588792cg10044179cg07773740cg13276615cg14621698cg03847896cg23970458cg09183124cg12024053cg02077920cg18082583cg09220401cg20015412cg14926425cg06060754cg16006841cg17509989cg20053110cg18434912cg17172308cg19665696cg11539674cg12183347cg23451443cg11297378cg14024893cg08772003cg01741372cg23284931cg17970043cg02275226cg07469467cg15797131cg04954225cg00101154cg08923669cg17422692cg08296601cg02301920cg21040096cg04850148cg23034985cg20246743cg10148932cg01243097cg11141652cg15242686cg24238852cg11247378"
      ]
     },
     "metadata": {},
     "output_type": "display_data"
    }
   ],
   "source": [
    "# B Cell DML list\n",
    "IRdisplay::display_html(dmlUnion_v1_bCell_F_cohortUnion_allChrom_vector)"
   ]
  },
  {
   "cell_type": "code",
   "execution_count": 22,
   "id": "88816291-df8a-4099-94b9-6d6d63c5ca60",
   "metadata": {},
   "outputs": [
    {
     "data": {
      "text/html": [
       "cg04798314cg14222729cg17035276cg01479768cg02310723cg26476930cg20057198cg08280036cg19052272cg04131969cg10123377cg17035899cg07870920cg10309005cg12242038cg12897067cg00944873cg16906346cg25279747cg22785556cg18402987cg24933060cg14168080cg20305683cg05141217cg03857101cg15501526cg14403146cg27157590cg19169023cg02173208cg05528899cg07965995cg08103988cg21358336cg08750459cg02622647cg17911788cg17713488cg06489993cg12016809cg05896524cg13012494cg13732083cg13546858cg17519938cg01934408cg19757108cg21877403cg20409752cg02063695cg02769477cg14856563cg03526459cg02487331cg00044796cg23350716cg12308308cg08354527cg10075506cg20846728cg00523161cg19384241cg04426698cg25403608cg22111694cg00435273cg12108912cg26192567cg02691506cg22334681cg05084668cg23159337cg27427514cg25937052cg03209412cg09017434cg16361921cg10769442cg07522661cg08835099cg12262617cg07332563cg17876578cg21548813cg03395511cg18110333cg05064044cg11235426cg01516881cg26668828cg01171360cg07515565cg04076181cg06876321cg16859890cg11404906cg10632894cg15820961cg19301366cg13047157cg12296550cg10940969cg07935157cg22852245cg25075347cg26116556cg26937706cg07343445cg12285184cg03278670cg17172308cg14601530cg22997113cg07317062cg19142026cg03724423cg14359292cg08000746cg23958373cg07234876cg25601471cg27134251cg02490460cg01518225cg25960393cg11070274cg09232555cg04349084cg06106484cg25009553cg15427886cg18715220cg19630984cg24863559cg10022505cg24898815cg13644160cg01548680cg03306615cg19284039cg26051413cg19767548cg14332815cg04815450cg20308956cg15971518cg12621411cg03649143cg05962950cg24480012cg05788368cg18319102cg27630820cg19424457cg11931211cg17310247cg00912164cg19692240cg20796996cg03997626cg20293942cg07839933cg26168643cg06139856cg10261416cg09971646cg19628497cg23804921cg07179000cg25498107cg17916960cg26213453cg20101018cg06211550cg04547000cg00683118cg09377512cg03049249cg18507343cg18980028cg15831967cg15111296cg08316083cg26988138cg10604476cg06417478cg04657146cg11738485cg23899408cg15695738cg06322356cg06688960cg25325723cg02427933cg19836589cg01366882cg03453179cg11392297cg03351508cg12080266cg07208518cg09417038cg27244972cg27008027cg08209240cg24399712cg11247378cg09158878cg15410402cg24997886cg24445388cg04347414cg00300046cg25303761cg16831933cg07796782cg07010261cg09226051cg08800613cg26094651cg04902443cg25608392cg16435561cg07929412cg11030744cg01868071cg16141412cg08222618cg15204487cg01883570cg16737770cg04635280cg11969330cg09526685cg26371422cg05804568cg04752066cg25437304cg15675601cg06284734cg07659053cg03856504cg18467790cg26723707cg15123087cg08082879cg09050832cg03827304cg00856667cg03849132cg12443985cg12853648cg12495812cg24891660cg13562929cg06878111cg26626342cg00817464cg15417294cg17686260cg04605819cg13752895cg04238311cg08822897cg05876678cg17440869cg24482177cg09919882cg20141578cg16387046cg12292165cg19520300cg15108060cg23118561cg19359983cg26758160cg12036633cg17422692cg08296601cg19533489cg20107632cg07402062cg14431490cg03641585cg22891070cg19514972cg08191562cg11142730cg01966791cg07135405cg12742338cg17997358cg22343728cg00440468cg19637330cg26220594cg25210835cg24467349cg09445240cg19699106cg02120552cg14161159cg17865545cg09220401cg06193597cg01190459cg27207756cg10547329cg06002203cg20053110cg24796644cg26850117cg20012315cg21634283cg09549987cg20673407cg22355889cg18705301cg21205889cg02409829cg05332652cg11463444cg08477332cg23488418cg20043747cg26993334cg22444562cg03619790cg05995465cg02578087cg06494592cg04553112cg15145296cg02447542cg13388769cg06715204cg07925274cg22718636cg20456258cg20618651cg12892701cg27622527cg14867115cg03466083cg00182040cg13077031cg05163007cg00947782cg03343571cg13185413cg06249604cg09279736cg07382347cg13401893cg12633154cg16078649cg10930308cg12422154cg17615629cg03081173cg17250082cg08762424cg19432846cg04419557cg05213296cg22014112cg07185983cg06864789cg25399239cg18136963cg25643154cg05357209cg17404449cg23024343cg06369657cg09525094cg14394550cg08810842cg10357242cg04364695cg10841563cg06456847cg23304023cg14683065cg03022891cg03447554cg04074835cg15243034cg18202440cg01123725cg22190077cg23133460cg17173975cg12890080cg08967561cg20870689cg04244433cg11655627cg18105134cg24113818cg04108742cg05011265cg08855908cg08198540cg21199629cg04284196cg01565905cg18561199cg16761754cg25385940cg26913058cg12437481cg05542681cg07453440cg00147225cg12938260cg17499156cg13609307cg08835041cg25588792cg10044179cg06238967cg13276615cg04413036cg20738874cg07199764cg07759992cg17078393cg12278018cg14087524cg10677798cg23449993cg02086690cg22945413cg19227223cg17797028cg03227991cg00013349cg03204322cg23381998cg06057374cg14621698cg03847896cg09312904cg26823472cg17217296cg12886054cg09032544cg07786657cg23970458cg27156983cg23413777cg08190027cg11327513cg19707677cg13654305cg18113803cg21835089cg06300318cg02907236cg11106946cg10771443cg02652003cg22061957cg05614451cg18082583cg00301576cg11549713cg15742777cg17357341cg25806677cg07650516cg11236515cg00228496cg08730282cg07536737cg14223723cg26898436cg27315109cg16118684cg26977176cg01204452cg08019201cg04989243cg21039462cg11258327cg02308312cg00751179cg11096149cg19903071cg24094122cg12682817cg19149314cg07065759cg10519313cg26772516cg23433242cg04026398cg13156014cg02776283cg03877179cg04168675cg05309281cg13843325cg19405162cg17939889cg14020052cg17098979cg14927745cg06022561cg17322655cg18896979cg24159247cg11600734cg22297466cg22977420cg26794999cg17013363cg14708050cg13534221cg26266876cg15564095cg09473049cg14481081cg16618226cg12007634cg21553436cg00744866cg13246941cg10656896cg12753923cg21664636cg04892766cg25049850cg26190515cg12775201cg15736847cg12702372cg08140712cg15666143cg17079405cg24921352cg18858905cg12923936cg00757822cg06490558cg06124667cg04015186cg15439110cg24056885cg15282665cg01452308cg11923734cg21593149cg01829241cg20200723cg24472128cg07510596cg06140237cg17249049cg07992870cg04536922cg13681468cg22894706cg10109286cg25872690cg17850932cg11149971cg14830274cg16426182cg04468621cg19503640cg13005202cg15108958cg07933754cg15259746cg22143698cg22733485cg18306301cg26027478cg01595702cg10016695cg01359757cg03729676cg16830225cg00226580cg13549474cg16371214cg11574850cg11457536cg14520148cg14153437cg04985036cg09588733cg25403368cg23208285cg03866136cg03942839cg01553231cg14825736cg26314528cg16006841cg17509989cg23950714cg13999223cg23947928cg07151596cg26766164cg24427915cg07970799cg06468911cg02381687cg21693684cg20487608cg23080845cg27275544cg26193268cg13212186cg14597739cg16219283cg21999229cg11586857cg13815684cg17741993cg13279700cg24593918cg23464743cg24111025cg06473288cg09572125cg07306190cg26579986cg08766762cg00438290cg26720545cg23671410cg00384221cg08355045cg12445613cg01245856cg06331306cg01879420cg18434912cg25571136cg02924860cg22162357cg12700074cg05712302cg08140114cg18051234cg02456922cg10296205cg26872907cg03120555cg19665696cg06242730cg11967765cg19214707cg09203501cg10206969cg11796827cg15381475cg16018424cg12282297cg12590535cg22175046cg07684862cg24358146cg00944599cg05659087cg07828043cg02249039cg11539674cg04645316cg05932168cg16767506cg14453876cg15871419cg03800150cg02484634cg12143756cg26966828cg09697033cg19208371cg07750309cg21484170cg03746834cg11893955cg00110666cg10911062cg00325212cg08359236cg05516059cg07267974cg13340231cg12312303cg05176782cg09295011cg20995910cg19135959cg09341389cg07775271cg12114888cg07686693cg09365932cg16165949cg20035466cg15442737cg23731089cg04597393cg27205259cg00650273cg12780312cg15248512cg13832290cg07194321cg07391551cg21302319cg09911807cg04711454cg13714407cg14108380cg14410964cg13491139cg03062944cg09234252cg16160311cg10763374cg20738334cg09294573cg19814032cg06333725cg14789659cg13726109cg19480422cg23837109cg12968426cg17766305cg06864186cg08177293cg16038593cg08772003cg11104177cg09507567cg22886575cg23249922cg00789862cg17444479cg23570810cg06064525cg19670883cg17815944cg05320551cg08180716cg04272952cg01151584cg25256924cg12070987cg12959048cg08863777cg24929309cg06164961cg24841244cg14081270cg18031557cg23412299cg18694033cg16809873cg12790145cg07122460cg10150764cg10838410cg00610577cg23316316cg07466955cg14673233cg13956518cg20210051cg16847214cg15244101cg15127250cg24948068cg08338281cg25014776cg09711238cg18739031cg08802841cg15296664cg05217986cg02418806cg17379221cg00291442cg11533139cg15448707cg27664496cg14480046cg07954091cg27179101cg15085899cg15278374cg24732049cg01830053cg08683199cg22820257cg01207974cg17184496cg22833508cg15797131cg15011899cg18571045cg07532405cg06968294cg15767096cg20976833cg00940972cg05439392cg12435538cg12421565cg15957688cg02755566cg04705080cg06445317cg17776964cg16130238cg10187233cg20745513cg16688050cg10706341cg07917758cg25525861cg11033495cg27158579cg18814142cg00613691cg20507742cg13975750cg15033669cg02903983cg02401415cg04787120cg15636750cg16302916cg07448627cg19758746cg03902874cg14057832cg20788508cg21646437cg24018633cg16668326cg11855383cg09953583cg00005599cg02867735cg13252730cg17311865cg21272727cg21681740cg03355316cg18752801cg03842934cg24065807cg15781073cg00640033cg21582960cg00636673cg13542764cg26345203cg20495370cg04352495cg03072600cg24256211cg12687449cg10829004cg22003508cg26565442cg05080322cg12696263cg06617636cg25220326cg11034672cg05402432cg02082843cg20334128cg19956136cg02635237cg07529783cg16452866cg22972641cg13619891cg05304366cg25700533cg27277339cg26703001cg25824571cg18077587cg25727977cg16273683cg14377546cg09116975cg16285956cg06371135cg04000684cg27372452cg00101154cg08923669cg08659421cg11204397cg03014241cg22235264cg01366941cg16704586cg27073113cg10866482cg09821790cg13857601cg09720642cg27027055cg07165260cg26922780cg00153919cg00759807cg07668739cg21040096cg23403980cg01629558cg23403031cg19268301cg13329172cg02077256cg08826152cg08017268cg24550644cg04354393cg02380585cg24895173cg04850148cg00760203cg04094885cg13192318cg09991763cg19163395cg26532208cg08591265cg07110356cg14032089cg04276626cg02515217cg15759721cg05273495cg01593570cg27495195cg16458864cg02678768cg20126656cg10035831cg04658243cg00826304cg15184164cg05549304cg19389293cg13226160cg05747633cg11727721cg00042467cg15419813cg14078587cg19649900cg10819238cg20721433cg20246743cg17671383cg10148932cg06158978cg07377422cg25734089cg14771733cg10373803cg15808453cg16266809cg09996970cg18245281cg17928895cg22825230cg09540612cg09908368cg22916901cg07880098cg11035584cg06240961cg21427227cg24130641cg06315524cg04257752cg11121969cg11141652cg15242686cg24238852cg01381001cg01141459cg13678903cg14150023cg16093065cg12232731cg11415350cg15332094"
      ]
     },
     "metadata": {},
     "output_type": "display_data"
    }
   ],
   "source": [
    "# Memory T Cell DML list\n",
    "IRdisplay::display_html(dmlUnion_v1_tMem_F_cohortUnion_allChrom_vector)"
   ]
  },
  {
   "cell_type": "code",
   "execution_count": 23,
   "id": "f0a8d9c9-b69d-4ad8-8178-25742fddcec2",
   "metadata": {},
   "outputs": [
    {
     "data": {
      "text/html": [
       "cg26647036cg17486396cg04798314cg14222729cg17035276cg01479768cg02310723cg26476930cg20057198cg08280036cg25251562cg13263947cg10123377cg12534199cg15201545cg17035899cg01601518cg07870920cg10309005cg22785556cg18402987cg04633141cg02050512cg14168080cg22462396cg13967339cg01003893cg20305683cg03857101cg24690094cg19169023cg02173208cg05528899cg07965995cg08103988cg21358336cg08750459cg10909506cg02622647cg20269954cg23540632cg21237861cg17713488cg25755428cg08562657cg06489993cg07747299cg08742575cg12016809cg05896524cg05672835cg13704590cg13012494cg13732083cg10296238cg27244972cg13546858cg17519938cg01934408cg19757108cg20409752cg02063695cg02769477cg14856563cg21686600cg25303761cg24920358cg05690441cg24329783cg12308308cg08354527cg10075506cg06201514cg20846728cg00523161cg10687131cg06188210cg14414670cg11883129cg19384241cg26748578cg25403608cg22111694cg10340124cg00435273cg12108912cg22061832cg26192567cg04705669cg11518408cg02578087cg02691506cg22334681cg21529591cg05084668cg16312628cg01353941cg23159337cg27427514cg13553482cg14867115cg25474956cg03209412cg22905866cg11646117cg16361921cg17017347cg12346494cg07205286cg10769442cg12262617cg05804568cg23128634cg17876578cg21548813cg03395511cg18110333cg05064044cg11235426cg01516881cg26668828cg01171360cg06682083cg16859890cg26533311cg20110349cg25653641cg08065408cg13185413cg13401893cg03184884cg11404906cg10632894cg19301366cg14600855cg07935157cg22852245cg14079463cg25075347cg06693627cg09531659cg07343445cg22702351cg12285184cg20992785cg17172308cg05155812cg06589239cg17545141cg18467790cg19142026cg14359292cg19759481cg17569124cg25307665cg25506432cg17432857cg20478239cg00387037cg23262340cg13302927cg07234876cg25601471cg27134251cg09050832cg02490460cg01518225cg26333902cg06758847cg04349084cg06106484cg25009553cg15427886cg18715220cg19630984cg04656070cg12443985cg00021855cg13985784cg08291335cg13392078cg24863559cg24432675cg14403146cg27157590cg26630599cg24898815cg13644160cg11596302cg04605819cg17416644cg03306615cg19284039cg26051413cg04815450cg20308956cg20736913cg17385867cg18822299cg05962950cg19558933cg25108548cg23145293cg18604939cg24713959cg15448707cg05788368cg18319102cg13861644cg27630820cg19424457cg17310247cg00912164cg20293942cg07839933cg26168643cg15797131cg15233651cg12421794cg06139856cg09971646cg19628497cg13818451cg06101851cg05499111cg23804921cg07179000cg13831575cg06502383cg23628949cg17916960cg09224847cg26213453cg22470248cg07524214cg09381666cg09377512cg18980028cg15111296cg24948887cg14366095cg08316083cg26988138cg10604476cg03650189cg15011409cg06417478cg04657146cg11738485cg23899408cg15695738cg18805164cg18740583cg09554406cg07461715cg06322356cg25325723cg25621215cg02427933cg16667508cg03442914cg01900832cg25741804cg19836589cg03453179cg03213289cg03351508cg12080266cg07567097cg09417038cg27008027cg24399712cg11247378cg26863172cg04347414cg08200543cg06749803cg21877403cg24885723cg16675581cg25037394cg24863693cg03526459cg02487331cg18622663cg11294512cg07010261cg18792146cg13272845cg08483099cg04618171cg04902443cg25608392cg03938978cg08805158cg07929412cg24228952cg11045331cg03098024cg13993467cg25481160cg08222618cg15204487cg00741432cg16737770cg18443437cg23983453cg12192624cg15218485cg19523166cg01233934cg20398163cg21757387cg13133526cg16149820cg13808314cg19798735cg14096828cg09837977cg15123087cg23958373cg12568669cg15982002cg07242977cg00856667cg02160773cg13566125cg25230327cg03849132cg19435547cg12853648cg14549951cg02408697cg04536588cg13562929cg00817464cg15417294cg17686260cg07040013cg07314988cg10411146cg23052520cg02984617cg04238311cg03591565cg08822897cg02323726cg05876678cg17440869cg09721595cg00838269cg24482177cg14262357cg17575191cg12621411cg02571465cg08103496cg20141578cg02734505cg12292165cg25814283cg19520300cg03997626cg12709329cg11786848cg19359983cg13108304cg09641001cg23596287cg16826124cg09296044cg09670601cg12036633cg19797078cg15009596cg12125241cg08923669cg17422692cg16716449cg06504595cg19533489cg20107632cg14431490cg07107105cg20008800cg13236934cg03597174cg26370237cg25673720cg25317025cg22992730cg15436354cg23471274cg22891070cg08610426cg19825302cg20073962cg11142730cg24617313cg14697761cg11392297cg16148850cg17997358cg22343728cg00440468cg19637330cg26220594cg24467349cg09445240cg07796782cg19699106cg02120552cg14161159cg01190459cg27207756cg10547329cg06002203cg20012315cg09549987cg20673407cg22355889cg01927686cg18756775cg14575022cg18705301cg02409829cg05332652cg24238852cg08477332cg20043747cg21819782cg05995465cg04553112cg15145296cg02447542cg22718636cg20456258cg27622527cg16079430cg03466083cg06588529cg03343571cg06249604cg15877520cg09279736cg07382347cg12633154cg16078649cg10930308cg17250082cg08762424cg19432846cg04419557cg07185983cg05357209cg17404449cg23024343cg04364695cg10841563cg14613101cg03447554cg17975832cg26010015cg20870689cg11655627cg18105134cg18561199cg16761754cg26913058cg05542681cg21205889cg17499156cg10373607cg13276615cg07199764cg23970458cg05614451cg15424377cg12702372cg25403368cg16006841cg17509989cg03081173cg13212186cg23464743cg07180897cg20053110cg24796644cg01879420cg18434912cg19665696cg19214707cg11539674cg16098618cg12790145cg00101154cg08296601cg02301920cg21040096cg04850148cg20246743cg19051117cg10148932cg11141652cg15242686"
      ]
     },
     "metadata": {},
     "output_type": "display_data"
    }
   ],
   "source": [
    "# Naive T Cell DML list\n",
    "IRdisplay::display_html(dmlUnion_v1_tNai_F_cohortUnion_allChrom_vector)"
   ]
  },
  {
   "cell_type": "code",
   "execution_count": 24,
   "id": "67995ac6-ad82-4ed2-bca9-43b4fa9680f6",
   "metadata": {},
   "outputs": [
    {
     "data": {
      "text/html": [
       "ABRAC004076.9ADALADAM29ADARAL590822.2ALG1LALLCALS2CR12AMD1ANKHANKS1BAP000889.3ARHGEF10ARHGEF5AS3MTASTN1ATP8B3B3GNTL1C10orf32-ASMTC12orf75C12orf79C14orf2C14orf39C1orf35C1orf86C2orf76C3orf83C7orf50C7orf73CACNA1DCACNA2D4CAMTA1CASP9CASQ2CCL4L1CCNDBP1CCNL1CCSER2CD96CECR1CELF2CEP44CES1CHGACHIACKBCLIC5CLTACOL13A1COL22A1COL4A2COL5A3COL9A2CPXM2CTSBCUL4BDCAKDDENND6BDLEU1DLK1DNAJC16DPCR1DTNADUS4LDUSP22EBF1EGLN3EIF2B5ELK3ELMOD1EML3ENTPD2EPB42EXOC3FAM189A2FBXW8FCRL3FDFT1FIP1L1FRG1BFTOGFRALGNEGPR133GPR27GSTM1GSTM5GSTT1HCG27HDAC4HELZHLA-DQB1HLA-DRB1HOOK2HOPXHOXA3HOXA5HS6ST3IL18R1IL1RL1IRAK1BP1IZUMO1JARID2JPH3KANK1KCNA6KCNMA1KCNN3KDM4BKIAA0319KIAA1467KIAA1841LCMT2LDHCLIN7ALIPALMF1MAP10MAP4K4MCM9MKRN2MRI1MRPL28MUC21MYBPC1MYL5MYO1DMYT1LN4BP1NAALADL2NHSL1NMNAT1NRG3NXNNYAP2OR4A15OR5W2PACRGPAK1PALLDPARD6GPCDHB6PDE9API4K2BPLAC9PPIEPRF1PRKG1PROZRAE1RAP1ARCAN3RERGLRGS14RGS6RNF39RP11-219A15.1RP11-676J12.7RPF2SELKSERINC5SERPINA4SERPINA5SETD9SH3PXD2BSHC2SLC1A4SLC25A37SLC25A44SLC27A1SLCO4A1SND1SNX19SPAG11BSPATC1LSRRM3SRRTSSUH2ST6GALNAC3STON1-GTF2A1LSUN1SYTL2TANGO6TCP10L2TDRD9TENM2THSD7ATMEM175TMEM26TMEM88BTRDNTTC27UPK3BXPNPEP1ZNF12ZNF492ZNF772"
      ]
     },
     "metadata": {},
     "output_type": "display_data"
    }
   ],
   "source": [
    "# B Cell DMG list\n",
    "IRdisplay::display_html(sort(dmgUnion_v1_bCell_F_allChrom_vector))"
   ]
  },
  {
   "cell_type": "code",
   "execution_count": 25,
   "id": "ad0adeb8-9551-42f8-9e48-4fb49312da73",
   "metadata": {},
   "outputs": [
    {
     "data": {
      "text/html": [
       "ABCB6ABHD16BABHD17BAC005606.1AC131097.4ACCSACVR1AGO2ALG1LALLCAMD1AMZ1ANKRD33BANKS1BANTXR1AP000889.3AP3M2ARHGEF4ARHGEF5ARSGAS3MTASZ1ATE1ATG9AATP6V1AATP8B3ATXN1BAZ2BBMI1BNIP3LC10orf12C10orf32-ASMTC10orf54C10orf55C15orf62C1orf101C20ORF135C2orf27AC2orf76C3orf17C6orf58C7orf50C9orf85CACNA1ACACNA1DCACNG2CAMTA1CASP10CASP12CCL4L1CD180CD247CD3DCD3ECD3GCDH4CHIACIRH1ACLASP2CLN6CNSTCOL13A1COL5A3COMMD3COMMD3-BMI1CORO1BCPXM2CR1CYSTM1CYTIPDHRS7DIS3L2DLEU1DLK1DOCK10DOK3DOPEY2DPP4DTX1DUS4LDUSP22ECHDC1EGR3EHD1EIF2AK4ELMOD1EML6EMR3ETS1EVPLEXOC1F5FAM13AFAM19A2FANCAFBLN5FBXL16FGF1FTOFYBGALNT6GHITMGHRLGNG7GP1BAGPR133GPRIN3GSTA4GSTM5GSTT1GTF3AHCG27HDAC4HDAC5HECAHELZHIF3AHIVEP3HLA-DQB1HLA-DQB2HLA-DRB1HLA-EHMBOX1HMX2HOOK2HOPXHORMAD2HOXA3HOXA4HPS3IFITM1IFITM2IFNGIL2IL21IL23RINPP5BITCHITPR1JAK1JAM2JPH3JSRP1KCNQ1KDM4CKIAA0319KIAA0513KIAA1429KLF12KRBOX4KRTAP12-3KRTAP21-3KYNUL3MBTL3LCKLDHCLDLRAD4LIMCH1LIPFLITAFLMNB1LMTK2LRRC28LTALY86MAPRE2MARC1MARCH10MARCH11MARCH6MCCMCM9MEOX1METTL21CMFGE8MGAT4AMPOMPP7MRP63MRPL28MS4A6EMSRAMTAPMTRRMUCL1MYBPC1MYL5MYO1DMYO5CMYT1LNFRKBNHSL1NKIRAS1NOL9NOTCH1NSRP1NXNOXR1PALLDPDZRN4PECRPHACTR1PHF20L1PIWIL1PLCH1PMP22PNMAL1PNOCPPIP5K1PPP5D1PROZPTPRCAPPTPRERAB11ARAC1RAE1RALGAPA2RAP1ARASA4BRB1RFX8RIMS2RMI2RNF166RNF39RP11-159D12.5RP11-219A15.1RP11-676J12.7RP11-701P16.2RPF2RPL15RSPH6ARTN4SAMD11SAMD13SERPINA4SERPINA5SFMBT2SH3BP5SH3PXD2BSIAH3SIT1SKA3SKAP1SKIDA1SLC11A1SLC4A8SLC7A6SLFN13SMG6SMYD3SND1SNTB2SNX19SOCS1SPAG1SPAG11BSPARCL1SPATC1LSPIRE2SPRED2SRSF1SSUH2STEAP1BSTK11IPSTK39SYNE1SYNE2SYNGAP1SYTL3TACC2TAP1TBL3TCF4TCIRG1TMEM175TMEM177TNNT3TNRC6BTRAPPC9TRAT1TRIM15TRPC4APTRRAPTSPEARTTC23TTC27TUBA1CTUBGCP3TYRO3UBE2E3UCKL1UHRF1BP1UPK3BUSP39VMP1WIBGWWOXXKR6XPNPEP1XRCC1XYLT1YBEYZFP36L1ZMAT4ZNF12ZNF704ZNF788ZNF831ZPBP2"
      ]
     },
     "metadata": {},
     "output_type": "display_data"
    }
   ],
   "source": [
    "# Memory T Cell DMG list\n",
    "IRdisplay::display_html(sort(dmgUnion_v1_tMem_F_allChrom_vector))"
   ]
  },
  {
   "cell_type": "code",
   "execution_count": 26,
   "id": "d32831bb-1d81-46e0-b6e2-833ea4cc2a59",
   "metadata": {},
   "outputs": [
    {
     "data": {
      "text/html": [
       "AC004076.9ADAMTS4ADAP1ADARB2AGBL1AKR7A2AL590822.2ALG1LALLCAMD1AP000889.3ARHGAP33ARHGEF5ATHL1ATP8B3ATP9ABREC14orf2C1orf105C2orf27AC2orf76C5orf66C7orf50CA6CACNA1ACACNA2D4CAMTA1CCL25CCL4L1CCNDBP1CD83CDH13CDH23CEACAM3CES1CHIACLIC5COL5A3COX19CPXM2CYR61CYSTM1DDAH1DDX10DLEU1DLK1DUS4LDUSP22EDARELK3ELMOD1EPB42ERHFBN1FBXL16FDFT1FGF7FOXP1FTOGDF7GNG7GSTM5GSTT1GTF3AHCG27HDAC4HECW2HIF3AHLA-DQB1HLA-DQB2HLA-DRB1HOOK2HOXA3HOXA4HOXA5HVCN1ICAM5IMMP2LITGA6IZUMO1JPH3KIAA1467KLF12LRRN3MAD1L1MATN4MCM9METTL21CMFGE8MRI1MRPL28MYBPC1MYL5MYT1LNDUFC2-KCTD14NHSL1NOL9NR2F1NXNORMDL3PACRGPALLDPARM1PIPOXPITX1PIWIL1PPIEPPP5D1PQLC2PROZPYCRLRAE1RANBP17RBFOX1RECKRNF39RP11-676J12.7RPF2RPN1SERPINA4SERPINA5SFMBT2SH3PXD2BSIAH3SLC1A4SLC39A9SLC7A2SLCO1C1SMYD3SND1SNX19SOGA3SPAG11BSPATC1LSPIRE2SRRTSSUH2STPG1SUN1TDRD9THRSPTHSD7ATMEM175TMEM177TMEM184ATMEM247TMEM88BTNFRSF6BTRAPPC9TRPS1TSHZ2TUSC1TYRO3UBE2E3UPK3BUSTXPNPEP1XYLT1YBEYZFYVE28ZMAT4ZNF12ZNF385AZNF772"
      ]
     },
     "metadata": {},
     "output_type": "display_data"
    }
   ],
   "source": [
    "# Naive T Cell DMG list\n",
    "IRdisplay::display_html(sort(dmgUnion_v1_tNai_F_allChrom_vector))"
   ]
  },
  {
   "cell_type": "code",
   "execution_count": 27,
   "id": "5c6a0fdd-fe30-42fd-a7b4-a46b1b268a3a",
   "metadata": {},
   "outputs": [
    {
     "data": {
      "text/html": [
       "<style>\n",
       ".list-inline {list-style: none; margin:0; padding: 0}\n",
       ".list-inline>li {display: inline-block}\n",
       ".list-inline>li:not(:last-child)::after {content: \"\\00b7\"; padding: 0 .5ex}\n",
       "</style>\n",
       "<ol class=list-inline><li>1007</li><li>381</li></ol>\n"
      ],
      "text/latex": [
       "\\begin{enumerate*}\n",
       "\\item 1007\n",
       "\\item 381\n",
       "\\end{enumerate*}\n"
      ],
      "text/markdown": [
       "1. 1007\n",
       "2. 381\n",
       "\n",
       "\n"
      ],
      "text/plain": [
       "[1] 1007  381"
      ]
     },
     "metadata": {},
     "output_type": "display_data"
    },
    {
     "data": {
      "text/html": [
       "1007"
      ],
      "text/latex": [
       "1007"
      ],
      "text/markdown": [
       "1007"
      ],
      "text/plain": [
       "[1] 1007"
      ]
     },
     "metadata": {},
     "output_type": "display_data"
    },
    {
     "name": "stderr",
     "output_type": "stream",
     "text": [
      "Warning message:\n",
      "\"Ensembl will soon enforce the use of https.\n",
      "Ensure the 'host' argument includes \"https://\"\"\n"
     ]
    }
   ],
   "source": [
    "### create dataframe of DMG, DML\n",
    "dmlMatch_analysis_vector = dmlUnion_v1_tMem_F_cohortUnion_allChrom_vector\n",
    "dmlMatch_analysis_df = analysis_df[dmlMatch_analysis_vector, ]\n",
    "dim(dmlMatch_analysis_df)\n",
    "\n",
    "## create vectors\n",
    "# samples\n",
    "ccpP_sample_vector = grep(\"CCPpos\", colnames(dmlMatch_analysis_df), value=TRUE)\n",
    "ccpM_sample_vector = grep(\"CCPneg\", colnames(dmlMatch_analysis_df), value=TRUE)\n",
    "era_sample_vector = grep(\"ERA\", colnames(dmlMatch_analysis_df), value=TRUE)\n",
    "\n",
    "# delta beta\n",
    "bDif_ccpPvccpM_vector = rowMeans(dmlMatch_analysis_df[, c(ccpP_sample_vector)]) - rowMeans(dmlMatch_analysis_df[, c(ccpM_sample_vector)])\n",
    "bDif_ccpMvera_vector = rowMeans(dmlMatch_analysis_df[, c(ccpM_sample_vector)]) - rowMeans(dmlMatch_analysis_df[, c(era_sample_vector)])\n",
    "bDif_ccpPvera_vector = rowMeans(dmlMatch_analysis_df[, c(ccpP_sample_vector)]) - rowMeans(dmlMatch_analysis_df[, c(era_sample_vector)])\n",
    "\n",
    "# P-value\n",
    "pVal_ccpPvccpM_vector = apply(dmlMatch_analysis_df, 1, function (x) t.test(x[c(ccpP_sample_vector)], x[c(ccpM_sample_vector)], alternative = \"two.sided\", paired = FALSE, var.equal = FALSE)$p.value)\n",
    "pVal_ccpMvera_vector = apply(dmlMatch_analysis_df, 1, function (x) t.test(x[c(ccpM_sample_vector)], x[c(era_sample_vector)], alternative = \"two.sided\", paired = FALSE, var.equal = FALSE)$p.value)\n",
    "pVal_ccpPvera_vector = apply(dmlMatch_analysis_df, 1, function (x) t.test(x[c(ccpP_sample_vector)], x[c(era_sample_vector)], alternative = \"two.sided\", paired = FALSE, var.equal = FALSE)$p.value)\n",
    "\n",
    "# adjusted P-Value\n",
    "aPval_ccpPvccpM_vector = p.adjust(pVal_ccpPvccpM_vector, method = \"BH\", n = length(pVal_ccpPvccpM_vector))\n",
    "aPval_ccpMvera_vector = p.adjust(pVal_ccpMvera_vector, method = \"BH\", n = length(pVal_ccpMvera_vector))\n",
    "aPval_ccpPvera_vector = p.adjust(pVal_ccpPvera_vector, method = \"BH\", n = length(pVal_ccpPvera_vector))\n",
    "\n",
    "length(aPval_ccpPvera_vector)\n",
    "                             \n",
    "# DMGs\n",
    "# Create annotation data and define promoter regions and gene body regions\n",
    "# create annotation dataframe\n",
    "anno_data = getAnnotation(IlluminaHumanMethylationEPICanno.ilm10b4.hg19)\n",
    "\n",
    "# create gRanges object of defined promoter regions\n",
    "tss_gr = getHumanTSS()\n",
    "\n",
    "promoter_gr = GRanges(seqnames=paste0(\"chr\", seqnames(tss_gr)),\n",
    "                      ranges=IRanges(start=start(ranges(tss_gr))-2500, end=start(ranges(tss_gr))+500),\n",
    "                      strand=strand(tss_gr),\n",
    "                      names=tss_gr$gene)\n",
    "\n",
    "promoter_gr = sortSeqlevels(promoter_gr)\n",
    "promoter_gr = sort(promoter_gr)\n",
    "\n",
    "# create gRanges objects of defined gene body\n",
    "mart = useDataset(\"hsapiens_gene_ensembl\", useMart(biomart=\"ENSEMBL_MART_ENSEMBL\", host=\"grch37.ensembl.org\", path=\"/biomart/martservice\", dataset=\"hsapiens_gene_ensembl\"))\n",
    "geneBodyCoords_df = getBM(attributes=c(\"hgnc_symbol\", \"chromosome_name\", \"strand\", \"start_position\", \"end_position\"), mart = mart)\n",
    "\n",
    "geneBodyCoords_filtered_df = geneBodyCoords_df[(geneBodyCoords_df$chromosome_name %in% seq(1:23)),]\n",
    "geneBodyCoords_filtered_df = geneBodyCoords_filtered_df[(geneBodyCoords_filtered_df$hgnc_symbol %in% promoter_gr$names),]\n",
    "\n",
    "class(geneBodyCoords_filtered_df$strand) = \"character\"\n",
    "geneBodyCoords_filtered_df[geneBodyCoords_filtered_df$strand == \"-1\", \"strand\"] = \"-\"\n",
    "geneBodyCoords_filtered_df[geneBodyCoords_filtered_df$strand == \"1\", \"strand\"] = \"+\"\n",
    "\n",
    "\n",
    "geneBody_gr = GRanges(seqnames=paste0(\"chr\", geneBodyCoords_filtered_df$chromosome_name), \n",
    "                      ranges=IRanges(start=geneBodyCoords_filtered_df$start_position, end=geneBodyCoords_filtered_df$end_position),\n",
    "                      strand=geneBodyCoords_filtered_df$strand,\n",
    "                      names=geneBodyCoords_filtered_df$hgnc_symbol)\n",
    "                      \n",
    "geneBody_gr = sortSeqlevels(geneBody_gr)\n",
    "geneBody_gr = sort(geneBody_gr)\n",
    "\n",
    "# create gRanges objects of defined gene body + promoter region\n",
    "combinedRegion_gr = append(promoter_gr, geneBody_gr)\n",
    "\n",
    "# create vector of DMGs\n",
    "# create annotation df\n",
    "dmlMatch_analysis_an = anno_data[dmlMatch_analysis_vector,]\n",
    "# create gRanges object\n",
    "dmlMatch_analysis_gr = GRanges(seqnames=dmlMatch_analysis_an$chr,\n",
    "                ranges=IRanges(start=dmlMatch_analysis_an$pos, end=dmlMatch_analysis_an$pos),\n",
    "                strand=dmlMatch_analysis_an$strand,\n",
    "                names=dmlMatch_analysis_an$Name)\n",
    "# take overlap by comparing coordinates against promoter / gene body gRanges object\n",
    "dmlMatch_analysis_overlap_gr = subsetByOverlaps(combinedRegion_gr, dmlMatch_analysis_gr)\n",
    "\n",
    "# output of findOverlaps is a 'hits' object indicating which of the query and subject overlap\n",
    "hits = findOverlaps(combinedRegion_gr, dmlMatch_analysis_gr)\n",
    "\n",
    "# add the DMGs from hits to the dmlMatch_analysis_gr object\n",
    "mcols(dmlMatch_analysis_gr)$DMG = NA\n",
    "mcols(dmlMatch_analysis_gr)$DMG[subjectHits(hits)] = mcols(combinedRegion_gr)$names[queryHits(hits)]\n",
    "\n",
    "## create and export dataframe\n",
    "dmlMatch_output_df = data.frame(DML=dmlUnion_v1_tMem_F_cohortUnion_allChrom_vector, DMG=dmlMatch_analysis_gr$DMG)\n",
    "rownames(dmlMatch_output_df) = dmlMatch_output_df$DML\n",
    "dmlMatch_output_df$DML = NULL\n",
    "                             \n",
    "# output\n",
    "write.table(dmlMatch_output_df, paste0(dml_output_dir, \"/dmlDMGmatch_tMem_df.csv\"), sep = \"\\t\")\n",
    "\n",
    "## create and export M vals dataframe\n",
    "M_analysis_df = getM(analysis_obj)\n",
    "\n",
    "dmlMatch_M_output_df = M_analysis_df[rownames(dmlMatch_output_df), ]\n",
    "\n",
    "write.table(dmlMatch_M_output_df, paste0(dml_output_dir, \"/dmlDMGmatch_M_tMem_df.csv\"), sep = \"\\t\")"
   ]
  }
 ],
 "metadata": {
  "kernelspec": {
   "display_name": "R [conda env:jupyter_env] *",
   "language": "R",
   "name": "conda-env-jupyter_env-r"
  },
  "language_info": {
   "codemirror_mode": "r",
   "file_extension": ".r",
   "mimetype": "text/x-r-source",
   "name": "R",
   "pygments_lexer": "r",
   "version": "4.1.3"
  }
 },
 "nbformat": 4,
 "nbformat_minor": 5
}
