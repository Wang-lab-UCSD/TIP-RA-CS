{
 "cells": [
  {
   "cell_type": "code",
   "execution_count": 1,
   "id": "44948f8a-fe9e-4e3d-909e-3ec471698103",
   "metadata": {},
   "outputs": [
    {
     "name": "stderr",
     "output_type": "stream",
     "text": [
      "Loading required package: sp\n",
      "\n",
      "The legacy packages maptools, rgdal, and rgeos, underpinning the sp package,\n",
      "which was just loaded, will retire in October 2023.\n",
      "Please refer to R-spatial evolution reports for details, especially\n",
      "https://r-spatial.org/r/2023/05/15/evolution4.html.\n",
      "It may be desirable to make the sf package available;\n",
      "package maintainers should consider adding sf to Suggests:.\n",
      "The sp package is now running under evolution status 2\n",
      "     (status 2 uses the sf package in place of rgdal)\n",
      "\n",
      "Please note that 'maptools' will be retired during October 2023,\n",
      "plan transition at your earliest convenience (see\n",
      "https://r-spatial.org/r/2023/05/15/evolution4.html and earlier blogs\n",
      "for guidance);some functionality will be moved to 'sp'.\n",
      " Checking rgeos availability: FALSE\n",
      "\n",
      "Loading required package: BiocGenerics\n",
      "\n",
      "\n",
      "Attaching package: ‘BiocGenerics’\n",
      "\n",
      "\n",
      "The following object is masked from ‘package:limma’:\n",
      "\n",
      "    plotMA\n",
      "\n",
      "\n",
      "The following objects are masked from ‘package:stats’:\n",
      "\n",
      "    IQR, mad, sd, var, xtabs\n",
      "\n",
      "\n",
      "The following objects are masked from ‘package:base’:\n",
      "\n",
      "    anyDuplicated, append, as.data.frame, basename, cbind, colnames,\n",
      "    dirname, do.call, duplicated, eval, evalq, Filter, Find, get, grep,\n",
      "    grepl, intersect, is.unsorted, lapply, Map, mapply, match, mget,\n",
      "    order, paste, pmax, pmax.int, pmin, pmin.int, Position, rank,\n",
      "    rbind, Reduce, rownames, sapply, setdiff, sort, table, tapply,\n",
      "    union, unique, unsplit, which.max, which.min\n",
      "\n",
      "\n",
      "Loading required package: GenomicRanges\n",
      "\n",
      "Loading required package: stats4\n",
      "\n",
      "Loading required package: S4Vectors\n",
      "\n",
      "\n",
      "Attaching package: ‘S4Vectors’\n",
      "\n",
      "\n",
      "The following objects are masked from ‘package:Matrix’:\n",
      "\n",
      "    expand, unname\n",
      "\n",
      "\n",
      "The following objects are masked from ‘package:base’:\n",
      "\n",
      "    expand.grid, I, unname\n",
      "\n",
      "\n",
      "Loading required package: IRanges\n",
      "\n",
      "\n",
      "Attaching package: ‘IRanges’\n",
      "\n",
      "\n",
      "The following object is masked from ‘package:sp’:\n",
      "\n",
      "    %over%\n",
      "\n",
      "\n",
      "Loading required package: GenomeInfoDb\n",
      "\n",
      "Loading required package: SummarizedExperiment\n",
      "\n",
      "Loading required package: MatrixGenerics\n",
      "\n",
      "Loading required package: matrixStats\n",
      "\n",
      "\n",
      "Attaching package: ‘MatrixGenerics’\n",
      "\n",
      "\n",
      "The following objects are masked from ‘package:matrixStats’:\n",
      "\n",
      "    colAlls, colAnyNAs, colAnys, colAvgsPerRowSet, colCollapse,\n",
      "    colCounts, colCummaxs, colCummins, colCumprods, colCumsums,\n",
      "    colDiffs, colIQRDiffs, colIQRs, colLogSumExps, colMadDiffs,\n",
      "    colMads, colMaxs, colMeans2, colMedians, colMins, colOrderStats,\n",
      "    colProds, colQuantiles, colRanges, colRanks, colSdDiffs, colSds,\n",
      "    colSums2, colTabulates, colVarDiffs, colVars, colWeightedMads,\n",
      "    colWeightedMeans, colWeightedMedians, colWeightedSds,\n",
      "    colWeightedVars, rowAlls, rowAnyNAs, rowAnys, rowAvgsPerColSet,\n",
      "    rowCollapse, rowCounts, rowCummaxs, rowCummins, rowCumprods,\n",
      "    rowCumsums, rowDiffs, rowIQRDiffs, rowIQRs, rowLogSumExps,\n",
      "    rowMadDiffs, rowMads, rowMaxs, rowMeans2, rowMedians, rowMins,\n",
      "    rowOrderStats, rowProds, rowQuantiles, rowRanges, rowRanks,\n",
      "    rowSdDiffs, rowSds, rowSums2, rowTabulates, rowVarDiffs, rowVars,\n",
      "    rowWeightedMads, rowWeightedMeans, rowWeightedMedians,\n",
      "    rowWeightedSds, rowWeightedVars\n",
      "\n",
      "\n",
      "Loading required package: Biobase\n",
      "\n",
      "Welcome to Bioconductor\n",
      "\n",
      "    Vignettes contain introductory material; view with\n",
      "    'browseVignettes()'. To cite Bioconductor, see\n",
      "    'citation(\"Biobase\")', and for packages 'citation(\"pkgname\")'.\n",
      "\n",
      "\n",
      "\n",
      "Attaching package: ‘Biobase’\n",
      "\n",
      "\n",
      "The following object is masked from ‘package:MatrixGenerics’:\n",
      "\n",
      "    rowMedians\n",
      "\n",
      "\n",
      "The following objects are masked from ‘package:matrixStats’:\n",
      "\n",
      "    anyMissing, rowMedians\n",
      "\n",
      "\n",
      "Loading required package: Biostrings\n",
      "\n",
      "Loading required package: XVector\n",
      "\n",
      "\n",
      "Attaching package: ‘Biostrings’\n",
      "\n",
      "\n",
      "The following object is masked from ‘package:base’:\n",
      "\n",
      "    strsplit\n",
      "\n",
      "\n",
      "Loading required package: bumphunter\n",
      "\n",
      "Loading required package: foreach\n",
      "\n",
      "Loading required package: iterators\n",
      "\n",
      "Loading required package: parallel\n",
      "\n",
      "Loading required package: locfit\n",
      "\n",
      "locfit 1.5-9.8 \t 2023-06-11\n",
      "\n",
      "Setting options('download.file.method.GEOquery'='auto')\n",
      "\n",
      "Setting options('GEOquery.inmemory.gpl'=FALSE)\n",
      "\n"
     ]
    }
   ],
   "source": [
    "### load needed libraries\n",
    "#if(!require(limma)) install.packages(\"limma\")\n",
    "#if(!require(RColorBrewer)) install.packages(\"RColorBrewer\")\n",
    "#if(!require(\"maptools\")) install.packages(\"maptools\")\n",
    "#if(!require(\"scatterplot3d\")) install.packages(\"scatterplot3d\")\n",
    "\n",
    "library(\"Matrix\")\n",
    "library(\"irlba\")\n",
    "library(\"limma\")\n",
    "\n",
    "library(\"RColorBrewer\")\n",
    "library(\"maptools\")\n",
    "library(\"scatterplot3d\")\n",
    "\n",
    "library(\"minfi\")"
   ]
  },
  {
   "cell_type": "code",
   "execution_count": 2,
   "id": "9d65e3ce-3d8c-4129-80af-3958df22c4d9",
   "metadata": {},
   "outputs": [
    {
     "name": "stdout",
     "output_type": "stream",
     "text": [
      "[1] \"/stg3/data2/resource3/project/RA-TIP-CS/Analysis/YesSNPqc_Female_Allchrom/MDS\"\n"
     ]
    }
   ],
   "source": [
    "### import necessary variables\n",
    "project_master_dir = \"/stg3/data2/resource3/project/RA-TIP-CS\"\n",
    "\n",
    "# input\n",
    "analysis_object_fp = paste0(project_master_dir, \"/Data/Processed_Data\", \"/02.gmSet_snpQCfiltered_All_dasen.RDS\") # Female only, All Chrom, yes SNP QC filtering\n",
    "donor_metadata_fp = paste0(project_master_dir, \"/Data/Metadata/TIP-CS_metadata_HIPAAcomp.csv\") \n",
    "\n",
    "\n",
    "# output directories\n",
    "version_dir = \"/YesSNPqc_Female_Allchrom\"\n",
    "\n",
    "mds_output_dir = paste0(project_master_dir, \"/Analysis\", version_dir, \"/MDS\")\n",
    "dir.create(file.path(mds_output_dir), showWarnings = FALSE)\n"
   ]
  },
  {
   "cell_type": "code",
   "execution_count": 3,
   "id": "23c5683e-08ae-4729-b708-74e1eb31ff9b",
   "metadata": {},
   "outputs": [
    {
     "data": {
      "text/html": [
       "<style>\n",
       ".list-inline {list-style: none; margin:0; padding: 0}\n",
       ".list-inline>li {display: inline-block}\n",
       ".list-inline>li:not(:last-child)::after {content: \"\\00b7\"; padding: 0 .5ex}\n",
       "</style>\n",
       "<ol class=list-inline><li>789935</li><li>381</li></ol>\n"
      ],
      "text/latex": [
       "\\begin{enumerate*}\n",
       "\\item 789935\n",
       "\\item 381\n",
       "\\end{enumerate*}\n"
      ],
      "text/markdown": [
       "1. 789935\n",
       "2. 381\n",
       "\n",
       "\n"
      ],
      "text/plain": [
       "[1] 789935    381"
      ]
     },
     "metadata": {},
     "output_type": "display_data"
    }
   ],
   "source": [
    "### Perform MDS Analysis based on all post-QC loci and using only female samples\n",
    "# define matrix\n",
    "mSet_analysis_obj = readRDS(analysis_object_fp)\n",
    "beta_analysis_df = getBeta(mSet_analysis_obj)\n",
    "M_analysis_df = getM(mSet_analysis_obj)\n",
    "\n",
    "dim(M_analysis_df)"
   ]
  },
  {
   "cell_type": "code",
   "execution_count": 4,
   "id": "b8377c1c-a172-43f4-90de-7bd3dda8f59b",
   "metadata": {},
   "outputs": [],
   "source": [
    "# remove rows with NAs\n",
    "keepIndex = apply(M_analysis_df,1,function(x){!any(is.na(x))})\n",
    "M_analysis_df = M_analysis_df[keepIndex,]"
   ]
  },
  {
   "cell_type": "code",
   "execution_count": 5,
   "id": "a081f9dc-a3c0-454c-9028-bda5b1f40409",
   "metadata": {},
   "outputs": [],
   "source": [
    "### MDS analysis \n",
    "# run MDS analysis\n",
    "dist_obj = dist(t(M_analysis_df))\n",
    "fit_obj = cmdscale(dist_obj, eig=TRUE, k=3)\n",
    "\n",
    "a = fit_obj$points[,1]\n",
    "b = fit_obj$points[,2]\n",
    "c = fit_obj$points[,3]\n",
    "\n",
    "xname = \"Dimension 1\"\n",
    "yname = \"Dimension 2\"\n",
    "zname = \"Dimension 3\"\n",
    "\n",
    "# define color universe\n",
    "qual_col_pals = brewer.pal.info[brewer.pal.info$category == 'qual',]\n",
    "col_vector = unlist(mapply(brewer.pal, qual_col_pals$maxcolors, rownames(qual_col_pals)))\n",
    "\n",
    "# create labels\n",
    "id = colnames(M_analysis_df)\n",
    "idSplit = strsplit(id, split = \"_\", fixed = T)\n",
    "\n",
    "lab_id = sapply(idSplit, `[`, 2)\n",
    "patient_id = sapply(idSplit, `[`, 1)\n",
    "\n",
    "cell_type = as.vector(unlist(lapply(idSplit, function(x) x[length(x) -1])))\n",
    "RA_status = as.vector(unlist(lapply(idSplit, function(x) x[length(x)])))"
   ]
  },
  {
   "cell_type": "code",
   "execution_count": 6,
   "id": "2c0eb877-c447-4299-afc5-f61e9fd80414",
   "metadata": {},
   "outputs": [
    {
     "data": {
      "image/png": "[encoded data removed]",
      "text/plain": [
       "plot without title"
      ]
     },
     "metadata": {
      "image/png": {
       "height": 360,
       "width": 360
      }
     },
     "output_type": "display_data"
    },
    {
     "data": {
      "text/html": [
       "<strong>png:</strong> 2"
      ],
      "text/latex": [
       "\\textbf{png:} 2"
      ],
      "text/markdown": [
       "**png:** 2"
      ],
      "text/plain": [
       "png \n",
       "  2 "
      ]
     },
     "metadata": {},
     "output_type": "display_data"
    },
    {
     "data": {
      "text/html": [
       "<strong>png:</strong> 2"
      ],
      "text/latex": [
       "\\textbf{png:} 2"
      ],
      "text/markdown": [
       "**png:** 2"
      ],
      "text/plain": [
       "png \n",
       "  2 "
      ]
     },
     "metadata": {},
     "output_type": "display_data"
    },
    {
     "data": {
      "image/png": "[encoded data removed]",
      "text/plain": [
       "Plot with title “3D Multi-Dimensional Scaling Plot by Cell Type”"
      ]
     },
     "metadata": {
      "image/png": {
       "height": 300,
       "width": 360
      }
     },
     "output_type": "display_data"
    }
   ],
   "source": [
    "# Plot chart\n",
    "plotColor_driver = cell_type\n",
    "\n",
    "plotColors = c(\"red\", \"blue\", \"grey39\")\n",
    "names(plotColors) = levels(factor(plotColor_driver))\n",
    "colors = unname(plotColors[plotColor_driver])\n",
    "\n",
    "shapes = rep(19, length(plotColor_driver))\n",
    "\n",
    "dd = as.character(id)\n",
    "names(colors) = unique(dd)\n",
    "names(shapes) = unique(dd)\n",
    "\n",
    "# plot MD1v MD2 on jupyter with sample labels\n",
    "options(repr.plot.width=6, repr.plot.height=6)\n",
    "par(mar=c(5,6,1,1)+.1)\n",
    "plot(a, b, pch=16, \n",
    "     col=colors,\n",
    "    xlab = xname, ylab = yname)\n",
    "\n",
    "# plot 3D chart on jupyter\n",
    "options(repr.plot.width=6, repr.plot.height=5)\n",
    "scatterplot3d(a, b, c, pch = 16, color=colors, main=\"3D Multi-Dimensional Scaling Plot by Cell Type\", angle = 120, \n",
    "              xlab = xname, ylab = yname, zlab = zname)\n",
    "legend(\"bottom\", legend = levels(factor(plotColor_driver)),\n",
    "       col= plotColors, \n",
    "       pch = shapes, \n",
    "       inset = -0.30, xpd = TRUE, horiz = TRUE)\n",
    "\n",
    "# output to directory\n",
    "setwd(mds_output_dir)\n",
    "png(\"RA.TIP.3dMDS_cellType_plot.png\", width = 6, height = 5, res = 1200, units = \"in\")\n",
    "scatterplot3d(a, b, c, pch = 16, color=colors, main=\"3D Multi-Dimensional Scaling Plot by Cell Type\", angle = 120, \n",
    "              xlab = xname, ylab = yname, zlab = zname)\n",
    "legend(\"bottom\", legend = levels(factor(plotColor_driver)),\n",
    "       col= plotColors, \n",
    "       pch = shapes, \n",
    "       inset = -0.30, xpd = TRUE, horiz = TRUE)\n",
    "dev.off()\n",
    "\n",
    "# output to directory\n",
    "setwd(mds_output_dir)\n",
    "pdf(\"RA.TIP.3dMDS_cellType_plot.pdf\", width = 6, height = 5)\n",
    "scatterplot3d(a, b, c, pch = 16, color=colors, , angle = 120, \n",
    "              xlab = xname, ylab = yname, zlab = zname)\n",
    "dev.off()"
   ]
  },
  {
   "cell_type": "code",
   "execution_count": 8,
   "id": "85c4bc43-8e72-43bf-b7cb-28b81d3571a3",
   "metadata": {},
   "outputs": [],
   "source": [
    "# output source data\n",
    "figureSourceData_df = data.frame(\"Dim1\" = a,\n",
    "                                 \"Dim2\" = b,\n",
    "                                 \"Dim3\" = c,\n",
    "                                 \"color\" = colors)\n",
    "rownames(figureSourceData_df) = names(colors)\n",
    "\n",
    "setwd(mds_output_dir)\n",
    "write.csv(figureSourceData_df,\"RA.TIP.3dMDS_cellType_data.csv\", row.names=TRUE)"
   ]
  }
 ],
 "metadata": {
  "kernelspec": {
   "display_name": "R [conda env:jupyter_env] *",
   "language": "R",
   "name": "conda-env-jupyter_env-r"
  },
  "language_info": {
   "codemirror_mode": "r",
   "file_extension": ".r",
   "mimetype": "text/x-r-source",
   "name": "R",
   "pygments_lexer": "r",
   "version": "4.1.3"
  }
 },
 "nbformat": 4,
 "nbformat_minor": 5
}
